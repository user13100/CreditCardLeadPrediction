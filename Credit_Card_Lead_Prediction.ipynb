{
 "cells": [
  {
   "cell_type": "markdown",
   "id": "417e0642",
   "metadata": {},
   "source": [
    "# Credit Card Lead Prediction"
   ]
  },
  {
   "cell_type": "markdown",
   "id": "65800643",
   "metadata": {},
   "source": [
    "### PROBLEM STATEMENT :\n",
    "\n",
    "Happy Customer Bank is a mid-sized private bank that deals in all kinds of banking products, like Savings accounts, Current accounts, investment products, credit products, among other offerings.\n",
    "\n",
    "The bank also cross-sells products to its existing customers and to do so they use different kinds of communication like tele-calling, e-mails, recommendations on net banking, mobile banking, etc. \n",
    "\n",
    "In this case, the Happy Customer Bank wants to cross sell its credit cards to its existing customers. The bank has identified a set of customers that are eligible for taking these credit cards.\n",
    "\n",
    "Now, the bank is looking for your help in identifying customers that could show higher intent towards a recommended credit card, given:\n",
    "\n",
    "- Customer details (gender, age, region etc.)\n",
    "- Details of his/her relationship with the bank (Channel_Code,Vintage, 'Avg_Asset_Value etc.)"
   ]
  },
  {
   "cell_type": "markdown",
   "id": "cd121433-9262-4f4e-90a2-088e1b365d47",
   "metadata": {},
   "source": [
    "### OBJECTIVE :\n",
    "\n",
    "- Model Building, training the model and evaluating using the roc_auc_score (>75%) for the test set\n",
    "- Help identify customers that could show higher intent towards obtaining a credit card"
   ]
  },
  {
   "cell_type": "markdown",
   "id": "91841e7b-b70f-4d4f-bf7a-881dd6f62f19",
   "metadata": {},
   "source": [
    "### DATA:\n",
    "\n",
    "- Has Train and Test Datasets\n",
    "\n",
    "### - Dataset:\n",
    "\n",
    "    - ID:\n",
    "    - Gender: \n",
    "    - Age:\n",
    "    - Region_Code:\n",
    "    - Occupation:\n",
    "    - Channel_Code:\n",
    "    - Vintage:\n",
    "    - Credit_Product:\n",
    "    - Avg_Account_Balance:\n",
    "    - Is_Active:\n",
    "    - Is_Lead(Target)"
   ]
  },
  {
   "cell_type": "markdown",
   "id": "e4975c5c",
   "metadata": {},
   "source": [
    "### Let us import the packages and load the dataset"
   ]
  },
  {
   "cell_type": "code",
   "execution_count": 1,
   "id": "3d8e2af1",
   "metadata": {},
   "outputs": [],
   "source": [
    "import pandas as pd\n",
    "import numpy as np\n",
    "import seaborn as sns\n",
    "import matplotlib.pyplot as plt"
   ]
  },
  {
   "cell_type": "code",
   "execution_count": 2,
   "id": "f462259a",
   "metadata": {},
   "outputs": [],
   "source": [
    "train_df= pd.read_csv('train_credit.csv')\n",
    "test_df= pd.read_csv('test_credit.csv')\n",
    "\n",
    "train_df['source']='train'\n",
    "test_df['source']='test'"
   ]
  },
  {
   "cell_type": "markdown",
   "id": "0c617999",
   "metadata": {},
   "source": [
    "## Exploratory Data Analysis"
   ]
  },
  {
   "cell_type": "markdown",
   "id": "108fc8a1-d79e-4e48-852d-4617d401a417",
   "metadata": {},
   "source": [
    "- Identifying the data types of diff variables/features\n",
    "- Distribution & Description of/about the data\n",
    "- Correlation between indep & dep var\n",
    "- Correlation between indep among themselves (multicollinearity)\n",
    "- Finding missing values\n",
    " -Identifying outliers\n",
    "- Finding duplicate data\n",
    "- Finding whther your dataset is imbalanced (for classification problems only)\n",
    "- Finding insignificant features\n",
    "- Data validity \n",
    "- Identifying which variable probably needs to be \"Scaled\"\n",
    "- Identifying what type of encoding will be needed for the categorical variables"
   ]
  },
  {
   "cell_type": "code",
   "execution_count": 3,
   "id": "31480528",
   "metadata": {},
   "outputs": [
    {
     "data": {
      "text/html": [
       "<div>\n",
       "<style scoped>\n",
       "    .dataframe tbody tr th:only-of-type {\n",
       "        vertical-align: middle;\n",
       "    }\n",
       "\n",
       "    .dataframe tbody tr th {\n",
       "        vertical-align: top;\n",
       "    }\n",
       "\n",
       "    .dataframe thead th {\n",
       "        text-align: right;\n",
       "    }\n",
       "</style>\n",
       "<table border=\"1\" class=\"dataframe\">\n",
       "  <thead>\n",
       "    <tr style=\"text-align: right;\">\n",
       "      <th></th>\n",
       "      <th>ID</th>\n",
       "      <th>Gender</th>\n",
       "      <th>Age</th>\n",
       "      <th>Region_Code</th>\n",
       "      <th>Occupation</th>\n",
       "      <th>Channel_Code</th>\n",
       "      <th>Vintage</th>\n",
       "      <th>Credit_Product</th>\n",
       "      <th>Avg_Account_Balance</th>\n",
       "      <th>Is_Active</th>\n",
       "      <th>Is_Lead</th>\n",
       "      <th>source</th>\n",
       "    </tr>\n",
       "  </thead>\n",
       "  <tbody>\n",
       "    <tr>\n",
       "      <th>0</th>\n",
       "      <td>NNVBBKZB</td>\n",
       "      <td>Female</td>\n",
       "      <td>73</td>\n",
       "      <td>RG268</td>\n",
       "      <td>Other</td>\n",
       "      <td>X3</td>\n",
       "      <td>43</td>\n",
       "      <td>No</td>\n",
       "      <td>1045696</td>\n",
       "      <td>No</td>\n",
       "      <td>0</td>\n",
       "      <td>train</td>\n",
       "    </tr>\n",
       "    <tr>\n",
       "      <th>1</th>\n",
       "      <td>IDD62UNG</td>\n",
       "      <td>Female</td>\n",
       "      <td>30</td>\n",
       "      <td>RG277</td>\n",
       "      <td>Salaried</td>\n",
       "      <td>X1</td>\n",
       "      <td>32</td>\n",
       "      <td>No</td>\n",
       "      <td>581988</td>\n",
       "      <td>No</td>\n",
       "      <td>0</td>\n",
       "      <td>train</td>\n",
       "    </tr>\n",
       "    <tr>\n",
       "      <th>2</th>\n",
       "      <td>HD3DSEMC</td>\n",
       "      <td>Female</td>\n",
       "      <td>56</td>\n",
       "      <td>RG268</td>\n",
       "      <td>Self_Employed</td>\n",
       "      <td>X3</td>\n",
       "      <td>26</td>\n",
       "      <td>No</td>\n",
       "      <td>1484315</td>\n",
       "      <td>Yes</td>\n",
       "      <td>0</td>\n",
       "      <td>train</td>\n",
       "    </tr>\n",
       "  </tbody>\n",
       "</table>\n",
       "</div>"
      ],
      "text/plain": [
       "         ID  Gender  Age Region_Code     Occupation Channel_Code  Vintage  \\\n",
       "0  NNVBBKZB  Female   73       RG268          Other           X3       43   \n",
       "1  IDD62UNG  Female   30       RG277       Salaried           X1       32   \n",
       "2  HD3DSEMC  Female   56       RG268  Self_Employed           X3       26   \n",
       "\n",
       "  Credit_Product  Avg_Account_Balance Is_Active  Is_Lead source  \n",
       "0             No              1045696        No        0  train  \n",
       "1             No               581988        No        0  train  \n",
       "2             No              1484315       Yes        0  train  "
      ]
     },
     "execution_count": 3,
     "metadata": {},
     "output_type": "execute_result"
    }
   ],
   "source": [
    "train_df.head(3)"
   ]
  },
  {
   "cell_type": "code",
   "execution_count": 4,
   "id": "9a4b4e25",
   "metadata": {},
   "outputs": [
    {
     "data": {
      "text/plain": [
       "(245725, 12)"
      ]
     },
     "execution_count": 4,
     "metadata": {},
     "output_type": "execute_result"
    }
   ],
   "source": [
    "train_df.shape"
   ]
  },
  {
   "cell_type": "code",
   "execution_count": 5,
   "id": "32b2fa72",
   "metadata": {},
   "outputs": [
    {
     "data": {
      "text/html": [
       "<div>\n",
       "<style scoped>\n",
       "    .dataframe tbody tr th:only-of-type {\n",
       "        vertical-align: middle;\n",
       "    }\n",
       "\n",
       "    .dataframe tbody tr th {\n",
       "        vertical-align: top;\n",
       "    }\n",
       "\n",
       "    .dataframe thead th {\n",
       "        text-align: right;\n",
       "    }\n",
       "</style>\n",
       "<table border=\"1\" class=\"dataframe\">\n",
       "  <thead>\n",
       "    <tr style=\"text-align: right;\">\n",
       "      <th></th>\n",
       "      <th>ID</th>\n",
       "      <th>Gender</th>\n",
       "      <th>Age</th>\n",
       "      <th>Region_Code</th>\n",
       "      <th>Occupation</th>\n",
       "      <th>Channel_Code</th>\n",
       "      <th>Vintage</th>\n",
       "      <th>Credit_Product</th>\n",
       "      <th>Avg_Account_Balance</th>\n",
       "      <th>Is_Active</th>\n",
       "      <th>source</th>\n",
       "    </tr>\n",
       "  </thead>\n",
       "  <tbody>\n",
       "    <tr>\n",
       "      <th>0</th>\n",
       "      <td>VBENBARO</td>\n",
       "      <td>Male</td>\n",
       "      <td>29</td>\n",
       "      <td>RG254</td>\n",
       "      <td>Other</td>\n",
       "      <td>X1</td>\n",
       "      <td>25</td>\n",
       "      <td>Yes</td>\n",
       "      <td>742366</td>\n",
       "      <td>No</td>\n",
       "      <td>test</td>\n",
       "    </tr>\n",
       "    <tr>\n",
       "      <th>1</th>\n",
       "      <td>CCMEWNKY</td>\n",
       "      <td>Male</td>\n",
       "      <td>43</td>\n",
       "      <td>RG268</td>\n",
       "      <td>Other</td>\n",
       "      <td>X2</td>\n",
       "      <td>49</td>\n",
       "      <td>NaN</td>\n",
       "      <td>925537</td>\n",
       "      <td>No</td>\n",
       "      <td>test</td>\n",
       "    </tr>\n",
       "    <tr>\n",
       "      <th>2</th>\n",
       "      <td>VK3KGA9M</td>\n",
       "      <td>Male</td>\n",
       "      <td>31</td>\n",
       "      <td>RG270</td>\n",
       "      <td>Salaried</td>\n",
       "      <td>X1</td>\n",
       "      <td>14</td>\n",
       "      <td>No</td>\n",
       "      <td>215949</td>\n",
       "      <td>No</td>\n",
       "      <td>test</td>\n",
       "    </tr>\n",
       "  </tbody>\n",
       "</table>\n",
       "</div>"
      ],
      "text/plain": [
       "         ID Gender  Age Region_Code Occupation Channel_Code  Vintage  \\\n",
       "0  VBENBARO   Male   29       RG254      Other           X1       25   \n",
       "1  CCMEWNKY   Male   43       RG268      Other           X2       49   \n",
       "2  VK3KGA9M   Male   31       RG270   Salaried           X1       14   \n",
       "\n",
       "  Credit_Product  Avg_Account_Balance Is_Active source  \n",
       "0            Yes               742366        No   test  \n",
       "1            NaN               925537        No   test  \n",
       "2             No               215949        No   test  "
      ]
     },
     "execution_count": 5,
     "metadata": {},
     "output_type": "execute_result"
    }
   ],
   "source": [
    "test_df.head(3)"
   ]
  },
  {
   "cell_type": "code",
   "execution_count": 6,
   "id": "5f4ef60a",
   "metadata": {},
   "outputs": [
    {
     "data": {
      "text/plain": [
       "(105312, 11)"
      ]
     },
     "execution_count": 6,
     "metadata": {},
     "output_type": "execute_result"
    }
   ],
   "source": [
    "test_df.shape"
   ]
  },
  {
   "cell_type": "code",
   "execution_count": 7,
   "id": "3c3d68ad",
   "metadata": {},
   "outputs": [
    {
     "name": "stdout",
     "output_type": "stream",
     "text": [
      "<class 'pandas.core.frame.DataFrame'>\n",
      "RangeIndex: 245725 entries, 0 to 245724\n",
      "Data columns (total 12 columns):\n",
      " #   Column               Non-Null Count   Dtype \n",
      "---  ------               --------------   ----- \n",
      " 0   ID                   245725 non-null  object\n",
      " 1   Gender               245725 non-null  object\n",
      " 2   Age                  245725 non-null  int64 \n",
      " 3   Region_Code          245725 non-null  object\n",
      " 4   Occupation           245725 non-null  object\n",
      " 5   Channel_Code         245725 non-null  object\n",
      " 6   Vintage              245725 non-null  int64 \n",
      " 7   Credit_Product       216400 non-null  object\n",
      " 8   Avg_Account_Balance  245725 non-null  int64 \n",
      " 9   Is_Active            245725 non-null  object\n",
      " 10  Is_Lead              245725 non-null  int64 \n",
      " 11  source               245725 non-null  object\n",
      "dtypes: int64(4), object(8)\n",
      "memory usage: 22.5+ MB\n"
     ]
    }
   ],
   "source": [
    "train_df.info()"
   ]
  },
  {
   "cell_type": "code",
   "execution_count": 8,
   "id": "ff2f6d76",
   "metadata": {},
   "outputs": [],
   "source": [
    "combine_df=train_df.append(test_df)"
   ]
  },
  {
   "cell_type": "code",
   "execution_count": 9,
   "id": "4c452898",
   "metadata": {},
   "outputs": [
    {
     "data": {
      "text/plain": [
       "train    245725\n",
       "test     105312\n",
       "Name: source, dtype: int64"
      ]
     },
     "execution_count": 9,
     "metadata": {},
     "output_type": "execute_result"
    }
   ],
   "source": [
    "combine_df.source.value_counts()"
   ]
  },
  {
   "cell_type": "code",
   "execution_count": 10,
   "id": "f361dee0",
   "metadata": {},
   "outputs": [
    {
     "name": "stdout",
     "output_type": "stream",
     "text": [
      "<class 'pandas.core.frame.DataFrame'>\n",
      "Int64Index: 351037 entries, 0 to 105311\n",
      "Data columns (total 12 columns):\n",
      " #   Column               Non-Null Count   Dtype   \n",
      "---  ------               --------------   -----   \n",
      " 0   ID                   351037 non-null  object  \n",
      " 1   Gender               351037 non-null  category\n",
      " 2   Age                  351037 non-null  int64   \n",
      " 3   Region_Code          351037 non-null  category\n",
      " 4   Occupation           351037 non-null  category\n",
      " 5   Channel_Code         351037 non-null  category\n",
      " 6   Vintage              351037 non-null  int64   \n",
      " 7   Credit_Product       309190 non-null  category\n",
      " 8   Avg_Account_Balance  351037 non-null  int64   \n",
      " 9   Is_Active            351037 non-null  category\n",
      " 10  Is_Lead              245725 non-null  float64 \n",
      " 11  source               351037 non-null  object  \n",
      "dtypes: category(6), float64(1), int64(3), object(2)\n",
      "memory usage: 20.8+ MB\n"
     ]
    }
   ],
   "source": [
    "# Changing data type of categorical variables \n",
    "\n",
    "combine_df['Gender']= combine_df['Gender'].astype('category')\n",
    "combine_df['Occupation']= combine_df['Occupation'].astype('category')\n",
    "combine_df['Is_Active']= combine_df['Is_Active'].astype('category')\n",
    "combine_df['Region_Code']= combine_df['Region_Code'].astype('category')\n",
    "combine_df['Channel_Code']= combine_df['Channel_Code'].astype('category')\n",
    "combine_df['Credit_Product']= combine_df['Credit_Product'].astype('category')\n",
    "\n",
    "combine_df.info()"
   ]
  },
  {
   "cell_type": "markdown",
   "id": "14d35f69",
   "metadata": {},
   "source": [
    "### Data Cleaning"
   ]
  },
  {
   "cell_type": "code",
   "execution_count": 11,
   "id": "a5795529",
   "metadata": {},
   "outputs": [
    {
     "data": {
      "text/plain": [
       "ID                          0\n",
       "Gender                      0\n",
       "Age                         0\n",
       "Region_Code                 0\n",
       "Occupation                  0\n",
       "Channel_Code                0\n",
       "Vintage                     0\n",
       "Credit_Product          41847\n",
       "Avg_Account_Balance         0\n",
       "Is_Active                   0\n",
       "Is_Lead                105312\n",
       "source                      0\n",
       "dtype: int64"
      ]
     },
     "execution_count": 11,
     "metadata": {},
     "output_type": "execute_result"
    }
   ],
   "source": [
    "# Checking null values\n",
    "\n",
    "combine_df.isnull().sum()"
   ]
  },
  {
   "cell_type": "markdown",
   "id": "30db9512-f3a8-46d4-91ab-3883a2e53f62",
   "metadata": {},
   "source": [
    "##### Is_Lead has null values from test dataframe, but we need to fix null values with CreditProduct"
   ]
  },
  {
   "cell_type": "code",
   "execution_count": 12,
   "id": "c711a95a",
   "metadata": {},
   "outputs": [
    {
     "data": {
      "text/plain": [
       "No     205965\n",
       "Yes    103225\n",
       "Name: Credit_Product, dtype: int64"
      ]
     },
     "execution_count": 12,
     "metadata": {},
     "output_type": "execute_result"
    }
   ],
   "source": [
    "# Dealing with the null values of Credit_Product\n",
    "\n",
    "combine_df['Credit_Product'].value_counts()"
   ]
  },
  {
   "cell_type": "code",
   "execution_count": 13,
   "id": "500fd369",
   "metadata": {},
   "outputs": [],
   "source": [
    "# Filling with the \"No\" value since it is occuring more frequently\n",
    "\n",
    "combine_df['Credit_Product'].fillna('Yes', inplace= True)"
   ]
  },
  {
   "cell_type": "code",
   "execution_count": 14,
   "id": "86b8267b",
   "metadata": {},
   "outputs": [],
   "source": [
    "combine_df['Credit_Product']= combine_df['Credit_Product'].astype('category')"
   ]
  },
  {
   "cell_type": "code",
   "execution_count": 15,
   "id": "4ec33416",
   "metadata": {},
   "outputs": [
    {
     "name": "stdout",
     "output_type": "stream",
     "text": [
      "<class 'pandas.core.frame.DataFrame'>\n",
      "Int64Index: 351037 entries, 0 to 105311\n",
      "Data columns (total 12 columns):\n",
      " #   Column               Non-Null Count   Dtype   \n",
      "---  ------               --------------   -----   \n",
      " 0   ID                   351037 non-null  object  \n",
      " 1   Gender               351037 non-null  category\n",
      " 2   Age                  351037 non-null  int64   \n",
      " 3   Region_Code          351037 non-null  category\n",
      " 4   Occupation           351037 non-null  category\n",
      " 5   Channel_Code         351037 non-null  category\n",
      " 6   Vintage              351037 non-null  int64   \n",
      " 7   Credit_Product       351037 non-null  category\n",
      " 8   Avg_Account_Balance  351037 non-null  int64   \n",
      " 9   Is_Active            351037 non-null  category\n",
      " 10  Is_Lead              245725 non-null  float64 \n",
      " 11  source               351037 non-null  object  \n",
      "dtypes: category(6), float64(1), int64(3), object(2)\n",
      "memory usage: 20.8+ MB\n"
     ]
    }
   ],
   "source": [
    "combine_df.info()"
   ]
  },
  {
   "cell_type": "code",
   "execution_count": 16,
   "id": "cc32129b",
   "metadata": {},
   "outputs": [],
   "source": [
    "train_df = combine_df[combine_df.source=='train']"
   ]
  },
  {
   "cell_type": "code",
   "execution_count": 17,
   "id": "25fbda9e",
   "metadata": {},
   "outputs": [
    {
     "name": "stdout",
     "output_type": "stream",
     "text": [
      "<class 'pandas.core.frame.DataFrame'>\n",
      "Int64Index: 245725 entries, 0 to 245724\n",
      "Data columns (total 12 columns):\n",
      " #   Column               Non-Null Count   Dtype   \n",
      "---  ------               --------------   -----   \n",
      " 0   ID                   245725 non-null  object  \n",
      " 1   Gender               245725 non-null  category\n",
      " 2   Age                  245725 non-null  int64   \n",
      " 3   Region_Code          245725 non-null  category\n",
      " 4   Occupation           245725 non-null  category\n",
      " 5   Channel_Code         245725 non-null  category\n",
      " 6   Vintage              245725 non-null  int64   \n",
      " 7   Credit_Product       245725 non-null  category\n",
      " 8   Avg_Account_Balance  245725 non-null  int64   \n",
      " 9   Is_Active            245725 non-null  category\n",
      " 10  Is_Lead              245725 non-null  float64 \n",
      " 11  source               245725 non-null  object  \n",
      "dtypes: category(6), float64(1), int64(3), object(2)\n",
      "memory usage: 14.5+ MB\n"
     ]
    }
   ],
   "source": [
    "train_df.info()"
   ]
  },
  {
   "cell_type": "markdown",
   "id": "8de663d1",
   "metadata": {},
   "source": [
    "### Comprehending independent variables\n",
    "#### Let's look into the categorical and numerical features in a seperate manner for better understanding"
   ]
  },
  {
   "cell_type": "code",
   "execution_count": 18,
   "id": "1780216e",
   "metadata": {},
   "outputs": [],
   "source": [
    "credit_categorical = train_df.select_dtypes(include = ['category','object']).copy()\n",
    "credit_numerical = train_df.select_dtypes(include = ['int64','float64']).copy()"
   ]
  },
  {
   "cell_type": "markdown",
   "id": "5e0a57b8",
   "metadata": {},
   "source": [
    "### Exploring Categorical variables: Bivariate Analysis"
   ]
  },
  {
   "cell_type": "code",
   "execution_count": 19,
   "id": "6349ae0a",
   "metadata": {},
   "outputs": [
    {
     "data": {
      "text/html": [
       "<div>\n",
       "<style scoped>\n",
       "    .dataframe tbody tr th:only-of-type {\n",
       "        vertical-align: middle;\n",
       "    }\n",
       "\n",
       "    .dataframe tbody tr th {\n",
       "        vertical-align: top;\n",
       "    }\n",
       "\n",
       "    .dataframe thead th {\n",
       "        text-align: right;\n",
       "    }\n",
       "</style>\n",
       "<table border=\"1\" class=\"dataframe\">\n",
       "  <thead>\n",
       "    <tr style=\"text-align: right;\">\n",
       "      <th></th>\n",
       "      <th>ID</th>\n",
       "      <th>Gender</th>\n",
       "      <th>Region_Code</th>\n",
       "      <th>Occupation</th>\n",
       "      <th>Channel_Code</th>\n",
       "      <th>Credit_Product</th>\n",
       "      <th>Is_Active</th>\n",
       "      <th>source</th>\n",
       "    </tr>\n",
       "  </thead>\n",
       "  <tbody>\n",
       "    <tr>\n",
       "      <th>0</th>\n",
       "      <td>NNVBBKZB</td>\n",
       "      <td>Female</td>\n",
       "      <td>RG268</td>\n",
       "      <td>Other</td>\n",
       "      <td>X3</td>\n",
       "      <td>No</td>\n",
       "      <td>No</td>\n",
       "      <td>train</td>\n",
       "    </tr>\n",
       "    <tr>\n",
       "      <th>1</th>\n",
       "      <td>IDD62UNG</td>\n",
       "      <td>Female</td>\n",
       "      <td>RG277</td>\n",
       "      <td>Salaried</td>\n",
       "      <td>X1</td>\n",
       "      <td>No</td>\n",
       "      <td>No</td>\n",
       "      <td>train</td>\n",
       "    </tr>\n",
       "    <tr>\n",
       "      <th>2</th>\n",
       "      <td>HD3DSEMC</td>\n",
       "      <td>Female</td>\n",
       "      <td>RG268</td>\n",
       "      <td>Self_Employed</td>\n",
       "      <td>X3</td>\n",
       "      <td>No</td>\n",
       "      <td>Yes</td>\n",
       "      <td>train</td>\n",
       "    </tr>\n",
       "    <tr>\n",
       "      <th>3</th>\n",
       "      <td>BF3NC7KV</td>\n",
       "      <td>Male</td>\n",
       "      <td>RG270</td>\n",
       "      <td>Salaried</td>\n",
       "      <td>X1</td>\n",
       "      <td>No</td>\n",
       "      <td>No</td>\n",
       "      <td>train</td>\n",
       "    </tr>\n",
       "  </tbody>\n",
       "</table>\n",
       "</div>"
      ],
      "text/plain": [
       "         ID  Gender Region_Code     Occupation Channel_Code Credit_Product  \\\n",
       "0  NNVBBKZB  Female       RG268          Other           X3             No   \n",
       "1  IDD62UNG  Female       RG277       Salaried           X1             No   \n",
       "2  HD3DSEMC  Female       RG268  Self_Employed           X3             No   \n",
       "3  BF3NC7KV    Male       RG270       Salaried           X1             No   \n",
       "\n",
       "  Is_Active source  \n",
       "0        No  train  \n",
       "1        No  train  \n",
       "2       Yes  train  \n",
       "3        No  train  "
      ]
     },
     "execution_count": 19,
     "metadata": {},
     "output_type": "execute_result"
    }
   ],
   "source": [
    "credit_categorical.head(4)"
   ]
  },
  {
   "cell_type": "code",
   "execution_count": 20,
   "id": "2c39c1f2",
   "metadata": {},
   "outputs": [
    {
     "data": {
      "text/plain": [
       "Male      0.55\n",
       "Female    0.45\n",
       "Name: Gender, dtype: float64"
      ]
     },
     "execution_count": 20,
     "metadata": {},
     "output_type": "execute_result"
    }
   ],
   "source": [
    "credit_categorical.Gender.value_counts(normalize=True).round(2)"
   ]
  },
  {
   "cell_type": "markdown",
   "id": "aac7886b",
   "metadata": {},
   "source": [
    "#### The percentage of Male customers (55%) is slightly more than the female customers  (45%)"
   ]
  },
  {
   "cell_type": "code",
   "execution_count": 21,
   "id": "47dad828",
   "metadata": {},
   "outputs": [
    {
     "data": {
      "text/plain": [
       "Self_Employed    0.41\n",
       "Salaried         0.29\n",
       "Other            0.29\n",
       "Entrepreneur     0.01\n",
       "Name: Occupation, dtype: float64"
      ]
     },
     "execution_count": 21,
     "metadata": {},
     "output_type": "execute_result"
    }
   ],
   "source": [
    "credit_categorical.Occupation.value_counts(normalize=True).round(2)"
   ]
  },
  {
   "cell_type": "markdown",
   "id": "652036fe",
   "metadata": {},
   "source": [
    "#### Self employed customers (41%) are the highest, followed by salaried & other occupation customers (with an equal percentage of 29%), and entrepreneurs are insignificant"
   ]
  },
  {
   "cell_type": "code",
   "execution_count": 22,
   "id": "f8130e4e",
   "metadata": {},
   "outputs": [
    {
     "data": {
      "text/plain": [
       "X1    0.42\n",
       "X3    0.28\n",
       "X2    0.28\n",
       "X4    0.02\n",
       "Name: Channel_Code, dtype: float64"
      ]
     },
     "execution_count": 22,
     "metadata": {},
     "output_type": "execute_result"
    }
   ],
   "source": [
    "credit_categorical.Channel_Code.value_counts(normalize=True).round(2)"
   ]
  },
  {
   "cell_type": "markdown",
   "id": "2c805c72",
   "metadata": {},
   "source": [
    "#### The Customer Acquisition Channel code indicates the medium by which the customers signed up initially . We can see that there are 4 unique Channels- X1, X2, X3, X4"
   ]
  },
  {
   "cell_type": "code",
   "execution_count": 23,
   "id": "0bd0d124",
   "metadata": {},
   "outputs": [
    {
     "data": {
      "text/plain": [
       "No     0.59\n",
       "Yes    0.41\n",
       "Name: Credit_Product, dtype: float64"
      ]
     },
     "execution_count": 23,
     "metadata": {},
     "output_type": "execute_result"
    }
   ],
   "source": [
    "credit_categorical.Credit_Product.value_counts(normalize=True).round(2)"
   ]
  },
  {
   "cell_type": "code",
   "execution_count": 24,
   "id": "a7117c89",
   "metadata": {},
   "outputs": [
    {
     "data": {
      "text/plain": [
       "No     0.61\n",
       "Yes    0.39\n",
       "Name: Is_Active, dtype: float64"
      ]
     },
     "execution_count": 24,
     "metadata": {},
     "output_type": "execute_result"
    }
   ],
   "source": [
    "credit_categorical.Is_Active.value_counts(normalize=True).round(2)"
   ]
  },
  {
   "cell_type": "markdown",
   "id": "70772fb8",
   "metadata": {},
   "source": [
    "Let's visualize and further explore the categorical variables..."
   ]
  },
  {
   "cell_type": "code",
   "execution_count": 25,
   "id": "2a3dd893-b0a0-4b62-a99d-8f2a516ae908",
   "metadata": {},
   "outputs": [
    {
     "data": {
      "text/plain": [
       "<Figure size 1296x1296 with 0 Axes>"
      ]
     },
     "metadata": {},
     "output_type": "display_data"
    },
    {
     "data": {
      "image/png": "[encoded data removed]",
      "text/plain": [
       "<Figure size 1296x1296 with 4 Axes>"
      ]
     },
     "metadata": {
      "needs_background": "light"
     },
     "output_type": "display_data"
    }
   ],
   "source": [
    "plt.figure(figsize=(18,18))\n",
    "# sns.cubehelix_palette(as_cmap=True)\n",
    "\n",
    "# sns.set_style('ticks')\n",
    "\n",
    "fig,axs = plt.subplots(2,2, figsize=(18,18))\n",
    "sns.countplot(x='Gender',hue='Is_Lead',data=combine_df, ax=axs[0,0], palette=\"Accent\")\n",
    "sns.countplot(x='Occupation',hue='Is_Lead',data=combine_df, ax=axs[0,1], palette=\"Accent\")\n",
    "sns.countplot(x='Channel_Code',hue='Is_Lead',data=combine_df, ax=axs[1,0], palette=\"Accent\")\n",
    "sns.countplot(x='Is_Active',hue='Is_Lead',data=combine_df, ax=axs[1,1], palette=\"Accent\")\n",
    "\n",
    "plt.show()\n"
   ]
  },
  {
   "cell_type": "markdown",
   "id": "1683b58e-1bc0-4423-b0ce-45f6e76a2ae5",
   "metadata": {},
   "source": [
    "### Univariate Analysis: Numerical Variables"
   ]
  },
  {
   "cell_type": "code",
   "execution_count": 26,
   "id": "928b774d-67ed-4fb8-8e89-2528ceafcca0",
   "metadata": {},
   "outputs": [
    {
     "data": {
      "text/plain": [
       "<seaborn.axisgrid.FacetGrid at 0x1de3ed8a8e0>"
      ]
     },
     "execution_count": 26,
     "metadata": {},
     "output_type": "execute_result"
    },
    {
     "data": {
      "image/png": "[encoded data removed]",
      "text/plain": [
       "<Figure size 360x360 with 1 Axes>"
      ]
     },
     "metadata": {
      "needs_background": "light"
     },
     "output_type": "display_data"
    }
   ],
   "source": [
    "sns.displot(combine_df['Age'])"
   ]
  },
  {
   "cell_type": "code",
   "execution_count": 27,
   "id": "53921af2-9628-4a4f-9e36-319be44add92",
   "metadata": {},
   "outputs": [],
   "source": [
    "# Lets use the binning method to see the distribution of Age group\n",
    "\n",
    "age_bin_list=[]\n",
    "for age in combine_df['Age'].tolist():\n",
    "    if age>65:\n",
    "        age_bin_list.append('Senior')\n",
    "    elif age>45:\n",
    "        age_bin_list.append('Middle Aged')\n",
    "    else:\n",
    "        age_bin_list.append('Young')\n",
    "        \n",
    "combine_df['Age_bin']= age_bin_list"
   ]
  },
  {
   "cell_type": "code",
   "execution_count": 28,
   "id": "f1e22fd5-cdb3-49e1-b347-760ed571adb4",
   "metadata": {},
   "outputs": [
    {
     "data": {
      "text/plain": [
       "Young          194420\n",
       "Middle Aged    124163\n",
       "Senior          32454\n",
       "Name: Age_bin, dtype: int64"
      ]
     },
     "execution_count": 28,
     "metadata": {},
     "output_type": "execute_result"
    }
   ],
   "source": [
    "combine_df.Age_bin.value_counts()"
   ]
  },
  {
   "cell_type": "code",
   "execution_count": 29,
   "id": "e1d37e35-15b0-4c69-b2e9-42d89f334377",
   "metadata": {},
   "outputs": [
    {
     "data": {
      "image/png": "[encoded data removed]",
      "text/plain": [
       "<Figure size 576x288 with 1 Axes>"
      ]
     },
     "metadata": {
      "needs_background": "light"
     },
     "output_type": "display_data"
    }
   ],
   "source": [
    "plt.figure(figsize=(8,4))\n",
    "sns.countplot(x='Age_bin',hue='Is_Lead',data=combine_df,palette= 'YlOrBr')\n",
    "plt.show()"
   ]
  },
  {
   "cell_type": "code",
   "execution_count": 30,
   "id": "a49610a9-3219-48a7-bd61-060b6a2ca713",
   "metadata": {},
   "outputs": [
    {
     "data": {
      "image/png": "[encoded data removed]",
      "text/plain": [
       "<Figure size 576x288 with 1 Axes>"
      ]
     },
     "metadata": {
      "needs_background": "light"
     },
     "output_type": "display_data"
    }
   ],
   "source": [
    "# Vintage customers who are interested for the credit card\n",
    "plt.figure(figsize=(8,4))\n",
    "sns.lineplot(data=combine_df,x='Vintage',y='Is_Lead')\n",
    "plt.show()\n",
    "\n",
    "# Data does not seem to be skewed very much"
   ]
  },
  {
   "cell_type": "code",
   "execution_count": 31,
   "id": "93490828-7d9f-4267-947e-7845ba2810ed",
   "metadata": {},
   "outputs": [
    {
     "name": "stdout",
     "output_type": "stream",
     "text": [
      "Skew is 2.97817033023345\n",
      "Kurtosis is 14.347878980826728\n"
     ]
    },
    {
     "data": {
      "image/png": "[encoded data removed]",
      "text/plain": [
       "<Figure size 360x360 with 1 Axes>"
      ]
     },
     "metadata": {
      "needs_background": "light"
     },
     "output_type": "display_data"
    }
   ],
   "source": [
    "# Now lets take a look at Avg_account_balance\n",
    "\n",
    "sns.displot(combine_df['Avg_Account_Balance'])\n",
    "\n",
    "print(\"Skew is {}\".format(combine_df['Avg_Account_Balance'].skew()))\n",
    "print(\"Kurtosis is {}\".format(combine_df['Avg_Account_Balance'].kurtosis()))"
   ]
  },
  {
   "cell_type": "code",
   "execution_count": 32,
   "id": "d734da60-f5be-4a5d-b0fd-5815bca6c892",
   "metadata": {},
   "outputs": [
    {
     "data": {
      "text/plain": [
       "<seaborn.axisgrid.FacetGrid at 0x1de43db8a60>"
      ]
     },
     "execution_count": 32,
     "metadata": {},
     "output_type": "execute_result"
    },
    {
     "data": {
      "image/png": "[encoded data removed]",
      "text/plain": [
       "<Figure size 360x360 with 1 Axes>"
      ]
     },
     "metadata": {
      "needs_background": "light"
     },
     "output_type": "display_data"
    }
   ],
   "source": [
    "# Data is Skewed very much, lets use log to normalize it\n",
    "\n",
    "combine_df['Avg_Account_Balance'] = np.log10(combine_df['Avg_Account_Balance'])\n",
    "sns.displot(combine_df['Avg_Account_Balance'])"
   ]
  },
  {
   "cell_type": "markdown",
   "id": "b7652463-f945-4bc4-b57d-e334fd6c5283",
   "metadata": {},
   "source": [
    "### Outlier detection"
   ]
  },
  {
   "cell_type": "code",
   "execution_count": 33,
   "id": "9b8f3b71-a646-4edc-8253-efeff41ae129",
   "metadata": {},
   "outputs": [
    {
     "data": {
      "text/plain": [
       "<AxesSubplot:xlabel='Vintage'>"
      ]
     },
     "execution_count": 33,
     "metadata": {},
     "output_type": "execute_result"
    },
    {
     "data": {
      "image/png": "[encoded data removed]",
      "text/plain": [
       "<Figure size 432x288 with 1 Axes>"
      ]
     },
     "metadata": {
      "needs_background": "light"
     },
     "output_type": "display_data"
    }
   ],
   "source": [
    "sns.boxplot(data = combine_df, x = 'Vintage')\n",
    "\n",
    "# Outliers are not much with Vintage column"
   ]
  },
  {
   "cell_type": "code",
   "execution_count": 34,
   "id": "5dd6dc7b-44cc-4ba3-8974-41ab6568d3f5",
   "metadata": {},
   "outputs": [
    {
     "data": {
      "text/plain": [
       "<AxesSubplot:xlabel='Age'>"
      ]
     },
     "execution_count": 34,
     "metadata": {},
     "output_type": "execute_result"
    },
    {
     "data": {
      "image/png": "[encoded data removed]",
      "text/plain": [
       "<Figure size 432x288 with 1 Axes>"
      ]
     },
     "metadata": {
      "needs_background": "light"
     },
     "output_type": "display_data"
    }
   ],
   "source": [
    "sns.boxplot(data = combine_df, x = 'Age')\n",
    "\n",
    "# Outliers are not much with Vintage column"
   ]
  },
  {
   "cell_type": "markdown",
   "id": "1576d0a6-c742-4a86-b541-479e12f6d211",
   "metadata": {},
   "source": [
    "From the above, we can notice that percentage of customers interested in credit cards is 23.73% and not interested is 76.28%- Dataset is quite imbalanced.\n",
    "\n",
    "Let's fix the imbalance in the Is_Lead dataset"
   ]
  },
  {
   "cell_type": "markdown",
   "id": "5e26eff8",
   "metadata": {},
   "source": [
    "### Label encoding : Converting Categorical variable into numeric "
   ]
  },
  {
   "cell_type": "markdown",
   "id": "6783ca84",
   "metadata": {},
   "source": [
    "#### We perform Label Encoding to convert the Gender, Is_Active, Credit_Product and Region_Code"
   ]
  },
  {
   "cell_type": "code",
   "execution_count": 35,
   "id": "b268bd33",
   "metadata": {},
   "outputs": [
    {
     "data": {
      "text/plain": [
       "['Female', 'Male']\n",
       "Categories (2, object): ['Female', 'Male']"
      ]
     },
     "execution_count": 35,
     "metadata": {},
     "output_type": "execute_result"
    }
   ],
   "source": [
    "combine_df['Gender'].unique()"
   ]
  },
  {
   "cell_type": "code",
   "execution_count": 36,
   "id": "ec7b7495-efc8-4ecf-9644-72cfa796b5bb",
   "metadata": {},
   "outputs": [],
   "source": [
    "credit_categorical= ['Gender','Region_Code', 'Credit_Product', 'Is_Active', 'Age_bin']\n",
    "\n",
    "from sklearn.preprocessing import LabelEncoder\n",
    "le= LabelEncoder()\n",
    "for column in credit_categorical:\n",
    "    combine_df[column]= le.fit_transform(combine_df[column])"
   ]
  },
  {
   "cell_type": "code",
   "execution_count": 37,
   "id": "ab76ca04",
   "metadata": {},
   "outputs": [
    {
     "data": {
      "text/html": [
       "<div>\n",
       "<style scoped>\n",
       "    .dataframe tbody tr th:only-of-type {\n",
       "        vertical-align: middle;\n",
       "    }\n",
       "\n",
       "    .dataframe tbody tr th {\n",
       "        vertical-align: top;\n",
       "    }\n",
       "\n",
       "    .dataframe thead th {\n",
       "        text-align: right;\n",
       "    }\n",
       "</style>\n",
       "<table border=\"1\" class=\"dataframe\">\n",
       "  <thead>\n",
       "    <tr style=\"text-align: right;\">\n",
       "      <th></th>\n",
       "      <th>ID</th>\n",
       "      <th>Gender</th>\n",
       "      <th>Age</th>\n",
       "      <th>Region_Code</th>\n",
       "      <th>Occupation</th>\n",
       "      <th>Channel_Code</th>\n",
       "      <th>Vintage</th>\n",
       "      <th>Credit_Product</th>\n",
       "      <th>Avg_Account_Balance</th>\n",
       "      <th>Is_Active</th>\n",
       "      <th>Is_Lead</th>\n",
       "      <th>source</th>\n",
       "      <th>Age_bin</th>\n",
       "    </tr>\n",
       "  </thead>\n",
       "  <tbody>\n",
       "    <tr>\n",
       "      <th>0</th>\n",
       "      <td>NNVBBKZB</td>\n",
       "      <td>0</td>\n",
       "      <td>73</td>\n",
       "      <td>18</td>\n",
       "      <td>Other</td>\n",
       "      <td>X3</td>\n",
       "      <td>43</td>\n",
       "      <td>0</td>\n",
       "      <td>6.019405</td>\n",
       "      <td>0</td>\n",
       "      <td>0.0</td>\n",
       "      <td>train</td>\n",
       "      <td>1</td>\n",
       "    </tr>\n",
       "    <tr>\n",
       "      <th>1</th>\n",
       "      <td>IDD62UNG</td>\n",
       "      <td>0</td>\n",
       "      <td>30</td>\n",
       "      <td>27</td>\n",
       "      <td>Salaried</td>\n",
       "      <td>X1</td>\n",
       "      <td>32</td>\n",
       "      <td>0</td>\n",
       "      <td>5.764914</td>\n",
       "      <td>0</td>\n",
       "      <td>0.0</td>\n",
       "      <td>train</td>\n",
       "      <td>2</td>\n",
       "    </tr>\n",
       "    <tr>\n",
       "      <th>2</th>\n",
       "      <td>HD3DSEMC</td>\n",
       "      <td>0</td>\n",
       "      <td>56</td>\n",
       "      <td>18</td>\n",
       "      <td>Self_Employed</td>\n",
       "      <td>X3</td>\n",
       "      <td>26</td>\n",
       "      <td>0</td>\n",
       "      <td>6.171526</td>\n",
       "      <td>1</td>\n",
       "      <td>0.0</td>\n",
       "      <td>train</td>\n",
       "      <td>0</td>\n",
       "    </tr>\n",
       "    <tr>\n",
       "      <th>3</th>\n",
       "      <td>BF3NC7KV</td>\n",
       "      <td>1</td>\n",
       "      <td>34</td>\n",
       "      <td>20</td>\n",
       "      <td>Salaried</td>\n",
       "      <td>X1</td>\n",
       "      <td>19</td>\n",
       "      <td>0</td>\n",
       "      <td>5.672517</td>\n",
       "      <td>0</td>\n",
       "      <td>0.0</td>\n",
       "      <td>train</td>\n",
       "      <td>2</td>\n",
       "    </tr>\n",
       "    <tr>\n",
       "      <th>4</th>\n",
       "      <td>TEASRWXV</td>\n",
       "      <td>0</td>\n",
       "      <td>30</td>\n",
       "      <td>32</td>\n",
       "      <td>Salaried</td>\n",
       "      <td>X1</td>\n",
       "      <td>33</td>\n",
       "      <td>0</td>\n",
       "      <td>5.947819</td>\n",
       "      <td>0</td>\n",
       "      <td>0.0</td>\n",
       "      <td>train</td>\n",
       "      <td>2</td>\n",
       "    </tr>\n",
       "  </tbody>\n",
       "</table>\n",
       "</div>"
      ],
      "text/plain": [
       "         ID  Gender  Age  Region_Code     Occupation Channel_Code  Vintage  \\\n",
       "0  NNVBBKZB       0   73           18          Other           X3       43   \n",
       "1  IDD62UNG       0   30           27       Salaried           X1       32   \n",
       "2  HD3DSEMC       0   56           18  Self_Employed           X3       26   \n",
       "3  BF3NC7KV       1   34           20       Salaried           X1       19   \n",
       "4  TEASRWXV       0   30           32       Salaried           X1       33   \n",
       "\n",
       "   Credit_Product  Avg_Account_Balance  Is_Active  Is_Lead source  Age_bin  \n",
       "0               0             6.019405          0      0.0  train        1  \n",
       "1               0             5.764914          0      0.0  train        2  \n",
       "2               0             6.171526          1      0.0  train        0  \n",
       "3               0             5.672517          0      0.0  train        2  \n",
       "4               0             5.947819          0      0.0  train        2  "
      ]
     },
     "execution_count": 37,
     "metadata": {},
     "output_type": "execute_result"
    }
   ],
   "source": [
    "combine_df.head(5)"
   ]
  },
  {
   "cell_type": "markdown",
   "id": "d3327987",
   "metadata": {},
   "source": [
    "#### Performing OneHot Encoding on Channel Code & Occupation"
   ]
  },
  {
   "cell_type": "code",
   "execution_count": 38,
   "id": "96a96511",
   "metadata": {},
   "outputs": [
    {
     "data": {
      "text/plain": [
       "['X3', 'X1', 'X2', 'X4']\n",
       "Categories (4, object): ['X3', 'X1', 'X2', 'X4']"
      ]
     },
     "execution_count": 38,
     "metadata": {},
     "output_type": "execute_result"
    }
   ],
   "source": [
    "combine_df['Channel_Code'].unique()"
   ]
  },
  {
   "cell_type": "code",
   "execution_count": 39,
   "id": "173f1527",
   "metadata": {},
   "outputs": [
    {
     "data": {
      "text/html": [
       "<div>\n",
       "<style scoped>\n",
       "    .dataframe tbody tr th:only-of-type {\n",
       "        vertical-align: middle;\n",
       "    }\n",
       "\n",
       "    .dataframe tbody tr th {\n",
       "        vertical-align: top;\n",
       "    }\n",
       "\n",
       "    .dataframe thead th {\n",
       "        text-align: right;\n",
       "    }\n",
       "</style>\n",
       "<table border=\"1\" class=\"dataframe\">\n",
       "  <thead>\n",
       "    <tr style=\"text-align: right;\">\n",
       "      <th></th>\n",
       "      <th>chanel_code_X1</th>\n",
       "      <th>chanel_code_X2</th>\n",
       "      <th>chanel_code_X3</th>\n",
       "      <th>chanel_code_X4</th>\n",
       "    </tr>\n",
       "  </thead>\n",
       "  <tbody>\n",
       "    <tr>\n",
       "      <th>0</th>\n",
       "      <td>0</td>\n",
       "      <td>0</td>\n",
       "      <td>1</td>\n",
       "      <td>0</td>\n",
       "    </tr>\n",
       "    <tr>\n",
       "      <th>1</th>\n",
       "      <td>1</td>\n",
       "      <td>0</td>\n",
       "      <td>0</td>\n",
       "      <td>0</td>\n",
       "    </tr>\n",
       "    <tr>\n",
       "      <th>2</th>\n",
       "      <td>0</td>\n",
       "      <td>0</td>\n",
       "      <td>1</td>\n",
       "      <td>0</td>\n",
       "    </tr>\n",
       "    <tr>\n",
       "      <th>3</th>\n",
       "      <td>1</td>\n",
       "      <td>0</td>\n",
       "      <td>0</td>\n",
       "      <td>0</td>\n",
       "    </tr>\n",
       "    <tr>\n",
       "      <th>4</th>\n",
       "      <td>1</td>\n",
       "      <td>0</td>\n",
       "      <td>0</td>\n",
       "      <td>0</td>\n",
       "    </tr>\n",
       "    <tr>\n",
       "      <th>5</th>\n",
       "      <td>1</td>\n",
       "      <td>0</td>\n",
       "      <td>0</td>\n",
       "      <td>0</td>\n",
       "    </tr>\n",
       "    <tr>\n",
       "      <th>6</th>\n",
       "      <td>0</td>\n",
       "      <td>0</td>\n",
       "      <td>1</td>\n",
       "      <td>0</td>\n",
       "    </tr>\n",
       "    <tr>\n",
       "      <th>7</th>\n",
       "      <td>0</td>\n",
       "      <td>0</td>\n",
       "      <td>1</td>\n",
       "      <td>0</td>\n",
       "    </tr>\n",
       "    <tr>\n",
       "      <th>8</th>\n",
       "      <td>0</td>\n",
       "      <td>1</td>\n",
       "      <td>0</td>\n",
       "      <td>0</td>\n",
       "    </tr>\n",
       "    <tr>\n",
       "      <th>9</th>\n",
       "      <td>0</td>\n",
       "      <td>1</td>\n",
       "      <td>0</td>\n",
       "      <td>0</td>\n",
       "    </tr>\n",
       "  </tbody>\n",
       "</table>\n",
       "</div>"
      ],
      "text/plain": [
       "   chanel_code_X1  chanel_code_X2  chanel_code_X3  chanel_code_X4\n",
       "0               0               0               1               0\n",
       "1               1               0               0               0\n",
       "2               0               0               1               0\n",
       "3               1               0               0               0\n",
       "4               1               0               0               0\n",
       "5               1               0               0               0\n",
       "6               0               0               1               0\n",
       "7               0               0               1               0\n",
       "8               0               1               0               0\n",
       "9               0               1               0               0"
      ]
     },
     "execution_count": 39,
     "metadata": {},
     "output_type": "execute_result"
    }
   ],
   "source": [
    "chanel_code = pd.get_dummies(combine_df['Channel_Code'],  drop_first=False,  prefix_sep='_', prefix='chanel_code')\n",
    "chanel_code.head(10)"
   ]
  },
  {
   "cell_type": "code",
   "execution_count": 40,
   "id": "e3592e26",
   "metadata": {},
   "outputs": [
    {
     "data": {
      "text/html": [
       "<div>\n",
       "<style scoped>\n",
       "    .dataframe tbody tr th:only-of-type {\n",
       "        vertical-align: middle;\n",
       "    }\n",
       "\n",
       "    .dataframe tbody tr th {\n",
       "        vertical-align: top;\n",
       "    }\n",
       "\n",
       "    .dataframe thead th {\n",
       "        text-align: right;\n",
       "    }\n",
       "</style>\n",
       "<table border=\"1\" class=\"dataframe\">\n",
       "  <thead>\n",
       "    <tr style=\"text-align: right;\">\n",
       "      <th></th>\n",
       "      <th>ID</th>\n",
       "      <th>Gender</th>\n",
       "      <th>Age</th>\n",
       "      <th>Region_Code</th>\n",
       "      <th>Occupation</th>\n",
       "      <th>Channel_Code</th>\n",
       "      <th>Vintage</th>\n",
       "      <th>Credit_Product</th>\n",
       "      <th>Avg_Account_Balance</th>\n",
       "      <th>Is_Active</th>\n",
       "      <th>Is_Lead</th>\n",
       "      <th>source</th>\n",
       "      <th>Age_bin</th>\n",
       "      <th>chanel_code_X1</th>\n",
       "      <th>chanel_code_X2</th>\n",
       "      <th>chanel_code_X3</th>\n",
       "      <th>chanel_code_X4</th>\n",
       "    </tr>\n",
       "  </thead>\n",
       "  <tbody>\n",
       "    <tr>\n",
       "      <th>0</th>\n",
       "      <td>NNVBBKZB</td>\n",
       "      <td>0</td>\n",
       "      <td>73</td>\n",
       "      <td>18</td>\n",
       "      <td>Other</td>\n",
       "      <td>X3</td>\n",
       "      <td>43</td>\n",
       "      <td>0</td>\n",
       "      <td>6.019405</td>\n",
       "      <td>0</td>\n",
       "      <td>0.0</td>\n",
       "      <td>train</td>\n",
       "      <td>1</td>\n",
       "      <td>0</td>\n",
       "      <td>0</td>\n",
       "      <td>1</td>\n",
       "      <td>0</td>\n",
       "    </tr>\n",
       "    <tr>\n",
       "      <th>1</th>\n",
       "      <td>IDD62UNG</td>\n",
       "      <td>0</td>\n",
       "      <td>30</td>\n",
       "      <td>27</td>\n",
       "      <td>Salaried</td>\n",
       "      <td>X1</td>\n",
       "      <td>32</td>\n",
       "      <td>0</td>\n",
       "      <td>5.764914</td>\n",
       "      <td>0</td>\n",
       "      <td>0.0</td>\n",
       "      <td>train</td>\n",
       "      <td>2</td>\n",
       "      <td>1</td>\n",
       "      <td>0</td>\n",
       "      <td>0</td>\n",
       "      <td>0</td>\n",
       "    </tr>\n",
       "  </tbody>\n",
       "</table>\n",
       "</div>"
      ],
      "text/plain": [
       "         ID  Gender  Age  Region_Code Occupation Channel_Code  Vintage  \\\n",
       "0  NNVBBKZB       0   73           18      Other           X3       43   \n",
       "1  IDD62UNG       0   30           27   Salaried           X1       32   \n",
       "\n",
       "   Credit_Product  Avg_Account_Balance  Is_Active  Is_Lead source  Age_bin  \\\n",
       "0               0             6.019405          0      0.0  train        1   \n",
       "1               0             5.764914          0      0.0  train        2   \n",
       "\n",
       "   chanel_code_X1  chanel_code_X2  chanel_code_X3  chanel_code_X4  \n",
       "0               0               0               1               0  \n",
       "1               1               0               0               0  "
      ]
     },
     "execution_count": 40,
     "metadata": {},
     "output_type": "execute_result"
    }
   ],
   "source": [
    "combine_df = pd.concat([combine_df, chanel_code], axis=1)\n",
    "combine_df.head(2)"
   ]
  },
  {
   "cell_type": "code",
   "execution_count": 41,
   "id": "aa2dac8d",
   "metadata": {},
   "outputs": [],
   "source": [
    "combine_df.drop('Channel_Code', axis=1, inplace=True)"
   ]
  },
  {
   "cell_type": "code",
   "execution_count": 42,
   "id": "21ac4673",
   "metadata": {},
   "outputs": [
    {
     "data": {
      "text/plain": [
       "['Other', 'Salaried', 'Self_Employed', 'Entrepreneur']\n",
       "Categories (4, object): ['Other', 'Salaried', 'Self_Employed', 'Entrepreneur']"
      ]
     },
     "execution_count": 42,
     "metadata": {},
     "output_type": "execute_result"
    }
   ],
   "source": [
    "combine_df.Occupation.unique()"
   ]
  },
  {
   "cell_type": "code",
   "execution_count": 43,
   "id": "18a733d6",
   "metadata": {},
   "outputs": [
    {
     "data": {
      "text/html": [
       "<div>\n",
       "<style scoped>\n",
       "    .dataframe tbody tr th:only-of-type {\n",
       "        vertical-align: middle;\n",
       "    }\n",
       "\n",
       "    .dataframe tbody tr th {\n",
       "        vertical-align: top;\n",
       "    }\n",
       "\n",
       "    .dataframe thead th {\n",
       "        text-align: right;\n",
       "    }\n",
       "</style>\n",
       "<table border=\"1\" class=\"dataframe\">\n",
       "  <thead>\n",
       "    <tr style=\"text-align: right;\">\n",
       "      <th></th>\n",
       "      <th>occupation_Entrepreneur</th>\n",
       "      <th>occupation_Other</th>\n",
       "      <th>occupation_Salaried</th>\n",
       "      <th>occupation_Self_Employed</th>\n",
       "    </tr>\n",
       "  </thead>\n",
       "  <tbody>\n",
       "    <tr>\n",
       "      <th>0</th>\n",
       "      <td>0</td>\n",
       "      <td>1</td>\n",
       "      <td>0</td>\n",
       "      <td>0</td>\n",
       "    </tr>\n",
       "    <tr>\n",
       "      <th>1</th>\n",
       "      <td>0</td>\n",
       "      <td>0</td>\n",
       "      <td>1</td>\n",
       "      <td>0</td>\n",
       "    </tr>\n",
       "    <tr>\n",
       "      <th>2</th>\n",
       "      <td>0</td>\n",
       "      <td>0</td>\n",
       "      <td>0</td>\n",
       "      <td>1</td>\n",
       "    </tr>\n",
       "  </tbody>\n",
       "</table>\n",
       "</div>"
      ],
      "text/plain": [
       "   occupation_Entrepreneur  occupation_Other  occupation_Salaried  \\\n",
       "0                        0                 1                    0   \n",
       "1                        0                 0                    1   \n",
       "2                        0                 0                    0   \n",
       "\n",
       "   occupation_Self_Employed  \n",
       "0                         0  \n",
       "1                         0  \n",
       "2                         1  "
      ]
     },
     "execution_count": 43,
     "metadata": {},
     "output_type": "execute_result"
    }
   ],
   "source": [
    "occupation = pd.get_dummies(combine_df['Occupation'],  drop_first=False,  prefix_sep='_', prefix='occupation')\n",
    "occupation.head(3)"
   ]
  },
  {
   "cell_type": "code",
   "execution_count": 44,
   "id": "d15ee27a",
   "metadata": {},
   "outputs": [
    {
     "data": {
      "text/html": [
       "<div>\n",
       "<style scoped>\n",
       "    .dataframe tbody tr th:only-of-type {\n",
       "        vertical-align: middle;\n",
       "    }\n",
       "\n",
       "    .dataframe tbody tr th {\n",
       "        vertical-align: top;\n",
       "    }\n",
       "\n",
       "    .dataframe thead th {\n",
       "        text-align: right;\n",
       "    }\n",
       "</style>\n",
       "<table border=\"1\" class=\"dataframe\">\n",
       "  <thead>\n",
       "    <tr style=\"text-align: right;\">\n",
       "      <th></th>\n",
       "      <th>ID</th>\n",
       "      <th>Gender</th>\n",
       "      <th>Age</th>\n",
       "      <th>Region_Code</th>\n",
       "      <th>Occupation</th>\n",
       "      <th>Vintage</th>\n",
       "      <th>Credit_Product</th>\n",
       "      <th>Avg_Account_Balance</th>\n",
       "      <th>Is_Active</th>\n",
       "      <th>Is_Lead</th>\n",
       "      <th>source</th>\n",
       "      <th>Age_bin</th>\n",
       "      <th>chanel_code_X1</th>\n",
       "      <th>chanel_code_X2</th>\n",
       "      <th>chanel_code_X3</th>\n",
       "      <th>chanel_code_X4</th>\n",
       "      <th>occupation_Entrepreneur</th>\n",
       "      <th>occupation_Other</th>\n",
       "      <th>occupation_Salaried</th>\n",
       "      <th>occupation_Self_Employed</th>\n",
       "    </tr>\n",
       "  </thead>\n",
       "  <tbody>\n",
       "    <tr>\n",
       "      <th>0</th>\n",
       "      <td>NNVBBKZB</td>\n",
       "      <td>0</td>\n",
       "      <td>73</td>\n",
       "      <td>18</td>\n",
       "      <td>Other</td>\n",
       "      <td>43</td>\n",
       "      <td>0</td>\n",
       "      <td>6.019405</td>\n",
       "      <td>0</td>\n",
       "      <td>0.0</td>\n",
       "      <td>train</td>\n",
       "      <td>1</td>\n",
       "      <td>0</td>\n",
       "      <td>0</td>\n",
       "      <td>1</td>\n",
       "      <td>0</td>\n",
       "      <td>0</td>\n",
       "      <td>1</td>\n",
       "      <td>0</td>\n",
       "      <td>0</td>\n",
       "    </tr>\n",
       "    <tr>\n",
       "      <th>1</th>\n",
       "      <td>IDD62UNG</td>\n",
       "      <td>0</td>\n",
       "      <td>30</td>\n",
       "      <td>27</td>\n",
       "      <td>Salaried</td>\n",
       "      <td>32</td>\n",
       "      <td>0</td>\n",
       "      <td>5.764914</td>\n",
       "      <td>0</td>\n",
       "      <td>0.0</td>\n",
       "      <td>train</td>\n",
       "      <td>2</td>\n",
       "      <td>1</td>\n",
       "      <td>0</td>\n",
       "      <td>0</td>\n",
       "      <td>0</td>\n",
       "      <td>0</td>\n",
       "      <td>0</td>\n",
       "      <td>1</td>\n",
       "      <td>0</td>\n",
       "    </tr>\n",
       "  </tbody>\n",
       "</table>\n",
       "</div>"
      ],
      "text/plain": [
       "         ID  Gender  Age  Region_Code Occupation  Vintage  Credit_Product  \\\n",
       "0  NNVBBKZB       0   73           18      Other       43               0   \n",
       "1  IDD62UNG       0   30           27   Salaried       32               0   \n",
       "\n",
       "   Avg_Account_Balance  Is_Active  Is_Lead source  Age_bin  chanel_code_X1  \\\n",
       "0             6.019405          0      0.0  train        1               0   \n",
       "1             5.764914          0      0.0  train        2               1   \n",
       "\n",
       "   chanel_code_X2  chanel_code_X3  chanel_code_X4  occupation_Entrepreneur  \\\n",
       "0               0               1               0                        0   \n",
       "1               0               0               0                        0   \n",
       "\n",
       "   occupation_Other  occupation_Salaried  occupation_Self_Employed  \n",
       "0                 1                    0                         0  \n",
       "1                 0                    1                         0  "
      ]
     },
     "execution_count": 44,
     "metadata": {},
     "output_type": "execute_result"
    }
   ],
   "source": [
    "combine_df = pd.concat([combine_df, occupation], axis=1)\n",
    "combine_df.head(2)"
   ]
  },
  {
   "cell_type": "code",
   "execution_count": 45,
   "id": "2dea45fc",
   "metadata": {},
   "outputs": [],
   "source": [
    "combine_df.drop('Occupation', axis=1, inplace=True)"
   ]
  },
  {
   "cell_type": "markdown",
   "id": "4808b83c",
   "metadata": {},
   "source": [
    "## Checking correlation between target and independent variables:"
   ]
  },
  {
   "cell_type": "code",
   "execution_count": 46,
   "id": "1948e8ea",
   "metadata": {},
   "outputs": [
    {
     "data": {
      "text/plain": [
       "<AxesSubplot:>"
      ]
     },
     "execution_count": 46,
     "metadata": {},
     "output_type": "execute_result"
    },
    {
     "data": {
      "image/png": "[encoded data removed]",
      "text/plain": [
       "<Figure size 864x720 with 2 Axes>"
      ]
     },
     "metadata": {
      "needs_background": "light"
     },
     "output_type": "display_data"
    }
   ],
   "source": [
    "import matplotlib.pyplot as plt\n",
    "\n",
    "train_df = combine_df[combine_df.source == 'train']\n",
    "correlation = train_df.corr(method = 'pearson')\n",
    "\n",
    "fig, ax = plt.subplots(figsize=(12,10))\n",
    "sns.heatmap(correlation, linewidth=2, cmap=\"mako\", annot=True) #jet"
   ]
  },
  {
   "cell_type": "code",
   "execution_count": 47,
   "id": "5caafd0f",
   "metadata": {},
   "outputs": [],
   "source": [
    "# combine_df.drop(columns=['chanel_code_X4','occupation_Self_Employed', 'Is_Active', 'occupation_Entrepreneur',\n",
    "#                          'occupation_Other','Region_Code', 'Gender', 'Age_bin'], inplace=True)\n",
    "\n",
    "# Since Age bin and Age are correlated with the same percentage and region_code is very weakly correlated\n",
    "combine_df.drop(columns=['Region_Code', 'Age_bin'], inplace=True)"
   ]
  },
  {
   "cell_type": "markdown",
   "id": "d76ca647",
   "metadata": {},
   "source": [
    "The variable with least value from target variable is least correlated. SO that variable can also be dropped later, in case it does not contribute to the model"
   ]
  },
  {
   "cell_type": "markdown",
   "id": "e218563e",
   "metadata": {},
   "source": [
    "### Understanding target variable"
   ]
  },
  {
   "cell_type": "code",
   "execution_count": 48,
   "id": "39a3f225",
   "metadata": {},
   "outputs": [
    {
     "data": {
      "text/plain": [
       "0.0    76.28\n",
       "1.0    23.72\n",
       "Name: Is_Lead, dtype: float64"
      ]
     },
     "execution_count": 48,
     "metadata": {},
     "output_type": "execute_result"
    }
   ],
   "source": [
    "(train_df.Is_Lead.value_counts(normalize=True)*100).round(2)"
   ]
  },
  {
   "cell_type": "code",
   "execution_count": 49,
   "id": "e2cd64de",
   "metadata": {},
   "outputs": [
    {
     "name": "stdout",
     "output_type": "stream",
     "text": [
      "0.0    187437\n",
      "1.0     58288\n",
      "Name: Is_Lead, dtype: int64\n"
     ]
    },
    {
     "data": {
      "image/png": "[encoded data removed]",
      "text/plain": [
       "<Figure size 720x576 with 1 Axes>"
      ]
     },
     "metadata": {},
     "output_type": "display_data"
    }
   ],
   "source": [
    "# Lets check the distribution of target variables and see how we can handle it\n",
    "\n",
    "plt.figure(figsize = (10,8))\n",
    "print(train_df['Is_Lead'].value_counts())\n",
    "colors = ['xkcd:sky blue','0.8']\n",
    "plt.pie(train_df['Is_Lead'].value_counts(), labels = ['0','1'], autopct='%.1f%%',colors= colors)\n",
    "plt.legend()\n",
    "plt.show()\n",
    "\n",
    "# There is an imbalance in the distribution of target variables, we can check if that affects the performance later in the graph"
   ]
  },
  {
   "cell_type": "markdown",
   "id": "a671e0fa",
   "metadata": {},
   "source": [
    "From the above, we can notice that percentage of customers interested in credit cards is 23.73% and not interested is 76.28%- Dataset is quite imbalanced.\n",
    "\n",
    "Let's fix the imbalance in the Is_Lead dataset"
   ]
  },
  {
   "cell_type": "markdown",
   "id": "b0654672",
   "metadata": {},
   "source": [
    "We can scale the data using Standard scalar, by first divide train into train & test sets and standardize to not get a data leakage"
   ]
  },
  {
   "cell_type": "markdown",
   "id": "75d34049",
   "metadata": {},
   "source": [
    "### Model Building"
   ]
  },
  {
   "cell_type": "code",
   "execution_count": 50,
   "id": "7888d87f-c1b3-45a1-970b-74e193c75e32",
   "metadata": {},
   "outputs": [],
   "source": [
    "from imblearn.over_sampling import SMOTE\n",
    "from sklearn.metrics import accuracy_score, roc_auc_score, precision_score, recall_score\n",
    "from sklearn.model_selection import train_test_split\n",
    "from sklearn.linear_model import LogisticRegressionCV\n",
    "from sklearn.linear_model import LogisticRegression\n",
    "from sklearn.metrics import confusion_matrix\n",
    "from sklearn.metrics import classification_report\n",
    "from sklearn.metrics import plot_roc_curve\n",
    "from sklearn.discriminant_analysis import LinearDiscriminantAnalysis\n",
    "from sklearn.ensemble import RandomForestClassifier\n",
    "from xgboost import XGBClassifier\n",
    "\n",
    "from sklearn.pipeline import Pipeline\n",
    "from sklearn.ensemble import AdaBoostClassifier\n",
    "from sklearn.ensemble import GradientBoostingClassifier\n",
    "from sklearn import model_selection\n",
    "from sklearn.model_selection import cross_val_score\n",
    "from sklearn.feature_selection import SelectFromModel\n",
    "from sklearn.model_selection import KFold, StratifiedKFold\n",
    "from catboost import CatBoostClassifier\n",
    "from lightgbm import LGBMClassifier\n",
    "from xgboost import XGBClassifier"
   ]
  },
  {
   "cell_type": "code",
   "execution_count": 51,
   "id": "811465fa",
   "metadata": {},
   "outputs": [],
   "source": [
    "combine_df_copy = combine_df.copy(deep=True)\n",
    "combine_df = combine_df.drop(['Avg_Account_Balance'], axis=1)\n",
    "\n",
    "train_df = combine_df[combine_df.source == 'train'].drop(['source', 'ID'], axis=1)\n",
    "test_df = combine_df[combine_df.source == 'test'].drop(['source', 'ID'], axis=1)"
   ]
  },
  {
   "cell_type": "markdown",
   "id": "49f4bd65",
   "metadata": {},
   "source": [
    "#### 1. Standardizing the dataset"
   ]
  },
  {
   "cell_type": "code",
   "execution_count": 52,
   "id": "b4b3f605",
   "metadata": {},
   "outputs": [],
   "source": [
    "credit_numerical = train_df.loc[:, train_df.columns != 'Is_Lead'].select_dtypes(include = ['int64','float64']).copy()\n",
    "\n",
    "from sklearn.preprocessing import StandardScaler\n",
    "sc= StandardScaler()\n",
    "data_sc= sc.fit_transform(credit_numerical)\n",
    "\n",
    "train_df_std = pd.DataFrame(data_sc, columns=credit_numerical.columns.tolist())"
   ]
  },
  {
   "cell_type": "code",
   "execution_count": 53,
   "id": "7524cd6b",
   "metadata": {},
   "outputs": [],
   "source": [
    "for col in train_df_std.columns.to_list():\n",
    "    train_df[col]=train_df_std[col]"
   ]
  },
  {
   "cell_type": "code",
   "execution_count": 54,
   "id": "aa4611fd",
   "metadata": {},
   "outputs": [
    {
     "name": "stdout",
     "output_type": "stream",
     "text": [
      "<class 'pandas.core.frame.DataFrame'>\n",
      "Int64Index: 245725 entries, 0 to 245724\n",
      "Data columns (total 14 columns):\n",
      " #   Column                    Non-Null Count   Dtype  \n",
      "---  ------                    --------------   -----  \n",
      " 0   Gender                    245725 non-null  int32  \n",
      " 1   Age                       245725 non-null  float64\n",
      " 2   Vintage                   245725 non-null  float64\n",
      " 3   Credit_Product            245725 non-null  int32  \n",
      " 4   Is_Active                 245725 non-null  int32  \n",
      " 5   Is_Lead                   245725 non-null  float64\n",
      " 6   chanel_code_X1            245725 non-null  uint8  \n",
      " 7   chanel_code_X2            245725 non-null  uint8  \n",
      " 8   chanel_code_X3            245725 non-null  uint8  \n",
      " 9   chanel_code_X4            245725 non-null  uint8  \n",
      " 10  occupation_Entrepreneur   245725 non-null  uint8  \n",
      " 11  occupation_Other          245725 non-null  uint8  \n",
      " 12  occupation_Salaried       245725 non-null  uint8  \n",
      " 13  occupation_Self_Employed  245725 non-null  uint8  \n",
      "dtypes: float64(3), int32(3), uint8(8)\n",
      "memory usage: 12.2 MB\n"
     ]
    }
   ],
   "source": [
    "train_df.info()"
   ]
  },
  {
   "cell_type": "code",
   "execution_count": 55,
   "id": "8f659425",
   "metadata": {},
   "outputs": [],
   "source": [
    "y=train_df['Is_Lead'].astype('int')\n",
    "X=train_df.drop(['Is_Lead'], axis=1)"
   ]
  },
  {
   "cell_type": "markdown",
   "id": "9e8e2bc3",
   "metadata": {},
   "source": [
    "#### 2. Balancing the dataset using imblean (SMOTE)"
   ]
  },
  {
   "cell_type": "code",
   "execution_count": 56,
   "id": "3eee1f4c",
   "metadata": {},
   "outputs": [],
   "source": [
    "smote= SMOTE(sampling_strategy='minority')\n",
    "X_smote, y_smote = smote.fit_resample(X,y)"
   ]
  },
  {
   "cell_type": "code",
   "execution_count": 57,
   "id": "83c88bcf",
   "metadata": {},
   "outputs": [],
   "source": [
    "X_train, X_test, y_train, y_test = train_test_split(X_smote,y_smote, test_size=0.3, random_state=15, stratify=y_smote)"
   ]
  },
  {
   "cell_type": "code",
   "execution_count": 58,
   "id": "69e69e13",
   "metadata": {},
   "outputs": [],
   "source": [
    "# Preparing the test_df with the same format as train for final predictions on unseen data\n",
    "\n",
    "test_df = combine_df[combine_df.source=='test']\n",
    "test_df.head()\n",
    "test_df=test_df.drop(['Is_Lead','source','ID'], axis=1)\n",
    "test_df_credit_numerical = test_df.select_dtypes(include = ['int64','float64']).copy()\n",
    "test_data_sc= sc.transform(test_df_credit_numerical)\n",
    "\n",
    "test_df_std = pd.DataFrame(test_data_sc, columns=test_df_credit_numerical.columns.tolist())\n",
    "\n",
    "for col in test_df_credit_numerical.columns.to_list():\n",
    "    test_df[col]=test_df_std[col]"
   ]
  },
  {
   "cell_type": "markdown",
   "id": "9ab52a24",
   "metadata": {},
   "source": [
    "### Model 1- Using Logistic Regression"
   ]
  },
  {
   "cell_type": "code",
   "execution_count": 59,
   "id": "e09d3a6b",
   "metadata": {},
   "outputs": [
    {
     "name": "stdout",
     "output_type": "stream",
     "text": [
      "              precision    recall  f1-score   support\n",
      "\n",
      "           0       0.79      0.75      0.77     56232\n",
      "           1       0.76      0.80      0.78     56231\n",
      "\n",
      "    accuracy                           0.77    112463\n",
      "   macro avg       0.78      0.77      0.77    112463\n",
      "weighted avg       0.78      0.77      0.77    112463\n",
      "\n"
     ]
    }
   ],
   "source": [
    "LR = LogisticRegression(solver='liblinear')\n",
    "LR.fit(X_train, y_train)   # training should be done on the training set.\n",
    "# fetch the accuracy of the model\n",
    "LR.score(X_test, y_test)\n",
    "\n",
    "y_pred = LR.predict(X_test)  # predicted classs labels\n",
    "y_pred[:20]\n",
    "\n",
    "# Fetch the prob.... ?\n",
    "prob_values = LR.predict_proba(X_test)\n",
    "prob_values\n",
    "\n",
    "print(classification_report(y_test, y_pred))"
   ]
  },
  {
   "cell_type": "markdown",
   "id": "a8e3ec21",
   "metadata": {},
   "source": [
    "#### Plotting ROC Curve after confusion matrix"
   ]
  },
  {
   "cell_type": "code",
   "execution_count": 60,
   "id": "05e321c1",
   "metadata": {},
   "outputs": [
    {
     "data": {
      "text/plain": [
       "<sklearn.metrics._plot.roc_curve.RocCurveDisplay at 0x1de4617a610>"
      ]
     },
     "execution_count": 60,
     "metadata": {},
     "output_type": "execute_result"
    },
    {
     "data": {
      "image/png": "[encoded data removed]",
      "text/plain": [
       "<Figure size 432x288 with 1 Axes>"
      ]
     },
     "metadata": {
      "needs_background": "light"
     },
     "output_type": "display_data"
    }
   ],
   "source": [
    "plot_roc_curve(LR, X_test, y_test) "
   ]
  },
  {
   "cell_type": "code",
   "execution_count": 61,
   "id": "faef4d3e-962a-48f6-b0e4-bc4239c5db56",
   "metadata": {},
   "outputs": [],
   "source": [
    "# Testing on Unseen Data\n",
    "LR_final_pred = LR.predict_proba(test_df)\n",
    "\n",
    "# Accuracy on unseen data is AUC-82%"
   ]
  },
  {
   "cell_type": "markdown",
   "id": "f0b92fd1",
   "metadata": {},
   "source": [
    "### Model 2 - Using LDA, RandomForestClassifier"
   ]
  },
  {
   "cell_type": "code",
   "execution_count": 62,
   "id": "66bbe6b4",
   "metadata": {},
   "outputs": [
    {
     "name": "stdout",
     "output_type": "stream",
     "text": [
      "              precision    recall  f1-score   support\n",
      "\n",
      "           0       0.79      0.74      0.77     56232\n",
      "           1       0.76      0.81      0.78     56231\n",
      "\n",
      "    accuracy                           0.77    112463\n",
      "   macro avg       0.78      0.77      0.77    112463\n",
      "weighted avg       0.78      0.77      0.77    112463\n",
      "\n"
     ]
    }
   ],
   "source": [
    "# To avoid overfitting we can try to use LDA if it can improve the efficiency\n",
    "\n",
    "LDA = LinearDiscriminantAnalysis()\n",
    "LDA.fit(X_train, y_train)\n",
    "LDA.score(X_test, y_test)\n",
    "\n",
    "\n",
    "y_pred = LDA.predict(X_test)  # predicted classs labels\n",
    "y_pred[:20]\n",
    "\n",
    "# Fetch the prob to see the accuracy\n",
    "prob_values = LDA.predict_proba(X_test)\n",
    "prob_values\n",
    "\n",
    "print(classification_report(y_test, y_pred))"
   ]
  },
  {
   "cell_type": "code",
   "execution_count": 63,
   "id": "5091bf3e-3a5d-4040-b4fb-8929ba32517e",
   "metadata": {},
   "outputs": [
    {
     "data": {
      "text/plain": [
       "<sklearn.metrics._plot.roc_curve.RocCurveDisplay at 0x1de42bdf760>"
      ]
     },
     "execution_count": 63,
     "metadata": {},
     "output_type": "execute_result"
    },
    {
     "data": {
      "image/png": "[encoded data removed]",
      "text/plain": [
       "<Figure size 432x288 with 1 Axes>"
      ]
     },
     "metadata": {
      "needs_background": "light"
     },
     "output_type": "display_data"
    }
   ],
   "source": [
    "plot_roc_curve(LDA, X_test, y_test) "
   ]
  },
  {
   "cell_type": "code",
   "execution_count": 64,
   "id": "5220c954",
   "metadata": {},
   "outputs": [],
   "source": [
    "lda_pred_final = LDA.predict_proba(test_df)\n",
    "\n",
    "# Still the accuracy is only 82.7%"
   ]
  },
  {
   "cell_type": "markdown",
   "id": "fd2ccb6b-e8e7-4daa-9f8f-b014aaa07b01",
   "metadata": {},
   "source": [
    "### Random Forest Classifier"
   ]
  },
  {
   "cell_type": "code",
   "execution_count": 65,
   "id": "f8a06cd8",
   "metadata": {},
   "outputs": [
    {
     "data": {
      "text/plain": [
       "RandomForestClassifier()"
      ]
     },
     "execution_count": 65,
     "metadata": {},
     "output_type": "execute_result"
    }
   ],
   "source": [
    "# Now let us try Random Forest Classifier\n",
    "rfc = RandomForestClassifier()\n",
    "rfc.fit(X_train, y_train)"
   ]
  },
  {
   "cell_type": "code",
   "execution_count": 66,
   "id": "51feedd2",
   "metadata": {},
   "outputs": [
    {
     "data": {
      "text/plain": [
       "0.8250266853545933"
      ]
     },
     "execution_count": 66,
     "metadata": {},
     "output_type": "execute_result"
    }
   ],
   "source": [
    "rfc_pred = rfc.predict(X_test)\n",
    "\n",
    "rfc_auc = roc_auc_score(y_test, rfc_pred)\n",
    "rfc_auc"
   ]
  },
  {
   "cell_type": "code",
   "execution_count": 67,
   "id": "9cc01a5b-b161-47f6-aa28-64f51a21cadd",
   "metadata": {},
   "outputs": [
    {
     "data": {
      "text/plain": [
       "<sklearn.metrics._plot.roc_curve.RocCurveDisplay at 0x1de4173a3a0>"
      ]
     },
     "execution_count": 67,
     "metadata": {},
     "output_type": "execute_result"
    },
    {
     "data": {
      "image/png": "[encoded data removed]",
      "text/plain": [
       "<Figure size 432x288 with 1 Axes>"
      ]
     },
     "metadata": {
      "needs_background": "light"
     },
     "output_type": "display_data"
    }
   ],
   "source": [
    "plot_roc_curve(rfc, X_test, y_test) "
   ]
  },
  {
   "cell_type": "code",
   "execution_count": 68,
   "id": "c79fca1d-0b81-4364-82d0-96f205096787",
   "metadata": {},
   "outputs": [
    {
     "data": {
      "text/plain": [
       "GridSearchCV(cv=5, estimator=RandomForestClassifier(), n_jobs=-1,\n",
       "             param_grid={'max_depth': [5, 6], 'n_estimators': [10, 100, 1000]})"
      ]
     },
     "execution_count": 68,
     "metadata": {},
     "output_type": "execute_result"
    }
   ],
   "source": [
    "# Predictions Does not increase much with normal parameters, lets try to tune the parameters using GridSearchCV\n",
    "\n",
    "possible_params = {\n",
    "    'n_estimators': [10, 100, 1000],\n",
    "    'max_depth' : [5,6]\n",
    "}\n",
    "\n",
    "gs = model_selection.GridSearchCV(estimator=rfc, param_grid=possible_params, cv=5, n_jobs=-1)\n",
    "gs.fit(X_train, y_train)"
   ]
  },
  {
   "cell_type": "code",
   "execution_count": 69,
   "id": "92b1459e-c359-4198-873b-8743b1877a15",
   "metadata": {},
   "outputs": [
    {
     "data": {
      "text/plain": [
       "{'max_depth': 6, 'n_estimators': 10}"
      ]
     },
     "execution_count": 69,
     "metadata": {},
     "output_type": "execute_result"
    }
   ],
   "source": [
    "gs.best_params_"
   ]
  },
  {
   "cell_type": "code",
   "execution_count": 70,
   "id": "d7c3096d-e0e9-4911-af50-d2ad69e65ddf",
   "metadata": {},
   "outputs": [
    {
     "data": {
      "text/plain": [
       "0.786632058451275"
      ]
     },
     "execution_count": 70,
     "metadata": {},
     "output_type": "execute_result"
    }
   ],
   "source": [
    "rfc_tuned = RandomForestClassifier(**gs.best_params_)\n",
    "\n",
    "rfc_tuned.fit(X_train, y_train)\n",
    "rfc_pred = rfc_tuned.predict(X_test)\n",
    "rfc_auc = roc_auc_score(y_test, rfc_pred)\n",
    "rfc_auc"
   ]
  },
  {
   "cell_type": "code",
   "execution_count": 71,
   "id": "2f2f8058",
   "metadata": {},
   "outputs": [],
   "source": [
    "# Lets use the original RFC model for this\n",
    "rfc_pred_final = rfc.predict_proba(test_df)"
   ]
  },
  {
   "cell_type": "markdown",
   "id": "7d9d3746-37b4-4d8f-aa2b-c34cc9c23fb8",
   "metadata": {},
   "source": [
    "#### XG Boost"
   ]
  },
  {
   "cell_type": "code",
   "execution_count": 72,
   "id": "34f9f1d6-3090-4f02-bebd-cbf9766da7c3",
   "metadata": {},
   "outputs": [],
   "source": [
    "# Let us use this with cross validation to get better results\n",
    "\n",
    "def my_cross_validation_model(train,targets,model,params, folds=9):    \n",
    "    skf = StratifiedKFold(n_splits=folds, shuffle=True, random_state=21)\n",
    "    for fold, (train_temp,test_temp) in enumerate(skf.split(train,targets)):\n",
    "        \n",
    "        # Split trining and test for cross validation\n",
    "        x_train,y_train = train.iloc[train_temp], targets.iloc[train_temp]\n",
    "        x_test,y_test = train.iloc[test_temp],targets.iloc[test_temp]\n",
    "    \n",
    "        models=model(**params)\n",
    "        models.fit(x_train,y_train,\n",
    "                  eval_set=[(x_test, y_test)],\n",
    "                  early_stopping_rounds=100,\n",
    "                  verbose=400)\n",
    "    \n",
    "        pred = models.predict_proba(x_test)[:, 1]\n",
    "        roc = roc_auc_score(y_test, pred)\n",
    "        print(f\"roc_auc_score: {roc}\")\n",
    "        print(\"-\"*50)\n",
    "        \n",
    "    return models"
   ]
  },
  {
   "cell_type": "code",
   "execution_count": 73,
   "id": "be64f93e",
   "metadata": {},
   "outputs": [
    {
     "name": "stdout",
     "output_type": "stream",
     "text": [
      "[10:13:27] WARNING: C:/Users/Administrator/workspace/xgboost-win64_release_1.5.0/src/learner.cc:1115: Starting in XGBoost 1.3.0, the default evaluation metric used with the objective 'binary:logistic' was changed from 'error' to 'logloss'. Explicitly set eval_metric if you'd like to restore the old behavior.\n",
      "[0]\tvalidation_0-logloss:0.69295\n"
     ]
    },
    {
     "name": "stderr",
     "output_type": "stream",
     "text": [
      "C:\\Users\\gayathri.gopalan\\Anaconda3\\lib\\site-packages\\xgboost\\sklearn.py:1224: UserWarning: The use of label encoder in XGBClassifier is deprecated and will be removed in a future release. To remove this warning, do the following: 1) Pass option use_label_encoder=False when constructing XGBClassifier object; and 2) Encode your labels (y) as integers starting with 0, i.e. 0, 1, 2, ..., [num_class - 1].\n",
      "  warnings.warn(label_encoder_deprecation_msg, UserWarning)\n"
     ]
    },
    {
     "name": "stdout",
     "output_type": "stream",
     "text": [
      "[400]\tvalidation_0-logloss:0.50480\n",
      "[800]\tvalidation_0-logloss:0.47898\n",
      "[1200]\tvalidation_0-logloss:0.47116\n",
      "[1600]\tvalidation_0-logloss:0.46616\n",
      "[2000]\tvalidation_0-logloss:0.46193\n",
      "[2400]\tvalidation_0-logloss:0.45909\n",
      "[2800]\tvalidation_0-logloss:0.45589\n",
      "[3200]\tvalidation_0-logloss:0.45225\n",
      "[3600]\tvalidation_0-logloss:0.44918\n",
      "[4000]\tvalidation_0-logloss:0.44657\n",
      "[4400]\tvalidation_0-logloss:0.44353\n",
      "[4800]\tvalidation_0-logloss:0.44090\n",
      "[5200]\tvalidation_0-logloss:0.43880\n",
      "[5600]\tvalidation_0-logloss:0.43615\n",
      "[6000]\tvalidation_0-logloss:0.43449\n",
      "[6400]\tvalidation_0-logloss:0.43257\n",
      "[6800]\tvalidation_0-logloss:0.43116\n",
      "[7200]\tvalidation_0-logloss:0.42997\n",
      "[7600]\tvalidation_0-logloss:0.42833\n",
      "[8000]\tvalidation_0-logloss:0.42669\n",
      "[8400]\tvalidation_0-logloss:0.42505\n",
      "[8800]\tvalidation_0-logloss:0.42330\n",
      "[9200]\tvalidation_0-logloss:0.42174\n",
      "[9600]\tvalidation_0-logloss:0.42020\n",
      "[10000]\tvalidation_0-logloss:0.41893\n",
      "[10400]\tvalidation_0-logloss:0.41763\n",
      "[10800]\tvalidation_0-logloss:0.41600\n",
      "[11200]\tvalidation_0-logloss:0.41466\n",
      "[11600]\tvalidation_0-logloss:0.41351\n",
      "[12000]\tvalidation_0-logloss:0.41225\n",
      "[12400]\tvalidation_0-logloss:0.41108\n",
      "[12800]\tvalidation_0-logloss:0.40985\n",
      "[13200]\tvalidation_0-logloss:0.40881\n",
      "[13600]\tvalidation_0-logloss:0.40765\n",
      "[14000]\tvalidation_0-logloss:0.40658\n",
      "[14400]\tvalidation_0-logloss:0.40589\n",
      "[14800]\tvalidation_0-logloss:0.40496\n",
      "[15200]\tvalidation_0-logloss:0.40383\n",
      "[15600]\tvalidation_0-logloss:0.40292\n",
      "[16000]\tvalidation_0-logloss:0.40195\n",
      "[16400]\tvalidation_0-logloss:0.40052\n",
      "[16800]\tvalidation_0-logloss:0.39945\n",
      "[17200]\tvalidation_0-logloss:0.39856\n",
      "[17600]\tvalidation_0-logloss:0.39773\n",
      "[18000]\tvalidation_0-logloss:0.39702\n",
      "[18400]\tvalidation_0-logloss:0.39612\n",
      "[18800]\tvalidation_0-logloss:0.39537\n",
      "[19200]\tvalidation_0-logloss:0.39452\n",
      "[19600]\tvalidation_0-logloss:0.39389\n",
      "[19999]\tvalidation_0-logloss:0.39337\n",
      "roc_auc_score: 0.9035102990428832\n",
      "--------------------------------------------------\n",
      "[10:26:13] WARNING: C:/Users/Administrator/workspace/xgboost-win64_release_1.5.0/src/learner.cc:1115: Starting in XGBoost 1.3.0, the default evaluation metric used with the objective 'binary:logistic' was changed from 'error' to 'logloss'. Explicitly set eval_metric if you'd like to restore the old behavior.\n",
      "[0]\tvalidation_0-logloss:0.69297\n"
     ]
    },
    {
     "name": "stderr",
     "output_type": "stream",
     "text": [
      "C:\\Users\\gayathri.gopalan\\Anaconda3\\lib\\site-packages\\xgboost\\sklearn.py:1224: UserWarning: The use of label encoder in XGBClassifier is deprecated and will be removed in a future release. To remove this warning, do the following: 1) Pass option use_label_encoder=False when constructing XGBClassifier object; and 2) Encode your labels (y) as integers starting with 0, i.e. 0, 1, 2, ..., [num_class - 1].\n",
      "  warnings.warn(label_encoder_deprecation_msg, UserWarning)\n"
     ]
    },
    {
     "name": "stdout",
     "output_type": "stream",
     "text": [
      "[400]\tvalidation_0-logloss:0.50247\n",
      "[800]\tvalidation_0-logloss:0.47533\n",
      "[1200]\tvalidation_0-logloss:0.46800\n",
      "[1600]\tvalidation_0-logloss:0.46300\n",
      "[2000]\tvalidation_0-logloss:0.45900\n",
      "[2400]\tvalidation_0-logloss:0.45567\n",
      "[2800]\tvalidation_0-logloss:0.45271\n",
      "[3200]\tvalidation_0-logloss:0.44938\n",
      "[3600]\tvalidation_0-logloss:0.44635\n",
      "[4000]\tvalidation_0-logloss:0.44361\n",
      "[4400]\tvalidation_0-logloss:0.44053\n",
      "[4800]\tvalidation_0-logloss:0.43793\n",
      "[5200]\tvalidation_0-logloss:0.43566\n",
      "[5600]\tvalidation_0-logloss:0.43362\n",
      "[6000]\tvalidation_0-logloss:0.43186\n",
      "[6400]\tvalidation_0-logloss:0.43014\n",
      "[6800]\tvalidation_0-logloss:0.42880\n",
      "[7200]\tvalidation_0-logloss:0.42765\n",
      "[7600]\tvalidation_0-logloss:0.42600\n",
      "[8000]\tvalidation_0-logloss:0.42415\n",
      "[8400]\tvalidation_0-logloss:0.42275\n",
      "[8800]\tvalidation_0-logloss:0.42099\n",
      "[9200]\tvalidation_0-logloss:0.41938\n",
      "[9600]\tvalidation_0-logloss:0.41781\n",
      "[10000]\tvalidation_0-logloss:0.41681\n",
      "[10400]\tvalidation_0-logloss:0.41548\n",
      "[10800]\tvalidation_0-logloss:0.41378\n",
      "[11200]\tvalidation_0-logloss:0.41244\n",
      "[11600]\tvalidation_0-logloss:0.41107\n",
      "[12000]\tvalidation_0-logloss:0.40995\n",
      "[12400]\tvalidation_0-logloss:0.40870\n",
      "[12800]\tvalidation_0-logloss:0.40744\n",
      "[13200]\tvalidation_0-logloss:0.40632\n",
      "[13600]\tvalidation_0-logloss:0.40514\n",
      "[14000]\tvalidation_0-logloss:0.40386\n",
      "[14400]\tvalidation_0-logloss:0.40314\n",
      "[14800]\tvalidation_0-logloss:0.40225\n",
      "[15200]\tvalidation_0-logloss:0.40122\n",
      "[15600]\tvalidation_0-logloss:0.40026\n",
      "[16000]\tvalidation_0-logloss:0.39940\n",
      "[16400]\tvalidation_0-logloss:0.39813\n",
      "[16800]\tvalidation_0-logloss:0.39718\n",
      "[17200]\tvalidation_0-logloss:0.39636\n",
      "[17600]\tvalidation_0-logloss:0.39551\n",
      "[18000]\tvalidation_0-logloss:0.39496\n",
      "[18400]\tvalidation_0-logloss:0.39415\n",
      "[18800]\tvalidation_0-logloss:0.39342\n",
      "[19200]\tvalidation_0-logloss:0.39267\n",
      "[19600]\tvalidation_0-logloss:0.39196\n",
      "[19999]\tvalidation_0-logloss:0.39140\n",
      "roc_auc_score: 0.9049537665885914\n",
      "--------------------------------------------------\n",
      "[10:39:11] WARNING: C:/Users/Administrator/workspace/xgboost-win64_release_1.5.0/src/learner.cc:1115: Starting in XGBoost 1.3.0, the default evaluation metric used with the objective 'binary:logistic' was changed from 'error' to 'logloss'. Explicitly set eval_metric if you'd like to restore the old behavior.\n",
      "[0]\tvalidation_0-logloss:0.69298\n"
     ]
    },
    {
     "name": "stderr",
     "output_type": "stream",
     "text": [
      "C:\\Users\\gayathri.gopalan\\Anaconda3\\lib\\site-packages\\xgboost\\sklearn.py:1224: UserWarning: The use of label encoder in XGBClassifier is deprecated and will be removed in a future release. To remove this warning, do the following: 1) Pass option use_label_encoder=False when constructing XGBClassifier object; and 2) Encode your labels (y) as integers starting with 0, i.e. 0, 1, 2, ..., [num_class - 1].\n",
      "  warnings.warn(label_encoder_deprecation_msg, UserWarning)\n"
     ]
    },
    {
     "name": "stdout",
     "output_type": "stream",
     "text": [
      "[400]\tvalidation_0-logloss:0.50470\n",
      "[800]\tvalidation_0-logloss:0.47845\n",
      "[1200]\tvalidation_0-logloss:0.47114\n",
      "[1600]\tvalidation_0-logloss:0.46634\n",
      "[2000]\tvalidation_0-logloss:0.46218\n",
      "[2400]\tvalidation_0-logloss:0.45910\n",
      "[2800]\tvalidation_0-logloss:0.45645\n",
      "[3200]\tvalidation_0-logloss:0.45265\n",
      "[3600]\tvalidation_0-logloss:0.44959\n",
      "[4000]\tvalidation_0-logloss:0.44726\n",
      "[4400]\tvalidation_0-logloss:0.44456\n",
      "[4800]\tvalidation_0-logloss:0.44223\n",
      "[5200]\tvalidation_0-logloss:0.43997\n",
      "[5600]\tvalidation_0-logloss:0.43769\n",
      "[6000]\tvalidation_0-logloss:0.43570\n",
      "[6400]\tvalidation_0-logloss:0.43363\n",
      "[6800]\tvalidation_0-logloss:0.43199\n",
      "[7200]\tvalidation_0-logloss:0.43094\n",
      "[7600]\tvalidation_0-logloss:0.42914\n",
      "[8000]\tvalidation_0-logloss:0.42749\n",
      "[8400]\tvalidation_0-logloss:0.42629\n",
      "[8800]\tvalidation_0-logloss:0.42459\n",
      "[9200]\tvalidation_0-logloss:0.42308\n",
      "[9600]\tvalidation_0-logloss:0.42152\n",
      "[10000]\tvalidation_0-logloss:0.42053\n",
      "[10400]\tvalidation_0-logloss:0.41919\n",
      "[10800]\tvalidation_0-logloss:0.41738\n",
      "[11200]\tvalidation_0-logloss:0.41615\n",
      "[11600]\tvalidation_0-logloss:0.41499\n",
      "[12000]\tvalidation_0-logloss:0.41393\n",
      "[12400]\tvalidation_0-logloss:0.41275\n",
      "[12800]\tvalidation_0-logloss:0.41164\n",
      "[13200]\tvalidation_0-logloss:0.41062\n",
      "[13600]\tvalidation_0-logloss:0.40950\n",
      "[14000]\tvalidation_0-logloss:0.40833\n",
      "[14400]\tvalidation_0-logloss:0.40760\n",
      "[14800]\tvalidation_0-logloss:0.40677\n",
      "[15200]\tvalidation_0-logloss:0.40558\n",
      "[15600]\tvalidation_0-logloss:0.40462\n",
      "[16000]\tvalidation_0-logloss:0.40352\n",
      "[16400]\tvalidation_0-logloss:0.40222\n",
      "[16800]\tvalidation_0-logloss:0.40105\n",
      "[17200]\tvalidation_0-logloss:0.40008\n",
      "[17600]\tvalidation_0-logloss:0.39926\n",
      "[18000]\tvalidation_0-logloss:0.39868\n",
      "[18400]\tvalidation_0-logloss:0.39780\n",
      "[18800]\tvalidation_0-logloss:0.39708\n",
      "[19200]\tvalidation_0-logloss:0.39623\n",
      "[19600]\tvalidation_0-logloss:0.39553\n",
      "[19999]\tvalidation_0-logloss:0.39497\n",
      "roc_auc_score: 0.9020722565456787\n",
      "--------------------------------------------------\n",
      "[10:52:03] WARNING: C:/Users/Administrator/workspace/xgboost-win64_release_1.5.0/src/learner.cc:1115: Starting in XGBoost 1.3.0, the default evaluation metric used with the objective 'binary:logistic' was changed from 'error' to 'logloss'. Explicitly set eval_metric if you'd like to restore the old behavior.\n",
      "[0]\tvalidation_0-logloss:0.69296\n"
     ]
    },
    {
     "name": "stderr",
     "output_type": "stream",
     "text": [
      "C:\\Users\\gayathri.gopalan\\Anaconda3\\lib\\site-packages\\xgboost\\sklearn.py:1224: UserWarning: The use of label encoder in XGBClassifier is deprecated and will be removed in a future release. To remove this warning, do the following: 1) Pass option use_label_encoder=False when constructing XGBClassifier object; and 2) Encode your labels (y) as integers starting with 0, i.e. 0, 1, 2, ..., [num_class - 1].\n",
      "  warnings.warn(label_encoder_deprecation_msg, UserWarning)\n"
     ]
    },
    {
     "name": "stdout",
     "output_type": "stream",
     "text": [
      "[400]\tvalidation_0-logloss:0.50019\n",
      "[800]\tvalidation_0-logloss:0.47374\n",
      "[1200]\tvalidation_0-logloss:0.46607\n",
      "[1600]\tvalidation_0-logloss:0.46090\n",
      "[2000]\tvalidation_0-logloss:0.45674\n",
      "[2400]\tvalidation_0-logloss:0.45388\n",
      "[2800]\tvalidation_0-logloss:0.45108\n",
      "[3200]\tvalidation_0-logloss:0.44748\n",
      "[3600]\tvalidation_0-logloss:0.44440\n",
      "[4000]\tvalidation_0-logloss:0.44191\n",
      "[4400]\tvalidation_0-logloss:0.43892\n",
      "[4800]\tvalidation_0-logloss:0.43677\n",
      "[5200]\tvalidation_0-logloss:0.43459\n",
      "[5600]\tvalidation_0-logloss:0.43229\n",
      "[6000]\tvalidation_0-logloss:0.43031\n",
      "[6400]\tvalidation_0-logloss:0.42859\n",
      "[6800]\tvalidation_0-logloss:0.42710\n",
      "[7200]\tvalidation_0-logloss:0.42587\n",
      "[7600]\tvalidation_0-logloss:0.42402\n",
      "[8000]\tvalidation_0-logloss:0.42245\n",
      "[8400]\tvalidation_0-logloss:0.42084\n",
      "[8800]\tvalidation_0-logloss:0.41913\n",
      "[9200]\tvalidation_0-logloss:0.41752\n",
      "[9600]\tvalidation_0-logloss:0.41598\n",
      "[10000]\tvalidation_0-logloss:0.41484\n",
      "[10400]\tvalidation_0-logloss:0.41345\n",
      "[10800]\tvalidation_0-logloss:0.41165\n",
      "[11200]\tvalidation_0-logloss:0.41052\n",
      "[11600]\tvalidation_0-logloss:0.40940\n",
      "[12000]\tvalidation_0-logloss:0.40839\n",
      "[12400]\tvalidation_0-logloss:0.40714\n",
      "[12800]\tvalidation_0-logloss:0.40609\n",
      "[13200]\tvalidation_0-logloss:0.40486\n",
      "[13600]\tvalidation_0-logloss:0.40376\n",
      "[14000]\tvalidation_0-logloss:0.40255\n",
      "[14400]\tvalidation_0-logloss:0.40181\n",
      "[14800]\tvalidation_0-logloss:0.40103\n",
      "[15200]\tvalidation_0-logloss:0.40000\n",
      "[15600]\tvalidation_0-logloss:0.39918\n",
      "[16000]\tvalidation_0-logloss:0.39828\n",
      "[16400]\tvalidation_0-logloss:0.39704\n",
      "[16800]\tvalidation_0-logloss:0.39589\n",
      "[17200]\tvalidation_0-logloss:0.39493\n",
      "[17600]\tvalidation_0-logloss:0.39413\n",
      "[18000]\tvalidation_0-logloss:0.39359\n",
      "[18400]\tvalidation_0-logloss:0.39275\n",
      "[18800]\tvalidation_0-logloss:0.39205\n",
      "[19200]\tvalidation_0-logloss:0.39119\n",
      "[19600]\tvalidation_0-logloss:0.39050\n",
      "[19999]\tvalidation_0-logloss:0.38991\n",
      "roc_auc_score: 0.9058914059995165\n",
      "--------------------------------------------------\n",
      "[11:04:58] WARNING: C:/Users/Administrator/workspace/xgboost-win64_release_1.5.0/src/learner.cc:1115: Starting in XGBoost 1.3.0, the default evaluation metric used with the objective 'binary:logistic' was changed from 'error' to 'logloss'. Explicitly set eval_metric if you'd like to restore the old behavior.\n",
      "[0]\tvalidation_0-logloss:0.69296\n"
     ]
    },
    {
     "name": "stderr",
     "output_type": "stream",
     "text": [
      "C:\\Users\\gayathri.gopalan\\Anaconda3\\lib\\site-packages\\xgboost\\sklearn.py:1224: UserWarning: The use of label encoder in XGBClassifier is deprecated and will be removed in a future release. To remove this warning, do the following: 1) Pass option use_label_encoder=False when constructing XGBClassifier object; and 2) Encode your labels (y) as integers starting with 0, i.e. 0, 1, 2, ..., [num_class - 1].\n",
      "  warnings.warn(label_encoder_deprecation_msg, UserWarning)\n"
     ]
    },
    {
     "name": "stdout",
     "output_type": "stream",
     "text": [
      "[400]\tvalidation_0-logloss:0.50424\n",
      "[800]\tvalidation_0-logloss:0.47918\n",
      "[1200]\tvalidation_0-logloss:0.47207\n",
      "[1600]\tvalidation_0-logloss:0.46739\n",
      "[2000]\tvalidation_0-logloss:0.46319\n",
      "[2400]\tvalidation_0-logloss:0.46020\n",
      "[2800]\tvalidation_0-logloss:0.45708\n",
      "[3200]\tvalidation_0-logloss:0.45360\n",
      "[3600]\tvalidation_0-logloss:0.45035\n",
      "[4000]\tvalidation_0-logloss:0.44781\n",
      "[4400]\tvalidation_0-logloss:0.44468\n",
      "[4800]\tvalidation_0-logloss:0.44192\n",
      "[5200]\tvalidation_0-logloss:0.43975\n",
      "[5600]\tvalidation_0-logloss:0.43695\n",
      "[6000]\tvalidation_0-logloss:0.43518\n",
      "[6400]\tvalidation_0-logloss:0.43340\n",
      "[6800]\tvalidation_0-logloss:0.43169\n",
      "[7200]\tvalidation_0-logloss:0.43039\n",
      "[7600]\tvalidation_0-logloss:0.42853\n",
      "[8000]\tvalidation_0-logloss:0.42685\n",
      "[8400]\tvalidation_0-logloss:0.42529\n",
      "[8800]\tvalidation_0-logloss:0.42323\n",
      "[9200]\tvalidation_0-logloss:0.42151\n",
      "[9600]\tvalidation_0-logloss:0.42017\n",
      "[10000]\tvalidation_0-logloss:0.41918\n",
      "[10400]\tvalidation_0-logloss:0.41789\n",
      "[10800]\tvalidation_0-logloss:0.41623\n",
      "[11200]\tvalidation_0-logloss:0.41490\n",
      "[11600]\tvalidation_0-logloss:0.41348\n",
      "[12000]\tvalidation_0-logloss:0.41238\n",
      "[12400]\tvalidation_0-logloss:0.41098\n",
      "[12800]\tvalidation_0-logloss:0.40990\n",
      "[13200]\tvalidation_0-logloss:0.40869\n",
      "[13600]\tvalidation_0-logloss:0.40762\n",
      "[14000]\tvalidation_0-logloss:0.40652\n",
      "[14400]\tvalidation_0-logloss:0.40573\n",
      "[14800]\tvalidation_0-logloss:0.40482\n",
      "[15200]\tvalidation_0-logloss:0.40352\n",
      "[15600]\tvalidation_0-logloss:0.40246\n",
      "[16000]\tvalidation_0-logloss:0.40159\n",
      "[16400]\tvalidation_0-logloss:0.40028\n",
      "[16800]\tvalidation_0-logloss:0.39908\n",
      "[17200]\tvalidation_0-logloss:0.39810\n",
      "[17600]\tvalidation_0-logloss:0.39709\n",
      "[18000]\tvalidation_0-logloss:0.39648\n",
      "[18400]\tvalidation_0-logloss:0.39561\n",
      "[18800]\tvalidation_0-logloss:0.39484\n",
      "[19200]\tvalidation_0-logloss:0.39391\n",
      "[19600]\tvalidation_0-logloss:0.39310\n",
      "[19999]\tvalidation_0-logloss:0.39253\n",
      "roc_auc_score: 0.9039919991215281\n",
      "--------------------------------------------------\n",
      "[11:17:51] WARNING: C:/Users/Administrator/workspace/xgboost-win64_release_1.5.0/src/learner.cc:1115: Starting in XGBoost 1.3.0, the default evaluation metric used with the objective 'binary:logistic' was changed from 'error' to 'logloss'. Explicitly set eval_metric if you'd like to restore the old behavior.\n",
      "[0]\tvalidation_0-logloss:0.69295\n"
     ]
    },
    {
     "name": "stderr",
     "output_type": "stream",
     "text": [
      "C:\\Users\\gayathri.gopalan\\Anaconda3\\lib\\site-packages\\xgboost\\sklearn.py:1224: UserWarning: The use of label encoder in XGBClassifier is deprecated and will be removed in a future release. To remove this warning, do the following: 1) Pass option use_label_encoder=False when constructing XGBClassifier object; and 2) Encode your labels (y) as integers starting with 0, i.e. 0, 1, 2, ..., [num_class - 1].\n",
      "  warnings.warn(label_encoder_deprecation_msg, UserWarning)\n"
     ]
    },
    {
     "name": "stdout",
     "output_type": "stream",
     "text": [
      "[400]\tvalidation_0-logloss:0.50321\n",
      "[800]\tvalidation_0-logloss:0.47752\n",
      "[1200]\tvalidation_0-logloss:0.47045\n",
      "[1600]\tvalidation_0-logloss:0.46563\n",
      "[2000]\tvalidation_0-logloss:0.46148\n",
      "[2400]\tvalidation_0-logloss:0.45834\n",
      "[2800]\tvalidation_0-logloss:0.45556\n",
      "[3200]\tvalidation_0-logloss:0.45238\n",
      "[3600]\tvalidation_0-logloss:0.44935\n",
      "[4000]\tvalidation_0-logloss:0.44682\n",
      "[4400]\tvalidation_0-logloss:0.44369\n",
      "[4800]\tvalidation_0-logloss:0.44112\n",
      "[5200]\tvalidation_0-logloss:0.43884\n",
      "[5600]\tvalidation_0-logloss:0.43621\n",
      "[6000]\tvalidation_0-logloss:0.43435\n",
      "[6400]\tvalidation_0-logloss:0.43247\n",
      "[6800]\tvalidation_0-logloss:0.43088\n",
      "[7200]\tvalidation_0-logloss:0.42966\n",
      "[7600]\tvalidation_0-logloss:0.42803\n",
      "[8000]\tvalidation_0-logloss:0.42619\n",
      "[8400]\tvalidation_0-logloss:0.42449\n",
      "[8800]\tvalidation_0-logloss:0.42277\n",
      "[9200]\tvalidation_0-logloss:0.42128\n",
      "[9600]\tvalidation_0-logloss:0.41982\n",
      "[10000]\tvalidation_0-logloss:0.41863\n",
      "[10400]\tvalidation_0-logloss:0.41706\n",
      "[10800]\tvalidation_0-logloss:0.41550\n",
      "[11200]\tvalidation_0-logloss:0.41402\n",
      "[11600]\tvalidation_0-logloss:0.41260\n",
      "[12000]\tvalidation_0-logloss:0.41152\n",
      "[12400]\tvalidation_0-logloss:0.41022\n",
      "[12800]\tvalidation_0-logloss:0.40893\n",
      "[13200]\tvalidation_0-logloss:0.40765\n",
      "[13600]\tvalidation_0-logloss:0.40640\n",
      "[14000]\tvalidation_0-logloss:0.40510\n",
      "[14400]\tvalidation_0-logloss:0.40429\n",
      "[14800]\tvalidation_0-logloss:0.40335\n",
      "[15200]\tvalidation_0-logloss:0.40220\n",
      "[15600]\tvalidation_0-logloss:0.40129\n",
      "[16000]\tvalidation_0-logloss:0.40023\n",
      "[16400]\tvalidation_0-logloss:0.39903\n",
      "[16800]\tvalidation_0-logloss:0.39774\n",
      "[17200]\tvalidation_0-logloss:0.39685\n",
      "[17600]\tvalidation_0-logloss:0.39588\n",
      "[18000]\tvalidation_0-logloss:0.39525\n",
      "[18400]\tvalidation_0-logloss:0.39437\n",
      "[18800]\tvalidation_0-logloss:0.39363\n",
      "[19200]\tvalidation_0-logloss:0.39271\n",
      "[19600]\tvalidation_0-logloss:0.39198\n",
      "[19999]\tvalidation_0-logloss:0.39140\n",
      "roc_auc_score: 0.9045404136518086\n",
      "--------------------------------------------------\n",
      "[11:30:46] WARNING: C:/Users/Administrator/workspace/xgboost-win64_release_1.5.0/src/learner.cc:1115: Starting in XGBoost 1.3.0, the default evaluation metric used with the objective 'binary:logistic' was changed from 'error' to 'logloss'. Explicitly set eval_metric if you'd like to restore the old behavior.\n",
      "[0]\tvalidation_0-logloss:0.69295\n"
     ]
    },
    {
     "name": "stderr",
     "output_type": "stream",
     "text": [
      "C:\\Users\\gayathri.gopalan\\Anaconda3\\lib\\site-packages\\xgboost\\sklearn.py:1224: UserWarning: The use of label encoder in XGBClassifier is deprecated and will be removed in a future release. To remove this warning, do the following: 1) Pass option use_label_encoder=False when constructing XGBClassifier object; and 2) Encode your labels (y) as integers starting with 0, i.e. 0, 1, 2, ..., [num_class - 1].\n",
      "  warnings.warn(label_encoder_deprecation_msg, UserWarning)\n"
     ]
    },
    {
     "name": "stdout",
     "output_type": "stream",
     "text": [
      "[400]\tvalidation_0-logloss:0.50047\n",
      "[800]\tvalidation_0-logloss:0.47294\n",
      "[1200]\tvalidation_0-logloss:0.46496\n",
      "[1600]\tvalidation_0-logloss:0.45993\n",
      "[2000]\tvalidation_0-logloss:0.45567\n",
      "[2400]\tvalidation_0-logloss:0.45253\n",
      "[2800]\tvalidation_0-logloss:0.44967\n",
      "[3200]\tvalidation_0-logloss:0.44600\n",
      "[3600]\tvalidation_0-logloss:0.44332\n",
      "[4000]\tvalidation_0-logloss:0.44061\n",
      "[4400]\tvalidation_0-logloss:0.43784\n",
      "[4800]\tvalidation_0-logloss:0.43496\n",
      "[5200]\tvalidation_0-logloss:0.43271\n",
      "[5600]\tvalidation_0-logloss:0.43021\n",
      "[6000]\tvalidation_0-logloss:0.42850\n",
      "[6400]\tvalidation_0-logloss:0.42675\n",
      "[6800]\tvalidation_0-logloss:0.42522\n",
      "[7200]\tvalidation_0-logloss:0.42406\n",
      "[7600]\tvalidation_0-logloss:0.42249\n",
      "[8000]\tvalidation_0-logloss:0.42093\n",
      "[8400]\tvalidation_0-logloss:0.41950\n",
      "[8800]\tvalidation_0-logloss:0.41749\n",
      "[9200]\tvalidation_0-logloss:0.41600\n",
      "[9600]\tvalidation_0-logloss:0.41464\n",
      "[10000]\tvalidation_0-logloss:0.41362\n",
      "[10400]\tvalidation_0-logloss:0.41230\n",
      "[10800]\tvalidation_0-logloss:0.41093\n",
      "[11200]\tvalidation_0-logloss:0.40987\n",
      "[11600]\tvalidation_0-logloss:0.40854\n",
      "[12000]\tvalidation_0-logloss:0.40742\n",
      "[12400]\tvalidation_0-logloss:0.40621\n",
      "[12800]\tvalidation_0-logloss:0.40506\n",
      "[13200]\tvalidation_0-logloss:0.40380\n",
      "[13600]\tvalidation_0-logloss:0.40268\n",
      "[14000]\tvalidation_0-logloss:0.40138\n",
      "[14400]\tvalidation_0-logloss:0.40059\n",
      "[14800]\tvalidation_0-logloss:0.39961\n",
      "[15200]\tvalidation_0-logloss:0.39861\n",
      "[15600]\tvalidation_0-logloss:0.39766\n",
      "[16000]\tvalidation_0-logloss:0.39667\n",
      "[16400]\tvalidation_0-logloss:0.39535\n",
      "[16800]\tvalidation_0-logloss:0.39421\n",
      "[17200]\tvalidation_0-logloss:0.39327\n",
      "[17600]\tvalidation_0-logloss:0.39245\n",
      "[18000]\tvalidation_0-logloss:0.39188\n",
      "[18400]\tvalidation_0-logloss:0.39091\n",
      "[18800]\tvalidation_0-logloss:0.39011\n",
      "[19200]\tvalidation_0-logloss:0.38935\n",
      "[19600]\tvalidation_0-logloss:0.38870\n",
      "[19999]\tvalidation_0-logloss:0.38812\n",
      "roc_auc_score: 0.9067532523542193\n",
      "--------------------------------------------------\n",
      "[11:43:45] WARNING: C:/Users/Administrator/workspace/xgboost-win64_release_1.5.0/src/learner.cc:1115: Starting in XGBoost 1.3.0, the default evaluation metric used with the objective 'binary:logistic' was changed from 'error' to 'logloss'. Explicitly set eval_metric if you'd like to restore the old behavior.\n",
      "[0]\tvalidation_0-logloss:0.69296\n"
     ]
    },
    {
     "name": "stderr",
     "output_type": "stream",
     "text": [
      "C:\\Users\\gayathri.gopalan\\Anaconda3\\lib\\site-packages\\xgboost\\sklearn.py:1224: UserWarning: The use of label encoder in XGBClassifier is deprecated and will be removed in a future release. To remove this warning, do the following: 1) Pass option use_label_encoder=False when constructing XGBClassifier object; and 2) Encode your labels (y) as integers starting with 0, i.e. 0, 1, 2, ..., [num_class - 1].\n",
      "  warnings.warn(label_encoder_deprecation_msg, UserWarning)\n"
     ]
    },
    {
     "name": "stdout",
     "output_type": "stream",
     "text": [
      "[400]\tvalidation_0-logloss:0.50096\n",
      "[800]\tvalidation_0-logloss:0.47981\n",
      "[1200]\tvalidation_0-logloss:0.47137\n",
      "[1600]\tvalidation_0-logloss:0.46536\n",
      "[2000]\tvalidation_0-logloss:0.46165\n",
      "[2400]\tvalidation_0-logloss:0.45879\n",
      "[2800]\tvalidation_0-logloss:0.45605\n",
      "[3200]\tvalidation_0-logloss:0.45240\n",
      "[3600]\tvalidation_0-logloss:0.44981\n",
      "[4000]\tvalidation_0-logloss:0.44726\n",
      "[4400]\tvalidation_0-logloss:0.44429\n",
      "[4800]\tvalidation_0-logloss:0.44181\n",
      "[5200]\tvalidation_0-logloss:0.43921\n",
      "[5600]\tvalidation_0-logloss:0.43696\n",
      "[6000]\tvalidation_0-logloss:0.43485\n",
      "[6400]\tvalidation_0-logloss:0.43296\n",
      "[6800]\tvalidation_0-logloss:0.43091\n",
      "[7200]\tvalidation_0-logloss:0.42908\n",
      "[7600]\tvalidation_0-logloss:0.42773\n",
      "[8000]\tvalidation_0-logloss:0.42622\n",
      "[8400]\tvalidation_0-logloss:0.42462\n",
      "[8800]\tvalidation_0-logloss:0.42293\n",
      "[9200]\tvalidation_0-logloss:0.42163\n",
      "[9600]\tvalidation_0-logloss:0.41990\n",
      "[10000]\tvalidation_0-logloss:0.41859\n",
      "[10400]\tvalidation_0-logloss:0.41707\n",
      "[10800]\tvalidation_0-logloss:0.41600\n",
      "[11200]\tvalidation_0-logloss:0.41493\n",
      "[11600]\tvalidation_0-logloss:0.41390\n",
      "[12000]\tvalidation_0-logloss:0.41278\n",
      "[12400]\tvalidation_0-logloss:0.41186\n",
      "[12800]\tvalidation_0-logloss:0.41047\n",
      "[13200]\tvalidation_0-logloss:0.40970\n",
      "[13600]\tvalidation_0-logloss:0.40850\n",
      "[14000]\tvalidation_0-logloss:0.40736\n",
      "[14400]\tvalidation_0-logloss:0.40646\n",
      "[14800]\tvalidation_0-logloss:0.40537\n",
      "[15200]\tvalidation_0-logloss:0.40466\n",
      "[15600]\tvalidation_0-logloss:0.40363\n",
      "[16000]\tvalidation_0-logloss:0.40286\n",
      "[16400]\tvalidation_0-logloss:0.40184\n",
      "[16800]\tvalidation_0-logloss:0.40097\n",
      "[17200]\tvalidation_0-logloss:0.40015\n",
      "[17600]\tvalidation_0-logloss:0.39941\n",
      "[18000]\tvalidation_0-logloss:0.39863\n",
      "[18400]\tvalidation_0-logloss:0.39792\n",
      "[18800]\tvalidation_0-logloss:0.39725\n",
      "[19200]\tvalidation_0-logloss:0.39673\n",
      "[19600]\tvalidation_0-logloss:0.39590\n",
      "[19999]\tvalidation_0-logloss:0.39524\n",
      "roc_auc_score: 0.9021232706012914\n",
      "--------------------------------------------------\n",
      "[11:56:39] WARNING: C:/Users/Administrator/workspace/xgboost-win64_release_1.5.0/src/learner.cc:1115: Starting in XGBoost 1.3.0, the default evaluation metric used with the objective 'binary:logistic' was changed from 'error' to 'logloss'. Explicitly set eval_metric if you'd like to restore the old behavior.\n",
      "[0]\tvalidation_0-logloss:0.69295\n"
     ]
    },
    {
     "name": "stderr",
     "output_type": "stream",
     "text": [
      "C:\\Users\\gayathri.gopalan\\Anaconda3\\lib\\site-packages\\xgboost\\sklearn.py:1224: UserWarning: The use of label encoder in XGBClassifier is deprecated and will be removed in a future release. To remove this warning, do the following: 1) Pass option use_label_encoder=False when constructing XGBClassifier object; and 2) Encode your labels (y) as integers starting with 0, i.e. 0, 1, 2, ..., [num_class - 1].\n",
      "  warnings.warn(label_encoder_deprecation_msg, UserWarning)\n"
     ]
    },
    {
     "name": "stdout",
     "output_type": "stream",
     "text": [
      "[400]\tvalidation_0-logloss:0.50131\n",
      "[800]\tvalidation_0-logloss:0.47924\n",
      "[1200]\tvalidation_0-logloss:0.47087\n",
      "[1600]\tvalidation_0-logloss:0.46491\n",
      "[2000]\tvalidation_0-logloss:0.46119\n",
      "[2400]\tvalidation_0-logloss:0.45819\n",
      "[2800]\tvalidation_0-logloss:0.45580\n",
      "[3200]\tvalidation_0-logloss:0.45183\n",
      "[3600]\tvalidation_0-logloss:0.44921\n",
      "[4000]\tvalidation_0-logloss:0.44636\n",
      "[4400]\tvalidation_0-logloss:0.44310\n",
      "[4800]\tvalidation_0-logloss:0.44058\n",
      "[5200]\tvalidation_0-logloss:0.43816\n",
      "[5600]\tvalidation_0-logloss:0.43597\n",
      "[6000]\tvalidation_0-logloss:0.43390\n",
      "[6400]\tvalidation_0-logloss:0.43209\n",
      "[6800]\tvalidation_0-logloss:0.43028\n",
      "[7200]\tvalidation_0-logloss:0.42803\n",
      "[7600]\tvalidation_0-logloss:0.42679\n",
      "[8000]\tvalidation_0-logloss:0.42528\n",
      "[8400]\tvalidation_0-logloss:0.42346\n",
      "[8800]\tvalidation_0-logloss:0.42199\n",
      "[9200]\tvalidation_0-logloss:0.42056\n",
      "[9600]\tvalidation_0-logloss:0.41885\n",
      "[10000]\tvalidation_0-logloss:0.41741\n",
      "[10400]\tvalidation_0-logloss:0.41594\n",
      "[10800]\tvalidation_0-logloss:0.41449\n",
      "[11200]\tvalidation_0-logloss:0.41335\n",
      "[11600]\tvalidation_0-logloss:0.41234\n",
      "[12000]\tvalidation_0-logloss:0.41117\n",
      "[12400]\tvalidation_0-logloss:0.40973\n",
      "[12800]\tvalidation_0-logloss:0.40847\n",
      "[13200]\tvalidation_0-logloss:0.40751\n",
      "[13600]\tvalidation_0-logloss:0.40645\n",
      "[14000]\tvalidation_0-logloss:0.40530\n",
      "[14400]\tvalidation_0-logloss:0.40436\n",
      "[14800]\tvalidation_0-logloss:0.40331\n",
      "[15200]\tvalidation_0-logloss:0.40266\n",
      "[15600]\tvalidation_0-logloss:0.40170\n",
      "[16000]\tvalidation_0-logloss:0.40095\n",
      "[16400]\tvalidation_0-logloss:0.40000\n",
      "[16800]\tvalidation_0-logloss:0.39918\n",
      "[17200]\tvalidation_0-logloss:0.39845\n",
      "[17600]\tvalidation_0-logloss:0.39771\n",
      "[18000]\tvalidation_0-logloss:0.39686\n",
      "[18400]\tvalidation_0-logloss:0.39610\n",
      "[18800]\tvalidation_0-logloss:0.39548\n",
      "[19200]\tvalidation_0-logloss:0.39494\n",
      "[19600]\tvalidation_0-logloss:0.39425\n",
      "[19999]\tvalidation_0-logloss:0.39359\n",
      "roc_auc_score: 0.9034988711831224\n",
      "--------------------------------------------------\n"
     ]
    }
   ],
   "source": [
    "## Now using XGBoost\n",
    "\n",
    "xgb_params={'n_estimators': 20000, \n",
    "             'max_depth': 6, \n",
    "             'learning_rate': 0.0201, \n",
    "             'reg_lambda': 29.326, \n",
    "             'subsample': 0.818, \n",
    "             'colsample_bytree': 0.235, \n",
    "             'colsample_bynode': 0.820, \n",
    "             'colsample_bylevel': 0.453}\n",
    "\n",
    "result_xgb = my_cross_validation_model(X_train,y_train,XGBClassifier,xgb_params)\n",
    "# xgb.fit(X_train, y_train)"
   ]
  },
  {
   "cell_type": "code",
   "execution_count": null,
   "id": "93e2bb78",
   "metadata": {},
   "outputs": [],
   "source": [
    "result_xgb.best"
   ]
  },
  {
   "cell_type": "code",
   "execution_count": 74,
   "id": "352cf28e",
   "metadata": {},
   "outputs": [
    {
     "data": {
      "text/plain": [
       "0.8314912565120335"
      ]
     },
     "execution_count": 74,
     "metadata": {},
     "output_type": "execute_result"
    }
   ],
   "source": [
    "xgb_predict = result_xgb.predict(X_test)\n",
    "xgb_auc_score = roc_auc_score(y_test, xgb_predict)\n",
    "xgb_auc_score"
   ]
  },
  {
   "cell_type": "code",
   "execution_count": 75,
   "id": "917cbab5-de67-490b-8ae4-b2a698c3be9a",
   "metadata": {},
   "outputs": [
    {
     "data": {
      "text/plain": [
       "<sklearn.metrics._plot.roc_curve.RocCurveDisplay at 0x1de4f66bfa0>"
      ]
     },
     "execution_count": 75,
     "metadata": {},
     "output_type": "execute_result"
    },
    {
     "data": {
      "image/png": "[encoded data removed]",
      "text/plain": [
       "<Figure size 432x288 with 1 Axes>"
      ]
     },
     "metadata": {
      "needs_background": "light"
     },
     "output_type": "display_data"
    }
   ],
   "source": [
    "plot_roc_curve(result_xgb, X_test, y_test) "
   ]
  },
  {
   "cell_type": "code",
   "execution_count": 76,
   "id": "6ecd8a9f",
   "metadata": {},
   "outputs": [],
   "source": [
    "xgb_pred_final = result_xgb.predict_proba(test_df)"
   ]
  },
  {
   "cell_type": "markdown",
   "id": "cccd564b-2da8-47a8-b7db-142efd7e2088",
   "metadata": {},
   "source": [
    "### LGBMClassifier"
   ]
  },
  {
   "cell_type": "code",
   "execution_count": 77,
   "id": "40b6624d",
   "metadata": {},
   "outputs": [],
   "source": [
    "from lightgbm import LGBMClassifier"
   ]
  },
  {
   "cell_type": "code",
   "execution_count": 78,
   "id": "f1fc20b6",
   "metadata": {},
   "outputs": [
    {
     "data": {
      "text/plain": [
       "LGBMClassifier(colsample_bytree=0.94, learning_rate=0.00094, n_estimators=10000,\n",
       "               reg_alpha=1.0, reg_lambda=5.0, subsample=0.75, subsample_freq=1)"
      ]
     },
     "execution_count": 78,
     "metadata": {},
     "output_type": "execute_result"
    }
   ],
   "source": [
    "clf = LGBMClassifier(\n",
    "            n_jobs=-1,\n",
    "            learning_rate=0.00094,\n",
    "            n_estimators=10000,\n",
    "            colsample_bytree=0.94,\n",
    "            subsample = 0.75,\n",
    "            subsample_freq = 1,\n",
    "            reg_alpha= 1.0,\n",
    "            reg_lambda = 5.0\n",
    "        )\n",
    "\n",
    "clf.fit(X_train, y_train, eval_metric='auc')"
   ]
  },
  {
   "cell_type": "code",
   "execution_count": 79,
   "id": "732471fd",
   "metadata": {},
   "outputs": [],
   "source": [
    "lgbm_pred=clf.predict_proba(test_df)"
   ]
  },
  {
   "cell_type": "code",
   "execution_count": 80,
   "id": "7d8b4c63",
   "metadata": {},
   "outputs": [
    {
     "data": {
      "text/plain": [
       "0.8321225936789072"
      ]
     },
     "execution_count": 80,
     "metadata": {},
     "output_type": "execute_result"
    }
   ],
   "source": [
    "lgbm_predict = clf.predict(X_test)\n",
    "lgbm_auc_score = roc_auc_score(y_test, lgbm_predict)\n",
    "lgbm_auc_score"
   ]
  },
  {
   "cell_type": "code",
   "execution_count": 81,
   "id": "48840d9b-651b-4bbd-93ae-e734ad81e595",
   "metadata": {},
   "outputs": [
    {
     "data": {
      "text/plain": [
       "<sklearn.metrics._plot.roc_curve.RocCurveDisplay at 0x1de4703dd00>"
      ]
     },
     "execution_count": 81,
     "metadata": {},
     "output_type": "execute_result"
    },
    {
     "data": {
      "image/png": "[encoded data removed]",
      "text/plain": [
       "<Figure size 432x288 with 1 Axes>"
      ]
     },
     "metadata": {
      "needs_background": "light"
     },
     "output_type": "display_data"
    }
   ],
   "source": [
    "plot_roc_curve(clf, X_test, y_test) "
   ]
  },
  {
   "cell_type": "markdown",
   "id": "799a32fe-28ed-4334-8c6f-2d0bf7aac0dc",
   "metadata": {},
   "source": [
    "### CatBoost Classifier"
   ]
  },
  {
   "cell_type": "code",
   "execution_count": 82,
   "id": "4f1d3ffb",
   "metadata": {},
   "outputs": [],
   "source": [
    "cat_params= {'n_estimators': 20000, \n",
    "                  'depth': 4, \n",
    "                  'learning_rate': 0.023, \n",
    "                  'colsample_bylevel': 0.655, \n",
    "                  'bagging_temperature': 0.921, \n",
    "                  'l2_leaf_reg': 10.133}"
   ]
  },
  {
   "cell_type": "code",
   "execution_count": 83,
   "id": "7c004efb",
   "metadata": {},
   "outputs": [
    {
     "name": "stdout",
     "output_type": "stream",
     "text": [
      "0:\tlearn: 0.6826957\ttest: 0.6828182\tbest: 0.6828182 (0)\ttotal: 196ms\tremaining: 1h 5m 17s\n",
      "400:\tlearn: 0.4488315\ttest: 0.4519850\tbest: 0.4519850 (400)\ttotal: 8.87s\tremaining: 7m 13s\n",
      "800:\tlearn: 0.4180306\ttest: 0.4208315\tbest: 0.4208315 (800)\ttotal: 18.2s\tremaining: 7m 15s\n",
      "1200:\tlearn: 0.3997503\ttest: 0.4024488\tbest: 0.4024488 (1200)\ttotal: 27.5s\tremaining: 7m 10s\n",
      "1600:\tlearn: 0.3875958\ttest: 0.3901265\tbest: 0.3901265 (1600)\ttotal: 36.6s\tremaining: 7m\n",
      "2000:\tlearn: 0.3785865\ttest: 0.3809407\tbest: 0.3809407 (2000)\ttotal: 45.5s\tremaining: 6m 48s\n",
      "2400:\tlearn: 0.3701720\ttest: 0.3724139\tbest: 0.3724120 (2399)\ttotal: 55.1s\tremaining: 6m 43s\n",
      "2800:\tlearn: 0.3651064\ttest: 0.3674328\tbest: 0.3674328 (2800)\ttotal: 1m 3s\tremaining: 6m 31s\n",
      "3200:\tlearn: 0.3605930\ttest: 0.3629380\tbest: 0.3629380 (3200)\ttotal: 1m 12s\tremaining: 6m 20s\n",
      "3600:\tlearn: 0.3572025\ttest: 0.3595780\tbest: 0.3595779 (3599)\ttotal: 1m 21s\tremaining: 6m 8s\n",
      "4000:\tlearn: 0.3546220\ttest: 0.3571128\tbest: 0.3571128 (4000)\ttotal: 1m 30s\tremaining: 6m 2s\n",
      "4400:\tlearn: 0.3524418\ttest: 0.3551475\tbest: 0.3551475 (4400)\ttotal: 1m 39s\tremaining: 5m 51s\n",
      "4800:\tlearn: 0.3505293\ttest: 0.3534026\tbest: 0.3534026 (4800)\ttotal: 1m 47s\tremaining: 5m 41s\n",
      "5200:\tlearn: 0.3490877\ttest: 0.3521376\tbest: 0.3521376 (5200)\ttotal: 1m 57s\tremaining: 5m 33s\n",
      "5600:\tlearn: 0.3479835\ttest: 0.3512780\tbest: 0.3512780 (5600)\ttotal: 2m 5s\tremaining: 5m 23s\n",
      "6000:\tlearn: 0.3468642\ttest: 0.3503433\tbest: 0.3503433 (6000)\ttotal: 2m 14s\tremaining: 5m 13s\n",
      "6400:\tlearn: 0.3459462\ttest: 0.3496223\tbest: 0.3496223 (6400)\ttotal: 2m 22s\tremaining: 5m 3s\n",
      "6800:\tlearn: 0.3451698\ttest: 0.3490637\tbest: 0.3490637 (6800)\ttotal: 2m 32s\tremaining: 4m 55s\n",
      "7200:\tlearn: 0.3444768\ttest: 0.3485727\tbest: 0.3485717 (7198)\ttotal: 2m 40s\tremaining: 4m 46s\n",
      "7600:\tlearn: 0.3438306\ttest: 0.3481181\tbest: 0.3481181 (7600)\ttotal: 2m 49s\tremaining: 4m 36s\n",
      "8000:\tlearn: 0.3432456\ttest: 0.3477362\tbest: 0.3477362 (8000)\ttotal: 2m 58s\tremaining: 4m 28s\n",
      "8400:\tlearn: 0.3427373\ttest: 0.3474033\tbest: 0.3474023 (8399)\ttotal: 3m 7s\tremaining: 4m 19s\n",
      "8800:\tlearn: 0.3422355\ttest: 0.3470844\tbest: 0.3470844 (8800)\ttotal: 3m 16s\tremaining: 4m 9s\n",
      "9200:\tlearn: 0.3418184\ttest: 0.3468622\tbest: 0.3468604 (9196)\ttotal: 3m 24s\tremaining: 4m\n",
      "9600:\tlearn: 0.3413964\ttest: 0.3465834\tbest: 0.3465834 (9600)\ttotal: 3m 33s\tremaining: 3m 51s\n",
      "10000:\tlearn: 0.3410169\ttest: 0.3463763\tbest: 0.3463763 (10000)\ttotal: 3m 42s\tremaining: 3m 42s\n",
      "10400:\tlearn: 0.3406838\ttest: 0.3462031\tbest: 0.3462031 (10400)\ttotal: 3m 51s\tremaining: 3m 33s\n",
      "10800:\tlearn: 0.3403697\ttest: 0.3460370\tbest: 0.3460362 (10797)\ttotal: 4m\tremaining: 3m 24s\n",
      "11200:\tlearn: 0.3400421\ttest: 0.3458730\tbest: 0.3458713 (11199)\ttotal: 4m 8s\tremaining: 3m 15s\n",
      "11600:\tlearn: 0.3397428\ttest: 0.3457249\tbest: 0.3457249 (11600)\ttotal: 4m 16s\tremaining: 3m 5s\n",
      "12000:\tlearn: 0.3394756\ttest: 0.3455992\tbest: 0.3455985 (11992)\ttotal: 4m 25s\tremaining: 2m 56s\n",
      "12400:\tlearn: 0.3392233\ttest: 0.3455066\tbest: 0.3455065 (12399)\ttotal: 4m 33s\tremaining: 2m 47s\n",
      "12800:\tlearn: 0.3389620\ttest: 0.3454069\tbest: 0.3454063 (12799)\ttotal: 4m 43s\tremaining: 2m 39s\n",
      "13200:\tlearn: 0.3387117\ttest: 0.3453183\tbest: 0.3453155 (13166)\ttotal: 4m 51s\tremaining: 2m 30s\n",
      "13600:\tlearn: 0.3384579\ttest: 0.3452044\tbest: 0.3452044 (13600)\ttotal: 5m\tremaining: 2m 21s\n",
      "14000:\tlearn: 0.3382274\ttest: 0.3451390\tbest: 0.3451387 (13997)\ttotal: 5m 8s\tremaining: 2m 12s\n",
      "14400:\tlearn: 0.3379995\ttest: 0.3450678\tbest: 0.3450677 (14398)\ttotal: 5m 17s\tremaining: 2m 3s\n",
      "14800:\tlearn: 0.3377914\ttest: 0.3449919\tbest: 0.3449919 (14800)\ttotal: 5m 25s\tremaining: 1m 54s\n",
      "Stopped by overfitting detector  (100 iterations wait)\n",
      "\n",
      "bestTest = 0.3449498378\n",
      "bestIteration = 14937\n",
      "\n",
      "Shrink model to first 14938 iterations.\n",
      "roc_auc_score: 0.9217517987894022\n",
      "--------------------------------------------------\n",
      "0:\tlearn: 0.6826864\ttest: 0.6826205\tbest: 0.6826205 (0)\ttotal: 18.3ms\tremaining: 6m 5s\n",
      "400:\tlearn: 0.4478478\ttest: 0.4475806\tbest: 0.4475806 (400)\ttotal: 8.85s\tremaining: 7m 12s\n",
      "800:\tlearn: 0.4193911\ttest: 0.4195081\tbest: 0.4195081 (800)\ttotal: 19s\tremaining: 7m 35s\n",
      "1200:\tlearn: 0.4006277\ttest: 0.4009780\tbest: 0.4009780 (1200)\ttotal: 28.6s\tremaining: 7m 27s\n",
      "1600:\tlearn: 0.3879670\ttest: 0.3884897\tbest: 0.3884897 (1600)\ttotal: 37.1s\tremaining: 7m 6s\n",
      "2000:\tlearn: 0.3789432\ttest: 0.3798600\tbest: 0.3798600 (2000)\ttotal: 46.1s\tremaining: 6m 55s\n",
      "2400:\tlearn: 0.3713112\ttest: 0.3725484\tbest: 0.3725484 (2400)\ttotal: 55s\tremaining: 6m 43s\n",
      "2800:\tlearn: 0.3653272\ttest: 0.3668840\tbest: 0.3668840 (2800)\ttotal: 1m 4s\tremaining: 6m 33s\n",
      "3200:\tlearn: 0.3611202\ttest: 0.3629063\tbest: 0.3629063 (3200)\ttotal: 1m 12s\tremaining: 6m 22s\n",
      "3600:\tlearn: 0.3572863\ttest: 0.3594986\tbest: 0.3594986 (3600)\ttotal: 1m 22s\tremaining: 6m 16s\n",
      "4000:\tlearn: 0.3544387\ttest: 0.3569496\tbest: 0.3569496 (4000)\ttotal: 1m 31s\tremaining: 6m 7s\n",
      "4400:\tlearn: 0.3522269\ttest: 0.3550037\tbest: 0.3550037 (4400)\ttotal: 1m 40s\tremaining: 5m 55s\n",
      "4800:\tlearn: 0.3505344\ttest: 0.3535865\tbest: 0.3535865 (4800)\ttotal: 1m 49s\tremaining: 5m 45s\n",
      "5200:\tlearn: 0.3488624\ttest: 0.3521851\tbest: 0.3521851 (5200)\ttotal: 1m 58s\tremaining: 5m 37s\n",
      "5600:\tlearn: 0.3476950\ttest: 0.3512715\tbest: 0.3512715 (5600)\ttotal: 2m 6s\tremaining: 5m 26s\n",
      "6000:\tlearn: 0.3467540\ttest: 0.3506076\tbest: 0.3506069 (5999)\ttotal: 2m 15s\tremaining: 5m 16s\n",
      "6400:\tlearn: 0.3458073\ttest: 0.3499329\tbest: 0.3499329 (6400)\ttotal: 2m 25s\tremaining: 5m 8s\n",
      "6800:\tlearn: 0.3450267\ttest: 0.3493835\tbest: 0.3493835 (6800)\ttotal: 2m 34s\tremaining: 5m\n",
      "7200:\tlearn: 0.3442877\ttest: 0.3488649\tbest: 0.3488638 (7197)\ttotal: 2m 43s\tremaining: 4m 50s\n",
      "7600:\tlearn: 0.3436586\ttest: 0.3484400\tbest: 0.3484400 (7600)\ttotal: 2m 51s\tremaining: 4m 40s\n",
      "8000:\tlearn: 0.3430831\ttest: 0.3480671\tbest: 0.3480646 (7994)\ttotal: 3m\tremaining: 4m 30s\n",
      "8400:\tlearn: 0.3425672\ttest: 0.3477742\tbest: 0.3477742 (8400)\ttotal: 3m 9s\tremaining: 4m 21s\n",
      "8800:\tlearn: 0.3421134\ttest: 0.3475140\tbest: 0.3475140 (8800)\ttotal: 3m 18s\tremaining: 4m 12s\n",
      "9200:\tlearn: 0.3416859\ttest: 0.3472992\tbest: 0.3472992 (9200)\ttotal: 3m 27s\tremaining: 4m 3s\n",
      "9600:\tlearn: 0.3413016\ttest: 0.3470616\tbest: 0.3470614 (9599)\ttotal: 3m 36s\tremaining: 3m 54s\n",
      "10000:\tlearn: 0.3409222\ttest: 0.3468682\tbest: 0.3468682 (10000)\ttotal: 3m 45s\tremaining: 3m 45s\n",
      "10400:\tlearn: 0.3405469\ttest: 0.3466801\tbest: 0.3466801 (10400)\ttotal: 3m 53s\tremaining: 3m 35s\n",
      "10800:\tlearn: 0.3402121\ttest: 0.3465038\tbest: 0.3465038 (10800)\ttotal: 4m 2s\tremaining: 3m 26s\n",
      "11200:\tlearn: 0.3398959\ttest: 0.3463741\tbest: 0.3463740 (11199)\ttotal: 4m 11s\tremaining: 3m 17s\n",
      "11600:\tlearn: 0.3396078\ttest: 0.3462371\tbest: 0.3462354 (11595)\ttotal: 4m 20s\tremaining: 3m 8s\n",
      "12000:\tlearn: 0.3393045\ttest: 0.3461007\tbest: 0.3461002 (11999)\ttotal: 4m 29s\tremaining: 2m 59s\n",
      "12400:\tlearn: 0.3390417\ttest: 0.3459945\tbest: 0.3459924 (12382)\ttotal: 4m 38s\tremaining: 2m 50s\n",
      "12800:\tlearn: 0.3387769\ttest: 0.3458716\tbest: 0.3458689 (12795)\ttotal: 4m 47s\tremaining: 2m 41s\n",
      "13200:\tlearn: 0.3385360\ttest: 0.3457663\tbest: 0.3457663 (13200)\ttotal: 4m 55s\tremaining: 2m 32s\n",
      "13600:\tlearn: 0.3383111\ttest: 0.3456950\tbest: 0.3456941 (13598)\ttotal: 5m 4s\tremaining: 2m 23s\n",
      "14000:\tlearn: 0.3380845\ttest: 0.3456100\tbest: 0.3456100 (14000)\ttotal: 5m 12s\tremaining: 2m 14s\n",
      "14400:\tlearn: 0.3378552\ttest: 0.3455316\tbest: 0.3455311 (14399)\ttotal: 5m 21s\tremaining: 2m 5s\n",
      "14800:\tlearn: 0.3376415\ttest: 0.3454489\tbest: 0.3454489 (14800)\ttotal: 5m 30s\tremaining: 1m 55s\n",
      "15200:\tlearn: 0.3374448\ttest: 0.3453783\tbest: 0.3453774 (15198)\ttotal: 5m 38s\tremaining: 1m 46s\n",
      "15600:\tlearn: 0.3372443\ttest: 0.3453202\tbest: 0.3453181 (15597)\ttotal: 5m 47s\tremaining: 1m 38s\n",
      "16000:\tlearn: 0.3370431\ttest: 0.3452548\tbest: 0.3452542 (15996)\ttotal: 5m 56s\tremaining: 1m 28s\n",
      "16400:\tlearn: 0.3368571\ttest: 0.3451871\tbest: 0.3451871 (16400)\ttotal: 6m 4s\tremaining: 1m 20s\n",
      "16800:\tlearn: 0.3366603\ttest: 0.3451143\tbest: 0.3451135 (16799)\ttotal: 6m 12s\tremaining: 1m 10s\n",
      "17200:\tlearn: 0.3364819\ttest: 0.3450367\tbest: 0.3450367 (17200)\ttotal: 6m 21s\tremaining: 1m 2s\n",
      "17600:\tlearn: 0.3363142\ttest: 0.3449823\tbest: 0.3449823 (17600)\ttotal: 6m 30s\tremaining: 53.2s\n",
      "18000:\tlearn: 0.3361465\ttest: 0.3449326\tbest: 0.3449323 (17999)\ttotal: 6m 38s\tremaining: 44.3s\n",
      "18400:\tlearn: 0.3359902\ttest: 0.3448864\tbest: 0.3448850 (18378)\ttotal: 6m 47s\tremaining: 35.4s\n"
     ]
    },
    {
     "name": "stdout",
     "output_type": "stream",
     "text": [
      "18800:\tlearn: 0.3358368\ttest: 0.3448332\tbest: 0.3448330 (18771)\ttotal: 6m 56s\tremaining: 26.5s\n",
      "Stopped by overfitting detector  (100 iterations wait)\n",
      "\n",
      "bestTest = 0.3448187322\n",
      "bestIteration = 18933\n",
      "\n",
      "Shrink model to first 18934 iterations.\n",
      "roc_auc_score: 0.9221992335465125\n",
      "--------------------------------------------------\n",
      "0:\tlearn: 0.6826142\ttest: 0.6826776\tbest: 0.6826776 (0)\ttotal: 32ms\tremaining: 10m 39s\n",
      "400:\tlearn: 0.4473144\ttest: 0.4496329\tbest: 0.4496329 (400)\ttotal: 8.54s\tremaining: 6m 57s\n",
      "800:\tlearn: 0.4175877\ttest: 0.4210449\tbest: 0.4210449 (800)\ttotal: 18.1s\tremaining: 7m 13s\n",
      "1200:\tlearn: 0.3997140\ttest: 0.4033744\tbest: 0.4033744 (1200)\ttotal: 27.2s\tremaining: 7m 5s\n",
      "1600:\tlearn: 0.3871811\ttest: 0.3908734\tbest: 0.3908721 (1599)\ttotal: 36.4s\tremaining: 6m 58s\n",
      "2000:\tlearn: 0.3777519\ttest: 0.3815405\tbest: 0.3815405 (2000)\ttotal: 45.1s\tremaining: 6m 45s\n",
      "2400:\tlearn: 0.3700306\ttest: 0.3741194\tbest: 0.3741194 (2400)\ttotal: 54.9s\tremaining: 6m 42s\n",
      "2800:\tlearn: 0.3645673\ttest: 0.3687468\tbest: 0.3687468 (2800)\ttotal: 1m 3s\tremaining: 6m 31s\n",
      "3200:\tlearn: 0.3603191\ttest: 0.3647177\tbest: 0.3647177 (3200)\ttotal: 1m 12s\tremaining: 6m 19s\n",
      "3600:\tlearn: 0.3568483\ttest: 0.3615114\tbest: 0.3615114 (3600)\ttotal: 1m 21s\tremaining: 6m 12s\n",
      "4000:\tlearn: 0.3542241\ttest: 0.3590184\tbest: 0.3590184 (4000)\ttotal: 1m 30s\tremaining: 6m 1s\n",
      "4400:\tlearn: 0.3521215\ttest: 0.3571023\tbest: 0.3571023 (4400)\ttotal: 1m 39s\tremaining: 5m 52s\n",
      "4800:\tlearn: 0.3503230\ttest: 0.3555323\tbest: 0.3555323 (4800)\ttotal: 1m 47s\tremaining: 5m 41s\n",
      "5200:\tlearn: 0.3489256\ttest: 0.3543309\tbest: 0.3543309 (5200)\ttotal: 1m 57s\tremaining: 5m 33s\n",
      "5600:\tlearn: 0.3476824\ttest: 0.3532804\tbest: 0.3532804 (5600)\ttotal: 2m 6s\tremaining: 5m 25s\n",
      "6000:\tlearn: 0.3466248\ttest: 0.3524434\tbest: 0.3524434 (6000)\ttotal: 2m 15s\tremaining: 5m 16s\n",
      "6400:\tlearn: 0.3456646\ttest: 0.3517334\tbest: 0.3517334 (6400)\ttotal: 2m 24s\tremaining: 5m 7s\n",
      "6800:\tlearn: 0.3448958\ttest: 0.3511606\tbest: 0.3511601 (6798)\ttotal: 2m 33s\tremaining: 4m 57s\n",
      "7200:\tlearn: 0.3442246\ttest: 0.3506711\tbest: 0.3506711 (7200)\ttotal: 2m 41s\tremaining: 4m 47s\n",
      "7600:\tlearn: 0.3436170\ttest: 0.3502306\tbest: 0.3502300 (7599)\ttotal: 2m 49s\tremaining: 4m 37s\n",
      "8000:\tlearn: 0.3430575\ttest: 0.3498573\tbest: 0.3498566 (7998)\ttotal: 2m 58s\tremaining: 4m 27s\n",
      "8400:\tlearn: 0.3425842\ttest: 0.3495925\tbest: 0.3495925 (8400)\ttotal: 3m 7s\tremaining: 4m 19s\n",
      "8800:\tlearn: 0.3421386\ttest: 0.3493274\tbest: 0.3493266 (8780)\ttotal: 3m 17s\tremaining: 4m 11s\n",
      "9200:\tlearn: 0.3417155\ttest: 0.3490813\tbest: 0.3490809 (9198)\ttotal: 3m 25s\tremaining: 4m 1s\n",
      "9600:\tlearn: 0.3412691\ttest: 0.3488053\tbest: 0.3488044 (9596)\ttotal: 3m 35s\tremaining: 3m 53s\n",
      "10000:\tlearn: 0.3408965\ttest: 0.3485961\tbest: 0.3485934 (9995)\ttotal: 3m 44s\tremaining: 3m 44s\n",
      "10400:\tlearn: 0.3405677\ttest: 0.3484250\tbest: 0.3484250 (10400)\ttotal: 3m 52s\tremaining: 3m 34s\n",
      "10800:\tlearn: 0.3402256\ttest: 0.3482041\tbest: 0.3482034 (10799)\ttotal: 4m 1s\tremaining: 3m 25s\n",
      "11200:\tlearn: 0.3399464\ttest: 0.3480926\tbest: 0.3480913 (11194)\ttotal: 4m 10s\tremaining: 3m 16s\n",
      "11600:\tlearn: 0.3396486\ttest: 0.3479557\tbest: 0.3479547 (11593)\ttotal: 4m 19s\tremaining: 3m 8s\n",
      "12000:\tlearn: 0.3393720\ttest: 0.3478195\tbest: 0.3478190 (11994)\ttotal: 4m 27s\tremaining: 2m 58s\n",
      "12400:\tlearn: 0.3390992\ttest: 0.3476909\tbest: 0.3476903 (12397)\ttotal: 4m 36s\tremaining: 2m 49s\n",
      "12800:\tlearn: 0.3388597\ttest: 0.3476011\tbest: 0.3476011 (12800)\ttotal: 4m 44s\tremaining: 2m 40s\n",
      "13200:\tlearn: 0.3386133\ttest: 0.3475220\tbest: 0.3475220 (13200)\ttotal: 4m 53s\tremaining: 2m 31s\n",
      "13600:\tlearn: 0.3383794\ttest: 0.3474426\tbest: 0.3474423 (13599)\ttotal: 5m 1s\tremaining: 2m 21s\n",
      "14000:\tlearn: 0.3381604\ttest: 0.3473606\tbest: 0.3473592 (13997)\ttotal: 5m 9s\tremaining: 2m 12s\n",
      "14400:\tlearn: 0.3379287\ttest: 0.3472544\tbest: 0.3472536 (14397)\ttotal: 5m 19s\tremaining: 2m 4s\n",
      "14800:\tlearn: 0.3377172\ttest: 0.3471630\tbest: 0.3471595 (14792)\ttotal: 5m 28s\tremaining: 1m 55s\n",
      "15200:\tlearn: 0.3375288\ttest: 0.3471023\tbest: 0.3470983 (15190)\ttotal: 5m 36s\tremaining: 1m 46s\n",
      "15600:\tlearn: 0.3373399\ttest: 0.3470343\tbest: 0.3470343 (15600)\ttotal: 5m 45s\tremaining: 1m 37s\n",
      "16000:\tlearn: 0.3371550\ttest: 0.3469686\tbest: 0.3469685 (15998)\ttotal: 5m 53s\tremaining: 1m 28s\n",
      "16400:\tlearn: 0.3369715\ttest: 0.3469254\tbest: 0.3469254 (16400)\ttotal: 6m 1s\tremaining: 1m 19s\n",
      "16800:\tlearn: 0.3367807\ttest: 0.3468234\tbest: 0.3468221 (16786)\ttotal: 6m 10s\tremaining: 1m 10s\n",
      "17200:\tlearn: 0.3366039\ttest: 0.3467644\tbest: 0.3467644 (17200)\ttotal: 6m 20s\tremaining: 1m 1s\n",
      "17600:\tlearn: 0.3364330\ttest: 0.3467010\tbest: 0.3466987 (17577)\ttotal: 6m 28s\tremaining: 52.9s\n",
      "18000:\tlearn: 0.3362745\ttest: 0.3466552\tbest: 0.3466544 (17998)\ttotal: 6m 36s\tremaining: 44.1s\n",
      "18400:\tlearn: 0.3361069\ttest: 0.3465933\tbest: 0.3465933 (18400)\ttotal: 6m 44s\tremaining: 35.2s\n",
      "18800:\tlearn: 0.3359452\ttest: 0.3465343\tbest: 0.3465307 (18785)\ttotal: 6m 53s\tremaining: 26.4s\n",
      "19200:\tlearn: 0.3357965\ttest: 0.3464929\tbest: 0.3464929 (19200)\ttotal: 7m 1s\tremaining: 17.5s\n",
      "19600:\tlearn: 0.3356466\ttest: 0.3464532\tbest: 0.3464508 (19595)\ttotal: 7m 9s\tremaining: 8.75s\n",
      "19999:\tlearn: 0.3355071\ttest: 0.3464128\tbest: 0.3464127 (19995)\ttotal: 7m 18s\tremaining: 0us\n",
      "\n",
      "bestTest = 0.3464126609\n",
      "bestIteration = 19995\n",
      "\n",
      "Shrink model to first 19996 iterations.\n",
      "roc_auc_score: 0.9208545884585025\n",
      "--------------------------------------------------\n",
      "0:\tlearn: 0.6827717\ttest: 0.6826411\tbest: 0.6826411 (0)\ttotal: 18.5ms\tremaining: 6m 10s\n",
      "400:\tlearn: 0.4483793\ttest: 0.4459698\tbest: 0.4459698 (400)\ttotal: 9.59s\tremaining: 7m 48s\n",
      "800:\tlearn: 0.4183525\ttest: 0.4164465\tbest: 0.4164465 (800)\ttotal: 18.5s\tremaining: 7m 22s\n",
      "1200:\tlearn: 0.3989247\ttest: 0.3976252\tbest: 0.3976252 (1200)\ttotal: 27.4s\tremaining: 7m 9s\n",
      "1600:\tlearn: 0.3871784\ttest: 0.3858615\tbest: 0.3858615 (1600)\ttotal: 36.8s\tremaining: 7m 2s\n",
      "2000:\tlearn: 0.3771754\ttest: 0.3763658\tbest: 0.3763658 (2000)\ttotal: 45.6s\tremaining: 6m 50s\n",
      "2400:\tlearn: 0.3696481\ttest: 0.3692932\tbest: 0.3692932 (2400)\ttotal: 54.9s\tremaining: 6m 42s\n",
      "2800:\tlearn: 0.3644306\ttest: 0.3644035\tbest: 0.3644035 (2800)\ttotal: 1m 4s\tremaining: 6m 33s\n",
      "3200:\tlearn: 0.3601720\ttest: 0.3603653\tbest: 0.3603653 (3200)\ttotal: 1m 13s\tremaining: 6m 27s\n",
      "3600:\tlearn: 0.3567909\ttest: 0.3571789\tbest: 0.3571789 (3600)\ttotal: 1m 22s\tremaining: 6m 16s\n",
      "4000:\tlearn: 0.3543994\ttest: 0.3549507\tbest: 0.3549504 (3999)\ttotal: 1m 31s\tremaining: 6m 6s\n",
      "4400:\tlearn: 0.3522067\ttest: 0.3529423\tbest: 0.3529423 (4400)\ttotal: 1m 40s\tremaining: 5m 55s\n",
      "4800:\tlearn: 0.3503806\ttest: 0.3512976\tbest: 0.3512976 (4800)\ttotal: 1m 49s\tremaining: 5m 45s\n",
      "5200:\tlearn: 0.3488366\ttest: 0.3499330\tbest: 0.3499330 (5200)\ttotal: 1m 58s\tremaining: 5m 37s\n",
      "5600:\tlearn: 0.3475618\ttest: 0.3488218\tbest: 0.3488218 (5600)\ttotal: 2m 6s\tremaining: 5m 26s\n",
      "6000:\tlearn: 0.3465969\ttest: 0.3480485\tbest: 0.3480485 (6000)\ttotal: 2m 16s\tremaining: 5m 18s\n",
      "6400:\tlearn: 0.3457546\ttest: 0.3473702\tbest: 0.3473702 (6400)\ttotal: 2m 25s\tremaining: 5m 9s\n",
      "6800:\tlearn: 0.3449424\ttest: 0.3467262\tbest: 0.3467262 (6800)\ttotal: 2m 34s\tremaining: 5m\n",
      "7200:\tlearn: 0.3443011\ttest: 0.3462771\tbest: 0.3462744 (7197)\ttotal: 2m 43s\tremaining: 4m 50s\n",
      "7600:\tlearn: 0.3436945\ttest: 0.3458247\tbest: 0.3458247 (7600)\ttotal: 2m 52s\tremaining: 4m 41s\n",
      "8000:\tlearn: 0.3431316\ttest: 0.3454272\tbest: 0.3454272 (8000)\ttotal: 3m 1s\tremaining: 4m 32s\n",
      "8400:\tlearn: 0.3426272\ttest: 0.3450940\tbest: 0.3450940 (8400)\ttotal: 3m 10s\tremaining: 4m 23s\n",
      "8800:\tlearn: 0.3421912\ttest: 0.3448394\tbest: 0.3448393 (8797)\ttotal: 3m 19s\tremaining: 4m 14s\n",
      "9200:\tlearn: 0.3417512\ttest: 0.3445411\tbest: 0.3445411 (9200)\ttotal: 3m 28s\tremaining: 4m 4s\n",
      "9600:\tlearn: 0.3413589\ttest: 0.3443071\tbest: 0.3443071 (9600)\ttotal: 3m 37s\tremaining: 3m 55s\n",
      "10000:\tlearn: 0.3410054\ttest: 0.3441144\tbest: 0.3441144 (10000)\ttotal: 3m 45s\tremaining: 3m 45s\n",
      "10400:\tlearn: 0.3406634\ttest: 0.3439573\tbest: 0.3439572 (10399)\ttotal: 3m 54s\tremaining: 3m 36s\n",
      "10800:\tlearn: 0.3403430\ttest: 0.3438018\tbest: 0.3438018 (10800)\ttotal: 4m 3s\tremaining: 3m 27s\n",
      "11200:\tlearn: 0.3400330\ttest: 0.3436462\tbest: 0.3436462 (11200)\ttotal: 4m 11s\tremaining: 3m 17s\n",
      "11600:\tlearn: 0.3397318\ttest: 0.3434823\tbest: 0.3434806 (11598)\ttotal: 4m 20s\tremaining: 3m 8s\n",
      "12000:\tlearn: 0.3394486\ttest: 0.3433699\tbest: 0.3433674 (11992)\ttotal: 4m 29s\tremaining: 2m 59s\n"
     ]
    },
    {
     "name": "stdout",
     "output_type": "stream",
     "text": [
      "12400:\tlearn: 0.3391826\ttest: 0.3432480\tbest: 0.3432480 (12400)\ttotal: 4m 38s\tremaining: 2m 50s\n",
      "12800:\tlearn: 0.3389123\ttest: 0.3431417\tbest: 0.3431409 (12783)\ttotal: 4m 46s\tremaining: 2m 41s\n",
      "13200:\tlearn: 0.3386405\ttest: 0.3430167\tbest: 0.3430167 (13200)\ttotal: 4m 56s\tremaining: 2m 32s\n",
      "13600:\tlearn: 0.3383903\ttest: 0.3429154\tbest: 0.3429152 (13597)\ttotal: 5m 4s\tremaining: 2m 23s\n",
      "14000:\tlearn: 0.3381670\ttest: 0.3428337\tbest: 0.3428335 (13999)\ttotal: 5m 12s\tremaining: 2m 13s\n",
      "14400:\tlearn: 0.3379401\ttest: 0.3427439\tbest: 0.3427439 (14400)\ttotal: 5m 20s\tremaining: 2m 4s\n",
      "14800:\tlearn: 0.3377453\ttest: 0.3426747\tbest: 0.3426747 (14800)\ttotal: 5m 29s\tremaining: 1m 55s\n",
      "15200:\tlearn: 0.3375375\ttest: 0.3426018\tbest: 0.3426017 (15176)\ttotal: 5m 38s\tremaining: 1m 46s\n",
      "15600:\tlearn: 0.3373409\ttest: 0.3425416\tbest: 0.3425416 (15599)\ttotal: 5m 46s\tremaining: 1m 37s\n",
      "16000:\tlearn: 0.3371524\ttest: 0.3424805\tbest: 0.3424800 (15997)\ttotal: 5m 56s\tremaining: 1m 28s\n",
      "16400:\tlearn: 0.3369612\ttest: 0.3424324\tbest: 0.3424302 (16394)\ttotal: 6m 5s\tremaining: 1m 20s\n",
      "16800:\tlearn: 0.3367811\ttest: 0.3423711\tbest: 0.3423685 (16788)\ttotal: 6m 16s\tremaining: 1m 11s\n",
      "17200:\tlearn: 0.3366085\ttest: 0.3423017\tbest: 0.3423017 (17200)\ttotal: 6m 25s\tremaining: 1m 2s\n",
      "17600:\tlearn: 0.3364428\ttest: 0.3422581\tbest: 0.3422554 (17562)\ttotal: 6m 36s\tremaining: 54.1s\n",
      "18000:\tlearn: 0.3362737\ttest: 0.3422071\tbest: 0.3422062 (17996)\ttotal: 6m 47s\tremaining: 45.2s\n",
      "18400:\tlearn: 0.3361262\ttest: 0.3421759\tbest: 0.3421734 (18373)\ttotal: 6m 56s\tremaining: 36.2s\n",
      "18800:\tlearn: 0.3359706\ttest: 0.3421301\tbest: 0.3421289 (18794)\ttotal: 7m 4s\tremaining: 27.1s\n",
      "19200:\tlearn: 0.3358141\ttest: 0.3420727\tbest: 0.3420712 (19195)\ttotal: 7m 13s\tremaining: 18s\n",
      "19600:\tlearn: 0.3356611\ttest: 0.3420490\tbest: 0.3420472 (19552)\ttotal: 7m 21s\tremaining: 8.99s\n",
      "Stopped by overfitting detector  (100 iterations wait)\n",
      "\n",
      "bestTest = 0.3420471537\n",
      "bestIteration = 19552\n",
      "\n",
      "Shrink model to first 19553 iterations.\n",
      "roc_auc_score: 0.9233932476693864\n",
      "--------------------------------------------------\n",
      "0:\tlearn: 0.6826903\ttest: 0.6827973\tbest: 0.6827973 (0)\ttotal: 17.9ms\tremaining: 5m 57s\n",
      "400:\tlearn: 0.4483431\ttest: 0.4511669\tbest: 0.4511669 (400)\ttotal: 8.74s\tremaining: 7m 7s\n",
      "800:\tlearn: 0.4166275\ttest: 0.4182951\tbest: 0.4182951 (800)\ttotal: 17.9s\tremaining: 7m 10s\n",
      "1200:\tlearn: 0.3990223\ttest: 0.4001464\tbest: 0.4001464 (1200)\ttotal: 27.8s\tremaining: 7m 14s\n",
      "1600:\tlearn: 0.3869677\ttest: 0.3880525\tbest: 0.3880525 (1600)\ttotal: 37s\tremaining: 7m 4s\n",
      "2000:\tlearn: 0.3776511\ttest: 0.3787972\tbest: 0.3787972 (2000)\ttotal: 46.3s\tremaining: 6m 56s\n",
      "2400:\tlearn: 0.3704614\ttest: 0.3719004\tbest: 0.3719004 (2400)\ttotal: 55.3s\tremaining: 6m 45s\n",
      "2800:\tlearn: 0.3647692\ttest: 0.3664620\tbest: 0.3664620 (2800)\ttotal: 1m 3s\tremaining: 6m 31s\n",
      "3200:\tlearn: 0.3607339\ttest: 0.3626690\tbest: 0.3626690 (3200)\ttotal: 1m 12s\tremaining: 6m 22s\n",
      "3600:\tlearn: 0.3571345\ttest: 0.3592603\tbest: 0.3592603 (3600)\ttotal: 1m 22s\tremaining: 6m 13s\n",
      "4000:\tlearn: 0.3545233\ttest: 0.3569415\tbest: 0.3569415 (4000)\ttotal: 1m 32s\tremaining: 6m 8s\n",
      "4400:\tlearn: 0.3524236\ttest: 0.3549891\tbest: 0.3549891 (4400)\ttotal: 1m 40s\tremaining: 5m 55s\n",
      "4800:\tlearn: 0.3506250\ttest: 0.3533554\tbest: 0.3533554 (4800)\ttotal: 1m 49s\tremaining: 5m 45s\n",
      "5200:\tlearn: 0.3490914\ttest: 0.3520255\tbest: 0.3520255 (5200)\ttotal: 1m 58s\tremaining: 5m 36s\n",
      "5600:\tlearn: 0.3476797\ttest: 0.3508007\tbest: 0.3508007 (5600)\ttotal: 2m 6s\tremaining: 5m 25s\n",
      "6000:\tlearn: 0.3466513\ttest: 0.3499321\tbest: 0.3499317 (5999)\ttotal: 2m 15s\tremaining: 5m 15s\n",
      "6400:\tlearn: 0.3457164\ttest: 0.3491397\tbest: 0.3491397 (6400)\ttotal: 2m 23s\tremaining: 5m 5s\n",
      "6800:\tlearn: 0.3449655\ttest: 0.3486114\tbest: 0.3486114 (6800)\ttotal: 2m 33s\tremaining: 4m 58s\n",
      "7200:\tlearn: 0.3442743\ttest: 0.3480851\tbest: 0.3480851 (7200)\ttotal: 2m 42s\tremaining: 4m 48s\n",
      "7600:\tlearn: 0.3436423\ttest: 0.3476015\tbest: 0.3476013 (7599)\ttotal: 2m 51s\tremaining: 4m 39s\n",
      "8000:\tlearn: 0.3430808\ttest: 0.3471709\tbest: 0.3471701 (7996)\ttotal: 2m 59s\tremaining: 4m 29s\n",
      "8400:\tlearn: 0.3425788\ttest: 0.3468468\tbest: 0.3468458 (8399)\ttotal: 3m 8s\tremaining: 4m 19s\n",
      "8800:\tlearn: 0.3421298\ttest: 0.3465455\tbest: 0.3465455 (8800)\ttotal: 3m 16s\tremaining: 4m 10s\n",
      "9200:\tlearn: 0.3417053\ttest: 0.3462943\tbest: 0.3462942 (9199)\ttotal: 3m 25s\tremaining: 4m 1s\n",
      "9600:\tlearn: 0.3412996\ttest: 0.3460432\tbest: 0.3460432 (9600)\ttotal: 3m 34s\tremaining: 3m 52s\n",
      "10000:\tlearn: 0.3409635\ttest: 0.3458661\tbest: 0.3458658 (9999)\ttotal: 3m 43s\tremaining: 3m 43s\n",
      "10400:\tlearn: 0.3406393\ttest: 0.3457134\tbest: 0.3457134 (10400)\ttotal: 3m 52s\tremaining: 3m 34s\n",
      "10800:\tlearn: 0.3403095\ttest: 0.3455281\tbest: 0.3455277 (10799)\ttotal: 4m\tremaining: 3m 24s\n",
      "11200:\tlearn: 0.3400169\ttest: 0.3453826\tbest: 0.3453826 (11200)\ttotal: 4m 9s\tremaining: 3m 15s\n",
      "11600:\tlearn: 0.3397352\ttest: 0.3452592\tbest: 0.3452592 (11600)\ttotal: 4m 17s\tremaining: 3m 6s\n",
      "12000:\tlearn: 0.3394584\ttest: 0.3451208\tbest: 0.3451191 (11996)\ttotal: 4m 26s\tremaining: 2m 57s\n",
      "12400:\tlearn: 0.3391871\ttest: 0.3450090\tbest: 0.3450090 (12400)\ttotal: 4m 34s\tremaining: 2m 48s\n",
      "12800:\tlearn: 0.3389368\ttest: 0.3448973\tbest: 0.3448967 (12799)\ttotal: 4m 43s\tremaining: 2m 39s\n",
      "13200:\tlearn: 0.3386950\ttest: 0.3447838\tbest: 0.3447838 (13200)\ttotal: 4m 52s\tremaining: 2m 30s\n",
      "13600:\tlearn: 0.3384628\ttest: 0.3447196\tbest: 0.3447193 (13599)\ttotal: 5m\tremaining: 2m 21s\n",
      "14000:\tlearn: 0.3382219\ttest: 0.3446150\tbest: 0.3446143 (13998)\ttotal: 5m 9s\tremaining: 2m 12s\n",
      "14400:\tlearn: 0.3379880\ttest: 0.3445257\tbest: 0.3445257 (14400)\ttotal: 5m 17s\tremaining: 2m 3s\n",
      "14800:\tlearn: 0.3377859\ttest: 0.3444592\tbest: 0.3444592 (14800)\ttotal: 5m 26s\tremaining: 1m 54s\n",
      "15200:\tlearn: 0.3375841\ttest: 0.3444000\tbest: 0.3444000 (15200)\ttotal: 5m 35s\tremaining: 1m 45s\n",
      "15600:\tlearn: 0.3373804\ttest: 0.3443222\tbest: 0.3443222 (15600)\ttotal: 5m 44s\tremaining: 1m 37s\n",
      "16000:\tlearn: 0.3371955\ttest: 0.3442553\tbest: 0.3442543 (15999)\ttotal: 5m 53s\tremaining: 1m 28s\n",
      "16400:\tlearn: 0.3369978\ttest: 0.3441784\tbest: 0.3441762 (16381)\ttotal: 6m 1s\tremaining: 1m 19s\n",
      "16800:\tlearn: 0.3368242\ttest: 0.3441261\tbest: 0.3441251 (16797)\ttotal: 6m 9s\tremaining: 1m 10s\n",
      "Stopped by overfitting detector  (100 iterations wait)\n",
      "\n",
      "bestTest = 0.3441174461\n",
      "bestIteration = 16860\n",
      "\n",
      "Shrink model to first 16861 iterations.\n",
      "roc_auc_score: 0.9224163931094976\n",
      "--------------------------------------------------\n",
      "0:\tlearn: 0.6827640\ttest: 0.6828740\tbest: 0.6828740 (0)\ttotal: 17.3ms\tremaining: 5m 45s\n",
      "400:\tlearn: 0.4486693\ttest: 0.4502001\tbest: 0.4502001 (400)\ttotal: 8.68s\tremaining: 7m 4s\n",
      "800:\tlearn: 0.4186945\ttest: 0.4200109\tbest: 0.4200109 (800)\ttotal: 18.4s\tremaining: 7m 20s\n",
      "1200:\tlearn: 0.4001986\ttest: 0.4010707\tbest: 0.4010707 (1200)\ttotal: 27s\tremaining: 7m 3s\n",
      "1600:\tlearn: 0.3871881\ttest: 0.3876613\tbest: 0.3876613 (1600)\ttotal: 36.5s\tremaining: 7m\n",
      "2000:\tlearn: 0.3783013\ttest: 0.3783393\tbest: 0.3783393 (2000)\ttotal: 45.7s\tremaining: 6m 50s\n",
      "2400:\tlearn: 0.3714040\ttest: 0.3711540\tbest: 0.3711540 (2400)\ttotal: 54.7s\tremaining: 6m 40s\n",
      "2800:\tlearn: 0.3654372\ttest: 0.3649127\tbest: 0.3649127 (2800)\ttotal: 1m 3s\tremaining: 6m 31s\n",
      "3200:\tlearn: 0.3614862\ttest: 0.3608000\tbest: 0.3608000 (3200)\ttotal: 1m 12s\tremaining: 6m 21s\n",
      "3600:\tlearn: 0.3576777\ttest: 0.3568691\tbest: 0.3568691 (3600)\ttotal: 1m 21s\tremaining: 6m 11s\n",
      "4000:\tlearn: 0.3549554\ttest: 0.3541601\tbest: 0.3541601 (4000)\ttotal: 1m 31s\tremaining: 6m 4s\n",
      "4400:\tlearn: 0.3528725\ttest: 0.3521097\tbest: 0.3521097 (4400)\ttotal: 1m 40s\tremaining: 5m 54s\n",
      "4800:\tlearn: 0.3512683\ttest: 0.3505891\tbest: 0.3505891 (4800)\ttotal: 1m 49s\tremaining: 5m 46s\n",
      "5200:\tlearn: 0.3497723\ttest: 0.3491895\tbest: 0.3491895 (5200)\ttotal: 1m 58s\tremaining: 5m 36s\n",
      "5600:\tlearn: 0.3485335\ttest: 0.3480123\tbest: 0.3480123 (5600)\ttotal: 2m 6s\tremaining: 5m 26s\n",
      "6000:\tlearn: 0.3473623\ttest: 0.3468905\tbest: 0.3468905 (6000)\ttotal: 2m 16s\tremaining: 5m 18s\n",
      "6400:\tlearn: 0.3464710\ttest: 0.3460947\tbest: 0.3460947 (6400)\ttotal: 2m 25s\tremaining: 5m 8s\n",
      "6800:\tlearn: 0.3455826\ttest: 0.3453085\tbest: 0.3453085 (6800)\ttotal: 2m 33s\tremaining: 4m 57s\n",
      "7200:\tlearn: 0.3449032\ttest: 0.3447840\tbest: 0.3447840 (7200)\ttotal: 2m 42s\tremaining: 4m 48s\n",
      "7600:\tlearn: 0.3442285\ttest: 0.3442455\tbest: 0.3442455 (7600)\ttotal: 2m 51s\tremaining: 4m 39s\n",
      "8000:\tlearn: 0.3436952\ttest: 0.3438819\tbest: 0.3438817 (7997)\ttotal: 3m 4s\tremaining: 4m 36s\n"
     ]
    },
    {
     "name": "stdout",
     "output_type": "stream",
     "text": [
      "8400:\tlearn: 0.3431386\ttest: 0.3434522\tbest: 0.3434522 (8400)\ttotal: 3m 18s\tremaining: 4m 33s\n",
      "8800:\tlearn: 0.3426278\ttest: 0.3430747\tbest: 0.3430744 (8799)\ttotal: 3m 28s\tremaining: 4m 25s\n",
      "9200:\tlearn: 0.3421632\ttest: 0.3427818\tbest: 0.3427816 (9197)\ttotal: 3m 42s\tremaining: 4m 20s\n",
      "9600:\tlearn: 0.3417276\ttest: 0.3425209\tbest: 0.3425209 (9600)\ttotal: 3m 58s\tremaining: 4m 18s\n",
      "10000:\tlearn: 0.3413678\ttest: 0.3422760\tbest: 0.3422760 (10000)\ttotal: 4m 13s\tremaining: 4m 13s\n",
      "10400:\tlearn: 0.3410308\ttest: 0.3420843\tbest: 0.3420843 (10400)\ttotal: 4m 28s\tremaining: 4m 7s\n",
      "10800:\tlearn: 0.3406907\ttest: 0.3419098\tbest: 0.3419098 (10800)\ttotal: 4m 41s\tremaining: 3m 59s\n",
      "11200:\tlearn: 0.3403706\ttest: 0.3417496\tbest: 0.3417496 (11200)\ttotal: 4m 52s\tremaining: 3m 49s\n",
      "11600:\tlearn: 0.3400658\ttest: 0.3415996\tbest: 0.3415993 (11597)\ttotal: 5m 3s\tremaining: 3m 39s\n",
      "12000:\tlearn: 0.3397919\ttest: 0.3414955\tbest: 0.3414953 (11998)\ttotal: 5m 13s\tremaining: 3m 28s\n",
      "12400:\tlearn: 0.3395276\ttest: 0.3413644\tbest: 0.3413644 (12400)\ttotal: 5m 23s\tremaining: 3m 18s\n",
      "12800:\tlearn: 0.3392830\ttest: 0.3412654\tbest: 0.3412654 (12800)\ttotal: 5m 33s\tremaining: 3m 7s\n",
      "13200:\tlearn: 0.3390409\ttest: 0.3411516\tbest: 0.3411516 (13200)\ttotal: 5m 43s\tremaining: 2m 57s\n",
      "13600:\tlearn: 0.3387904\ttest: 0.3410515\tbest: 0.3410515 (13600)\ttotal: 5m 53s\tremaining: 2m 46s\n",
      "14000:\tlearn: 0.3385615\ttest: 0.3409742\tbest: 0.3409742 (14000)\ttotal: 6m 2s\tremaining: 2m 35s\n",
      "14400:\tlearn: 0.3383397\ttest: 0.3408592\tbest: 0.3408592 (14400)\ttotal: 6m 11s\tremaining: 2m 24s\n",
      "14800:\tlearn: 0.3381173\ttest: 0.3407472\tbest: 0.3407464 (14797)\ttotal: 6m 21s\tremaining: 2m 13s\n",
      "15200:\tlearn: 0.3379132\ttest: 0.3406890\tbest: 0.3406871 (15191)\ttotal: 6m 30s\tremaining: 2m 3s\n",
      "15600:\tlearn: 0.3377123\ttest: 0.3406071\tbest: 0.3406071 (15600)\ttotal: 6m 41s\tremaining: 1m 53s\n",
      "16000:\tlearn: 0.3375138\ttest: 0.3405385\tbest: 0.3405379 (15991)\ttotal: 6m 50s\tremaining: 1m 42s\n",
      "16400:\tlearn: 0.3373205\ttest: 0.3404912\tbest: 0.3404867 (16377)\ttotal: 6m 59s\tremaining: 1m 32s\n",
      "16800:\tlearn: 0.3371337\ttest: 0.3404099\tbest: 0.3404096 (16798)\ttotal: 7m 8s\tremaining: 1m 21s\n",
      "17200:\tlearn: 0.3369605\ttest: 0.3403575\tbest: 0.3403569 (17199)\ttotal: 7m 17s\tremaining: 1m 11s\n",
      "17600:\tlearn: 0.3367924\ttest: 0.3402996\tbest: 0.3402995 (17598)\ttotal: 7m 26s\tremaining: 1m\n",
      "18000:\tlearn: 0.3366161\ttest: 0.3402433\tbest: 0.3402431 (17999)\ttotal: 7m 35s\tremaining: 50.6s\n",
      "18400:\tlearn: 0.3364533\ttest: 0.3402118\tbest: 0.3402107 (18325)\ttotal: 7m 45s\tremaining: 40.5s\n",
      "18800:\tlearn: 0.3362910\ttest: 0.3401704\tbest: 0.3401689 (18792)\ttotal: 7m 54s\tremaining: 30.3s\n",
      "19200:\tlearn: 0.3361440\ttest: 0.3401351\tbest: 0.3401324 (19194)\ttotal: 8m 4s\tremaining: 20.1s\n",
      "19600:\tlearn: 0.3359954\ttest: 0.3400941\tbest: 0.3400925 (19578)\ttotal: 8m 13s\tremaining: 10s\n",
      "19999:\tlearn: 0.3358521\ttest: 0.3400695\tbest: 0.3400662 (19984)\ttotal: 8m 22s\tremaining: 0us\n",
      "\n",
      "bestTest = 0.3400661533\n",
      "bestIteration = 19984\n",
      "\n",
      "Shrink model to first 19985 iterations.\n",
      "roc_auc_score: 0.9241332327545966\n",
      "--------------------------------------------------\n",
      "0:\tlearn: 0.6826896\ttest: 0.6826490\tbest: 0.6826490 (0)\ttotal: 18.5ms\tremaining: 6m 10s\n",
      "400:\tlearn: 0.4479625\ttest: 0.4446873\tbest: 0.4446873 (400)\ttotal: 9.84s\tremaining: 8m\n",
      "800:\tlearn: 0.4186008\ttest: 0.4158159\tbest: 0.4158159 (800)\ttotal: 19.8s\tremaining: 7m 54s\n",
      "1200:\tlearn: 0.4004298\ttest: 0.3984692\tbest: 0.3984692 (1200)\ttotal: 30.4s\tremaining: 7m 55s\n",
      "1600:\tlearn: 0.3879594\ttest: 0.3861799\tbest: 0.3861799 (1600)\ttotal: 40.2s\tremaining: 7m 41s\n",
      "2000:\tlearn: 0.3782898\ttest: 0.3763751\tbest: 0.3763751 (2000)\ttotal: 49.7s\tremaining: 7m 27s\n",
      "2400:\tlearn: 0.3708930\ttest: 0.3690932\tbest: 0.3690932 (2400)\ttotal: 1m\tremaining: 7m 21s\n",
      "2800:\tlearn: 0.3654050\ttest: 0.3634114\tbest: 0.3634114 (2800)\ttotal: 1m 10s\tremaining: 7m 11s\n",
      "3200:\tlearn: 0.3610207\ttest: 0.3590048\tbest: 0.3590048 (3200)\ttotal: 1m 19s\tremaining: 6m 58s\n",
      "3600:\tlearn: 0.3574940\ttest: 0.3555087\tbest: 0.3555087 (3600)\ttotal: 1m 30s\tremaining: 6m 49s\n",
      "4000:\tlearn: 0.3549732\ttest: 0.3530679\tbest: 0.3530679 (4000)\ttotal: 1m 40s\tremaining: 6m 41s\n",
      "4400:\tlearn: 0.3527782\ttest: 0.3509220\tbest: 0.3509220 (4400)\ttotal: 1m 49s\tremaining: 6m 28s\n",
      "4800:\tlearn: 0.3511762\ttest: 0.3495083\tbest: 0.3495066 (4798)\ttotal: 2m\tremaining: 6m 21s\n",
      "5200:\tlearn: 0.3495112\ttest: 0.3478860\tbest: 0.3478860 (5200)\ttotal: 2m 10s\tremaining: 6m 12s\n",
      "5600:\tlearn: 0.3481784\ttest: 0.3466025\tbest: 0.3466011 (5599)\ttotal: 2m 22s\tremaining: 6m 5s\n",
      "6000:\tlearn: 0.3471553\ttest: 0.3457362\tbest: 0.3457362 (6000)\ttotal: 2m 32s\tremaining: 5m 56s\n",
      "6400:\tlearn: 0.3463247\ttest: 0.3450350\tbest: 0.3450350 (6400)\ttotal: 2m 43s\tremaining: 5m 47s\n",
      "6800:\tlearn: 0.3455707\ttest: 0.3443862\tbest: 0.3443858 (6799)\ttotal: 2m 53s\tremaining: 5m 36s\n",
      "7200:\tlearn: 0.3449748\ttest: 0.3439631\tbest: 0.3439631 (7200)\ttotal: 3m 3s\tremaining: 5m 26s\n",
      "7600:\tlearn: 0.3443829\ttest: 0.3434896\tbest: 0.3434892 (7598)\ttotal: 3m 14s\tremaining: 5m 16s\n",
      "8000:\tlearn: 0.3438094\ttest: 0.3430271\tbest: 0.3430271 (8000)\ttotal: 3m 24s\tremaining: 5m 6s\n",
      "8400:\tlearn: 0.3433123\ttest: 0.3426659\tbest: 0.3426657 (8399)\ttotal: 3m 33s\tremaining: 4m 55s\n",
      "8800:\tlearn: 0.3428286\ttest: 0.3423214\tbest: 0.3423207 (8798)\ttotal: 3m 44s\tremaining: 4m 45s\n",
      "9200:\tlearn: 0.3423874\ttest: 0.3420041\tbest: 0.3420041 (9200)\ttotal: 3m 54s\tremaining: 4m 35s\n",
      "9600:\tlearn: 0.3419911\ttest: 0.3417460\tbest: 0.3417456 (9599)\ttotal: 4m 3s\tremaining: 4m 23s\n",
      "10000:\tlearn: 0.3416431\ttest: 0.3415615\tbest: 0.3415611 (9999)\ttotal: 4m 13s\tremaining: 4m 13s\n",
      "10400:\tlearn: 0.3412892\ttest: 0.3413753\tbest: 0.3413728 (10387)\ttotal: 4m 22s\tremaining: 4m 2s\n",
      "10800:\tlearn: 0.3409547\ttest: 0.3412153\tbest: 0.3412153 (10800)\ttotal: 4m 32s\tremaining: 3m 51s\n",
      "11200:\tlearn: 0.3406479\ttest: 0.3410304\tbest: 0.3410290 (11198)\ttotal: 4m 41s\tremaining: 3m 41s\n",
      "11600:\tlearn: 0.3403511\ttest: 0.3408712\tbest: 0.3408705 (11595)\ttotal: 4m 52s\tremaining: 3m 32s\n",
      "12000:\tlearn: 0.3400514\ttest: 0.3407090\tbest: 0.3407088 (11990)\ttotal: 5m 2s\tremaining: 3m 21s\n",
      "12400:\tlearn: 0.3397783\ttest: 0.3405909\tbest: 0.3405909 (12400)\ttotal: 5m 12s\tremaining: 3m 11s\n",
      "12800:\tlearn: 0.3395235\ttest: 0.3404767\tbest: 0.3404767 (12800)\ttotal: 5m 21s\tremaining: 3m\n",
      "13200:\tlearn: 0.3392966\ttest: 0.3403773\tbest: 0.3403773 (13200)\ttotal: 5m 30s\tremaining: 2m 50s\n",
      "13600:\tlearn: 0.3390431\ttest: 0.3402971\tbest: 0.3402971 (13600)\ttotal: 5m 39s\tremaining: 2m 39s\n",
      "14000:\tlearn: 0.3387910\ttest: 0.3401644\tbest: 0.3401640 (13996)\ttotal: 5m 49s\tremaining: 2m 29s\n",
      "14400:\tlearn: 0.3385701\ttest: 0.3400829\tbest: 0.3400825 (14389)\ttotal: 5m 59s\tremaining: 2m 19s\n",
      "14800:\tlearn: 0.3383583\ttest: 0.3399832\tbest: 0.3399832 (14800)\ttotal: 6m 9s\tremaining: 2m 9s\n",
      "15200:\tlearn: 0.3381460\ttest: 0.3399123\tbest: 0.3399123 (15200)\ttotal: 6m 20s\tremaining: 2m\n",
      "15600:\tlearn: 0.3379497\ttest: 0.3398150\tbest: 0.3398135 (15587)\ttotal: 6m 30s\tremaining: 1m 50s\n",
      "16000:\tlearn: 0.3377628\ttest: 0.3397529\tbest: 0.3397529 (16000)\ttotal: 6m 41s\tremaining: 1m 40s\n",
      "Stopped by overfitting detector  (100 iterations wait)\n",
      "\n",
      "bestTest = 0.3397076401\n",
      "bestIteration = 16179\n",
      "\n",
      "Shrink model to first 16180 iterations.\n",
      "roc_auc_score: 0.9245781290783437\n",
      "--------------------------------------------------\n",
      "0:\tlearn: 0.6826682\ttest: 0.6826618\tbest: 0.6826618 (0)\ttotal: 22.5ms\tremaining: 7m 29s\n",
      "400:\tlearn: 0.4495376\ttest: 0.4504206\tbest: 0.4504206 (400)\ttotal: 10.1s\tremaining: 8m 14s\n",
      "800:\tlearn: 0.4178787\ttest: 0.4198679\tbest: 0.4198679 (800)\ttotal: 20.9s\tremaining: 8m 19s\n",
      "1200:\tlearn: 0.3991962\ttest: 0.4020392\tbest: 0.4020392 (1200)\ttotal: 30.9s\tremaining: 8m 3s\n",
      "1600:\tlearn: 0.3865729\ttest: 0.3901283\tbest: 0.3901283 (1600)\ttotal: 40.6s\tremaining: 7m 46s\n",
      "2000:\tlearn: 0.3780563\ttest: 0.3821961\tbest: 0.3821961 (2000)\ttotal: 50.5s\tremaining: 7m 34s\n",
      "2400:\tlearn: 0.3704966\ttest: 0.3750850\tbest: 0.3750850 (2400)\ttotal: 1m 1s\tremaining: 7m 31s\n",
      "2800:\tlearn: 0.3646115\ttest: 0.3696252\tbest: 0.3696252 (2800)\ttotal: 1m 11s\tremaining: 7m 18s\n",
      "3200:\tlearn: 0.3601152\ttest: 0.3654519\tbest: 0.3654519 (3200)\ttotal: 1m 22s\tremaining: 7m 14s\n",
      "3600:\tlearn: 0.3566910\ttest: 0.3623674\tbest: 0.3623674 (3600)\ttotal: 1m 32s\tremaining: 7m 2s\n",
      "4000:\tlearn: 0.3538628\ttest: 0.3599104\tbest: 0.3599104 (4000)\ttotal: 1m 42s\tremaining: 6m 49s\n",
      "4400:\tlearn: 0.3515494\ttest: 0.3578755\tbest: 0.3578755 (4400)\ttotal: 1m 52s\tremaining: 6m 40s\n"
     ]
    },
    {
     "name": "stdout",
     "output_type": "stream",
     "text": [
      "4800:\tlearn: 0.3497713\ttest: 0.3563933\tbest: 0.3563933 (4800)\ttotal: 2m 2s\tremaining: 6m 27s\n",
      "5200:\tlearn: 0.3483688\ttest: 0.3552262\tbest: 0.3552262 (5200)\ttotal: 2m 12s\tremaining: 6m 16s\n",
      "5600:\tlearn: 0.3471177\ttest: 0.3542160\tbest: 0.3542160 (5600)\ttotal: 2m 23s\tremaining: 6m 8s\n",
      "6000:\tlearn: 0.3460051\ttest: 0.3533375\tbest: 0.3533375 (6000)\ttotal: 2m 33s\tremaining: 5m 57s\n",
      "6400:\tlearn: 0.3451260\ttest: 0.3526754\tbest: 0.3526754 (6400)\ttotal: 2m 43s\tremaining: 5m 46s\n",
      "6800:\tlearn: 0.3443389\ttest: 0.3521228\tbest: 0.3521225 (6795)\ttotal: 2m 53s\tremaining: 5m 36s\n",
      "7200:\tlearn: 0.3436556\ttest: 0.3516489\tbest: 0.3516489 (7200)\ttotal: 3m 3s\tremaining: 5m 26s\n",
      "7600:\tlearn: 0.3430297\ttest: 0.3512520\tbest: 0.3512520 (7600)\ttotal: 3m 13s\tremaining: 5m 16s\n",
      "8000:\tlearn: 0.3424910\ttest: 0.3509404\tbest: 0.3509404 (8000)\ttotal: 3m 26s\tremaining: 5m 9s\n",
      "8400:\tlearn: 0.3419941\ttest: 0.3506674\tbest: 0.3506674 (8400)\ttotal: 3m 37s\tremaining: 5m\n",
      "8800:\tlearn: 0.3415229\ttest: 0.3504170\tbest: 0.3504170 (8800)\ttotal: 3m 47s\tremaining: 4m 50s\n",
      "9200:\tlearn: 0.3411027\ttest: 0.3502140\tbest: 0.3502140 (9200)\ttotal: 3m 58s\tremaining: 4m 39s\n",
      "9600:\tlearn: 0.3407049\ttest: 0.3500610\tbest: 0.3500590 (9593)\ttotal: 4m 10s\tremaining: 4m 30s\n",
      "10000:\tlearn: 0.3403341\ttest: 0.3498971\tbest: 0.3498971 (10000)\ttotal: 4m 21s\tremaining: 4m 21s\n",
      "10400:\tlearn: 0.3399801\ttest: 0.3497342\tbest: 0.3497332 (10397)\ttotal: 4m 31s\tremaining: 4m 10s\n",
      "10800:\tlearn: 0.3396375\ttest: 0.3495671\tbest: 0.3495671 (10800)\ttotal: 4m 41s\tremaining: 3m 59s\n",
      "11200:\tlearn: 0.3393134\ttest: 0.3494441\tbest: 0.3494440 (11199)\ttotal: 4m 50s\tremaining: 3m 48s\n",
      "11600:\tlearn: 0.3390076\ttest: 0.3493254\tbest: 0.3493250 (11594)\ttotal: 5m\tremaining: 3m 37s\n",
      "12000:\tlearn: 0.3387310\ttest: 0.3492245\tbest: 0.3492245 (12000)\ttotal: 5m 9s\tremaining: 3m 26s\n",
      "12400:\tlearn: 0.3384359\ttest: 0.3491199\tbest: 0.3491199 (12400)\ttotal: 5m 20s\tremaining: 3m 16s\n",
      "12800:\tlearn: 0.3381471\ttest: 0.3490218\tbest: 0.3490218 (12800)\ttotal: 5m 31s\tremaining: 3m 6s\n",
      "13200:\tlearn: 0.3378997\ttest: 0.3489313\tbest: 0.3489313 (13200)\ttotal: 5m 42s\tremaining: 2m 56s\n",
      "13600:\tlearn: 0.3376576\ttest: 0.3488608\tbest: 0.3488607 (13589)\ttotal: 5m 51s\tremaining: 2m 45s\n",
      "14000:\tlearn: 0.3374351\ttest: 0.3488064\tbest: 0.3487998 (13982)\ttotal: 6m\tremaining: 2m 34s\n",
      "14400:\tlearn: 0.3372117\ttest: 0.3487360\tbest: 0.3487360 (14400)\ttotal: 6m 10s\tremaining: 2m 24s\n",
      "14800:\tlearn: 0.3369826\ttest: 0.3486611\tbest: 0.3486601 (14797)\ttotal: 6m 22s\tremaining: 2m 14s\n",
      "15200:\tlearn: 0.3367645\ttest: 0.3486042\tbest: 0.3486025 (15192)\ttotal: 6m 33s\tremaining: 2m 4s\n",
      "Stopped by overfitting detector  (100 iterations wait)\n",
      "\n",
      "bestTest = 0.3486025383\n",
      "bestIteration = 15192\n",
      "\n",
      "Shrink model to first 15193 iterations.\n",
      "roc_auc_score: 0.9196196522268665\n",
      "--------------------------------------------------\n",
      "0:\tlearn: 0.6827063\ttest: 0.6825869\tbest: 0.6825869 (0)\ttotal: 19.3ms\tremaining: 6m 26s\n",
      "400:\tlearn: 0.4460474\ttest: 0.4460707\tbest: 0.4460707 (400)\ttotal: 9.96s\tremaining: 8m 7s\n",
      "800:\tlearn: 0.4178641\ttest: 0.4186630\tbest: 0.4186630 (800)\ttotal: 19.9s\tremaining: 7m 57s\n",
      "1200:\tlearn: 0.3992205\ttest: 0.4005423\tbest: 0.4005423 (1200)\ttotal: 31.2s\tremaining: 8m 8s\n",
      "1600:\tlearn: 0.3867325\ttest: 0.3887635\tbest: 0.3887635 (1600)\ttotal: 43s\tremaining: 8m 13s\n",
      "2000:\tlearn: 0.3772150\ttest: 0.3797938\tbest: 0.3797938 (2000)\ttotal: 53.4s\tremaining: 8m\n",
      "2400:\tlearn: 0.3700387\ttest: 0.3730407\tbest: 0.3730407 (2400)\ttotal: 1m 3s\tremaining: 7m 48s\n",
      "2800:\tlearn: 0.3643074\ttest: 0.3677308\tbest: 0.3677308 (2800)\ttotal: 1m 13s\tremaining: 7m 31s\n",
      "3200:\tlearn: 0.3599388\ttest: 0.3636292\tbest: 0.3636292 (3200)\ttotal: 1m 24s\tremaining: 7m 23s\n",
      "3600:\tlearn: 0.3566467\ttest: 0.3606164\tbest: 0.3606164 (3600)\ttotal: 1m 33s\tremaining: 7m 7s\n",
      "4000:\tlearn: 0.3539966\ttest: 0.3582631\tbest: 0.3582631 (4000)\ttotal: 1m 44s\tremaining: 6m 57s\n",
      "4400:\tlearn: 0.3518174\ttest: 0.3563808\tbest: 0.3563808 (4400)\ttotal: 1m 54s\tremaining: 6m 46s\n",
      "4800:\tlearn: 0.3498921\ttest: 0.3547656\tbest: 0.3547656 (4800)\ttotal: 2m 6s\tremaining: 6m 39s\n",
      "5200:\tlearn: 0.3485544\ttest: 0.3537005\tbest: 0.3537003 (5199)\ttotal: 2m 17s\tremaining: 6m 30s\n",
      "5600:\tlearn: 0.3473186\ttest: 0.3526743\tbest: 0.3526743 (5600)\ttotal: 2m 29s\tremaining: 6m 24s\n",
      "6000:\tlearn: 0.3462165\ttest: 0.3517987\tbest: 0.3517987 (6000)\ttotal: 2m 40s\tremaining: 6m 15s\n",
      "6400:\tlearn: 0.3452717\ttest: 0.3511165\tbest: 0.3511165 (6400)\ttotal: 2m 51s\tremaining: 6m 4s\n",
      "6800:\tlearn: 0.3445210\ttest: 0.3506112\tbest: 0.3506112 (6800)\ttotal: 3m 1s\tremaining: 5m 51s\n",
      "7200:\tlearn: 0.3437688\ttest: 0.3500803\tbest: 0.3500797 (7196)\ttotal: 3m 10s\tremaining: 5m 38s\n",
      "7600:\tlearn: 0.3432321\ttest: 0.3497585\tbest: 0.3497585 (7600)\ttotal: 3m 19s\tremaining: 5m 25s\n",
      "8000:\tlearn: 0.3426704\ttest: 0.3494177\tbest: 0.3494177 (8000)\ttotal: 3m 29s\tremaining: 5m 14s\n",
      "8400:\tlearn: 0.3421560\ttest: 0.3491194\tbest: 0.3491194 (8400)\ttotal: 3m 39s\tremaining: 5m 2s\n",
      "8800:\tlearn: 0.3416947\ttest: 0.3488658\tbest: 0.3488630 (8797)\ttotal: 3m 48s\tremaining: 4m 51s\n",
      "9200:\tlearn: 0.3412746\ttest: 0.3486738\tbest: 0.3486738 (9200)\ttotal: 3m 57s\tremaining: 4m 39s\n",
      "9600:\tlearn: 0.3408952\ttest: 0.3485036\tbest: 0.3485022 (9589)\ttotal: 4m 7s\tremaining: 4m 28s\n",
      "10000:\tlearn: 0.3405265\ttest: 0.3483132\tbest: 0.3483126 (9997)\ttotal: 4m 17s\tremaining: 4m 17s\n",
      "10400:\tlearn: 0.3401611\ttest: 0.3481416\tbest: 0.3481406 (10395)\ttotal: 4m 26s\tremaining: 4m 6s\n",
      "10800:\tlearn: 0.3398303\ttest: 0.3480172\tbest: 0.3480167 (10799)\ttotal: 4m 36s\tremaining: 3m 55s\n",
      "11200:\tlearn: 0.3394945\ttest: 0.3478907\tbest: 0.3478907 (11199)\ttotal: 4m 45s\tremaining: 3m 44s\n",
      "11600:\tlearn: 0.3391907\ttest: 0.3477816\tbest: 0.3477804 (11598)\ttotal: 4m 54s\tremaining: 3m 33s\n",
      "12000:\tlearn: 0.3389144\ttest: 0.3476795\tbest: 0.3476792 (11991)\ttotal: 5m 3s\tremaining: 3m 22s\n",
      "12400:\tlearn: 0.3386556\ttest: 0.3475734\tbest: 0.3475702 (12396)\ttotal: 5m 13s\tremaining: 3m 11s\n",
      "12800:\tlearn: 0.3383506\ttest: 0.3474374\tbest: 0.3474366 (12799)\ttotal: 5m 22s\tremaining: 3m 1s\n",
      "13200:\tlearn: 0.3380988\ttest: 0.3473551\tbest: 0.3473545 (13169)\ttotal: 5m 31s\tremaining: 2m 50s\n",
      "13600:\tlearn: 0.3378524\ttest: 0.3472802\tbest: 0.3472798 (13583)\ttotal: 5m 42s\tremaining: 2m 41s\n",
      "14000:\tlearn: 0.3376263\ttest: 0.3472285\tbest: 0.3472260 (13912)\ttotal: 5m 51s\tremaining: 2m 30s\n",
      "Stopped by overfitting detector  (100 iterations wait)\n",
      "\n",
      "bestTest = 0.3472260184\n",
      "bestIteration = 13912\n",
      "\n",
      "Shrink model to first 13913 iterations.\n",
      "roc_auc_score: 0.9208576480484362\n",
      "--------------------------------------------------\n"
     ]
    }
   ],
   "source": [
    "result_cat_boost=my_cross_validation_model(X_train,y_train,CatBoostClassifier,cat_params)"
   ]
  },
  {
   "cell_type": "code",
   "execution_count": 84,
   "id": "64158895",
   "metadata": {},
   "outputs": [],
   "source": [
    "cat_boost_pred_final= result_cat_boost.predict_proba(test_df)"
   ]
  },
  {
   "cell_type": "markdown",
   "id": "551d3c72-e809-494b-99f6-9b9f097007ff",
   "metadata": {},
   "source": [
    "### Combining multiple models to get better results (Ensemble Approach)"
   ]
  },
  {
   "cell_type": "code",
   "execution_count": 85,
   "id": "c83fd8d3-5aeb-4d99-8b8a-d46d00579928",
   "metadata": {},
   "outputs": [],
   "source": [
    "final_prob_score = pd.DataFrame()\n",
    "final_prob_score = (cat_boost_pred_final + lgbm_pred + xgb_pred_final)/3"
   ]
  },
  {
   "cell_type": "code",
   "execution_count": 86,
   "id": "931f499e-fdc5-46df-b1eb-d131ab70325c",
   "metadata": {},
   "outputs": [],
   "source": [
    "catboost_df = pd.DataFrame(cat_boost_pred_final, columns=['Is_Not_Lead', 'Is_Lead'])\n",
    "catboost_df.drop(columns=['Is_Not_Lead'], inplace=True)\n",
    "\n",
    "xgb_df = pd.DataFrame(xgb_pred_final, columns=['Is_Not_Lead', 'Is_Lead'])\n",
    "xgb_df.drop(columns=['Is_Not_Lead'], inplace=True)\n",
    "\n",
    "lgbm_df = pd.DataFrame(lgbm_pred, columns=['Is_Not_Lead', 'Is_Lead'])\n",
    "lgbm_df.drop(columns=['Is_Not_Lead'], inplace=True)"
   ]
  },
  {
   "cell_type": "code",
   "execution_count": 87,
   "id": "44e7b810-d44f-4d77-aadf-6ed449cb67eb",
   "metadata": {},
   "outputs": [],
   "source": [
    "final_df = pd.DataFrame()\n",
    "final_df['ID'] = combine_df[combine_df.source=='test']['ID'].tolist()\n",
    "final_df['Is_Lead'] = (catboost_df['Is_Lead'] + xgb_df['Is_Lead'] + lgbm_df['Is_Lead'])/3"
   ]
  },
  {
   "cell_type": "code",
   "execution_count": 88,
   "id": "0d335931-f202-4f01-8d99-c1e68c98fedd",
   "metadata": {},
   "outputs": [],
   "source": [
    "final_df.to_csv(\"submission.csv\", index=False)"
   ]
  },
  {
   "cell_type": "code",
   "execution_count": null,
   "id": "073a0806-4781-482e-97d5-d19d54aa00af",
   "metadata": {},
   "outputs": [],
   "source": []
  },
  {
   "cell_type": "code",
   "execution_count": null,
   "id": "21083d39-d5eb-4b20-8b27-243fae4b547b",
   "metadata": {},
   "outputs": [],
   "source": []
  }
 ],
 "metadata": {
  "kernelspec": {
   "display_name": "Python 3",
   "language": "python",
   "name": "python3"
  },
  "language_info": {
   "codemirror_mode": {
    "name": "ipython",
    "version": 3
   },
   "file_extension": ".py",
   "mimetype": "text/x-python",
   "name": "python",
   "nbconvert_exporter": "python",
   "pygments_lexer": "ipython3",
   "version": "3.8.8"
  }
 },
 "nbformat": 4,
 "nbformat_minor": 5
}
